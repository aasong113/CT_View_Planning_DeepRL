{
 "cells": [
  {
   "cell_type": "code",
   "execution_count": 1,
   "id": "4cbe3921",
   "metadata": {},
   "outputs": [],
   "source": [
    "#pip install -e ."
   ]
  },
  {
   "cell_type": "code",
   "execution_count": 1,
   "id": "f55548b2",
   "metadata": {},
   "outputs": [],
   "source": [
    "import gym\n",
    "import gym_teen\n",
    "import numpy as np\n",
    "import time\n",
    "import sys\n",
    "import math\n",
    "import random\n",
    "from matplotlib import pyplot as plt"
   ]
  },
  {
   "cell_type": "code",
   "execution_count": 2,
   "id": "44d5a0a9",
   "metadata": {},
   "outputs": [],
   "source": [
    "def get_explore_rate(t,min_explore_rate,decay_fact):\n",
    "    return max(min_explore_rate, min(0.8, 1.0 - math.log10((t+1)/decay_fact)))\n",
    "\n",
    "\n",
    "def get_learning_rate(t,min_learning_rate,decay_fact):\n",
    "    return max(min_learning_rate, min(0.8, 1.0 - math.log10((t+1)/decay_fact)))"
   ]
  },
  {
   "cell_type": "code",
   "execution_count": 3,
   "id": "72b753b9",
   "metadata": {},
   "outputs": [],
   "source": [
    "# variables: \n",
    "neps = 20\n",
    "tstep = 200\n",
    "min_explore_rate = 0.001\n",
    "min_learning_rate = 0.2\n",
    "#grid_size = tuple((env.observation_space.high + np.ones(env.observation_space.shape)).astype(int))\n",
    "#decay_fact = np.prod(grid_size, dtype=float) / 10.0\n",
    "decay_fact = np.prod((405,405),dtype=float)/10.0\n",
    "#state_bounds = list(zip(env.observation_space.low, env.observation_space.high))\n",
    "explore_rate = get_explore_rate(0,min_explore_rate,decay_fact)\n",
    "learning_rate = get_learning_rate(0,min_learning_rate,decay_fact)"
   ]
  },
  {
   "cell_type": "code",
   "execution_count": 4,
   "id": "531a74d3",
   "metadata": {},
   "outputs": [],
   "source": [
    "max_t = np.prod((405,405),dtype=int)*100\n",
    "streak_to_end = 100\n",
    "solved_t = np.prod((405,405),dtype=int)\n"
   ]
  },
  {
   "cell_type": "code",
   "execution_count": 5,
   "id": "eaf53518",
   "metadata": {},
   "outputs": [],
   "source": [
    "def select_action(env,state, q_table,explore_rate):\n",
    "    # Select a random action\n",
    "    if random.random() < explore_rate:\n",
    "        action = env.action_space.sample()\n",
    "    # Select the action with the highest q\n",
    "    else:\n",
    "        action = int(np.argmax(q_table[state]))\n",
    "    return action"
   ]
  },
  {
   "cell_type": "code",
   "execution_count": 6,
   "id": "da2ee2c6",
   "metadata": {},
   "outputs": [],
   "source": [
    "def state_to_bucket(state,env):\n",
    "    grid_size = tuple((env.observation_space.high + np.ones(env.observation_space.shape)).astype(int))\n",
    "    state_bounds = list(zip(env.observation_space.low, env.observation_space.high))\n",
    "    bucket_indice = []\n",
    "    for i in range(len(state)):\n",
    "        if state[i] <= state_bounds[i][0]:\n",
    "            bucket_index = 0\n",
    "        elif state[i] >= state_bounds[i][1]:\n",
    "            bucket_index = grid_size[i] - 1\n",
    "        else:\n",
    "            # Mapping the state bounds to the bucket array\n",
    "            bound_width = state_bounds[i][1] - state_bounds[i][0]\n",
    "            offset = (grid_size[i]-1)*state_bounds[i][0]/bound_width\n",
    "            scaling = (grid_size[i]-1)/bound_width\n",
    "            bucket_index = int(round(scaling*state[i] - offset))\n",
    "        bucket_indice.append(bucket_index)\n",
    "    return tuple(bucket_indice)"
   ]
  },
  {
   "cell_type": "code",
   "execution_count": 7,
   "id": "632e9603",
   "metadata": {},
   "outputs": [],
   "source": [
    "def run_qlearn(env,q_table, explore_rate, learning_rate, neps=200,tstep=100):\n",
    "    env.render()\n",
    "    num_streaks = 0\n",
    "    discount_factor = 0.99\n",
    "    max_t = np.prod((405,405),dtype=int)*100\n",
    "    streak_to_end = 100\n",
    "    solved_t = np.prod((405,405),dtype=int)\n",
    "    decay_fact = np.prod((405,405),dtype=float)/10.0\n",
    "\n",
    "    t_steps = []\n",
    "    episodes = []\n",
    "    reward_at_episode = []\n",
    "    \n",
    "    for ep in range(neps):\n",
    "        if ep == 0:\n",
    "            time.sleep(1)\n",
    "        obv = env.reset()\n",
    "        print('------------'+str(ep))\n",
    "        state_0 = state_to_bucket(obv,env)\n",
    "        total_reward = 0\n",
    "        \n",
    "        for t in range(tstep):\n",
    "            # select best action and execute\n",
    "            action = select_action(env,state_0, q_table, explore_rate)\n",
    "            try: \n",
    "                obv,reward,done,_ = env.step(action)\n",
    "            except(IndexError):\n",
    "                print(action)\n",
    "                print(state_0)\n",
    "                break\n",
    "            \n",
    "            # update the state you are in, add reward (observe result)\n",
    "            state = state_to_bucket(obv,env)\n",
    "            total_reward += reward\n",
    "            #print(reward)\n",
    "            #print('cur' + str(reward))\n",
    "            #print(total_reward)\n",
    "            #print(reward, total_reward)\n",
    "            \n",
    "            # update Q-table\n",
    "            best_q = np.amax(q_table[state])\n",
    "            q_table[state_0 + (action,)] += learning_rate * (reward + discount_factor * (best_q) - q_table[state_0 + (action,)])\n",
    "            \n",
    "            # update state\n",
    "            state_0 = state\n",
    "            \n",
    "            env.render()\n",
    "            #time.sleep(0.0000001)\n",
    "            \n",
    "            \n",
    "            # update parameters\n",
    "            #explore_rate = get_explore_rate(ep,min_explore_rate,decay_fact)\n",
    "            #learning_rate = get_learning_rate(ep,min_learning_rate,decay_fact)\n",
    "            \n",
    "            if done:\n",
    "                time.sleep(1)\n",
    "                print(\"Episode %d finished after %f time steps with total reward = %f (streak %d).\"\n",
    "                      % (ep, t, total_reward, num_streaks))\n",
    "                t_steps.append(t)\n",
    "                episodes.append(ep)\n",
    "                reward_at_episode.append(total_reward)\n",
    "    \n",
    "\n",
    "                if t <= solved_t:\n",
    "                    num_streaks += 1\n",
    "                else:\n",
    "                    num_streaks = 0\n",
    "                break\n",
    "\n",
    "            elif t >= max_t - 1:\n",
    "                print(\"Episode %d timed out at %d with total reward = %f.\"\n",
    "                      % (ep, t, total_reward))\n",
    "                    \n",
    "\n",
    "\n",
    "        # It's considered done when it's solved over 120 times consecutively\n",
    "        if num_streaks > streak_to_end:\n",
    "            break\n",
    "            \n",
    "        explore_rate = get_explore_rate(ep,0.001,decay_fact)\n",
    "        learning_rate = get_learning_rate(ep,0.2,decay_fact)\n",
    "                \n",
    "    return q_table, t_steps, episodes, reward_at_episode"
   ]
  },
  {
   "cell_type": "code",
   "execution_count": 8,
   "id": "a221af94",
   "metadata": {},
   "outputs": [
    {
     "name": "stdout",
     "output_type": "stream",
     "text": [
      "pygame 2.1.2 (SDL 2.0.18, Python 3.7.12)\n",
      "Hello from the pygame community. https://www.pygame.org/contribute.html\n"
     ]
    }
   ],
   "source": [
    "q_table0 = np.zeros((405,405) + (4,), dtype=float)\n",
    "env1=gym.make('maze-v0',height=60,width=60)"
   ]
  },
  {
   "cell_type": "code",
   "execution_count": 10,
   "id": "56a5a22a",
   "metadata": {
    "scrolled": true
   },
   "outputs": [
    {
     "name": "stdout",
     "output_type": "stream",
     "text": [
      "------------0\n",
      "Episode 0 finished after 60.000000 time steps with total reward = -5153.516268 (streak 0).\n",
      "------------1\n",
      "Episode 1 finished after 2.000000 time steps with total reward = -142.287978 (streak 1).\n",
      "------------2\n",
      "Episode 2 finished after 0.000000 time steps with total reward = 1.000000 (streak 2).\n",
      "------------3\n",
      "Episode 3 finished after 483.000000 time steps with total reward = -44274.659244 (streak 3).\n",
      "------------4\n",
      "3\n",
      "(0, 0)\n",
      "------------5\n",
      "Episode 5 finished after 80.000000 time steps with total reward = -6732.185086 (streak 4).\n",
      "------------6\n",
      "Episode 6 finished after 0.000000 time steps with total reward = 1.000000 (streak 5).\n",
      "------------7\n",
      "Episode 7 finished after 0.000000 time steps with total reward = 1.000000 (streak 6).\n",
      "------------8\n",
      "Episode 8 finished after 1.000000 time steps with total reward = -85.682372 (streak 7).\n",
      "------------9\n",
      "0\n",
      "(0, 0)\n",
      "------------10\n",
      "2\n",
      "(0, 0)\n",
      "------------11\n",
      "0\n",
      "(0, 0)\n",
      "------------12\n",
      "Episode 12 finished after 459.000000 time steps with total reward = -38694.856396 (streak 8).\n",
      "------------13\n",
      "Episode 13 finished after 0.000000 time steps with total reward = 1.000000 (streak 9).\n",
      "------------14\n",
      "Episode 14 finished after 0.000000 time steps with total reward = 1.000000 (streak 10).\n",
      "------------15\n",
      "Episode 15 finished after 0.000000 time steps with total reward = 1.000000 (streak 11).\n",
      "------------16\n",
      "2\n",
      "(0, 0)\n",
      "------------17\n",
      "Episode 17 finished after 35.000000 time steps with total reward = -2792.041481 (streak 12).\n",
      "------------18\n",
      "0\n",
      "(0, 0)\n",
      "------------19\n",
      "Episode 19 finished after 0.000000 time steps with total reward = 1.000000 (streak 13).\n",
      "------------20\n",
      "Episode 20 finished after 0.000000 time steps with total reward = 1.000000 (streak 14).\n",
      "------------21\n",
      "1\n",
      "(0, 0)\n",
      "------------22\n",
      "3\n",
      "(0, 0)\n",
      "------------23\n",
      "Episode 23 finished after 30.000000 time steps with total reward = -2445.425116 (streak 15).\n",
      "------------24\n",
      "Episode 24 finished after 3.000000 time steps with total reward = -212.397092 (streak 16).\n",
      "------------25\n",
      "Episode 25 finished after 282.000000 time steps with total reward = -23684.427981 (streak 17).\n",
      "------------26\n",
      "Episode 26 finished after 0.000000 time steps with total reward = 1.000000 (streak 18).\n",
      "------------27\n",
      "Episode 27 finished after 649.000000 time steps with total reward = -57232.317397 (streak 19).\n",
      "------------28\n",
      "Episode 28 finished after 0.000000 time steps with total reward = 1.000000 (streak 20).\n",
      "------------29\n",
      "3\n",
      "(0, 0)\n",
      "------------30\n",
      "Episode 30 finished after 0.000000 time steps with total reward = 1.000000 (streak 21).\n",
      "------------31\n",
      "Episode 31 finished after 0.000000 time steps with total reward = 1.000000 (streak 22).\n",
      "------------32\n",
      "Episode 32 finished after 0.000000 time steps with total reward = 1.000000 (streak 23).\n",
      "------------33\n",
      "Episode 33 finished after 0.000000 time steps with total reward = 1.000000 (streak 24).\n",
      "------------34\n",
      "3\n",
      "(0, 0)\n",
      "------------35\n",
      "Episode 35 finished after 0.000000 time steps with total reward = 1.000000 (streak 25).\n",
      "------------36\n",
      "0\n",
      "(0, 0)\n",
      "------------37\n",
      "Episode 37 finished after 0.000000 time steps with total reward = 1.000000 (streak 26).\n",
      "------------38\n",
      "0\n",
      "(0, 0)\n",
      "------------39\n",
      "Episode 39 finished after 8.000000 time steps with total reward = -585.800767 (streak 27).\n",
      "------------40\n",
      "Episode 40 finished after 41.000000 time steps with total reward = -3708.025380 (streak 28).\n",
      "------------41\n",
      "0\n",
      "(0, 0)\n",
      "------------42\n",
      "Episode 42 finished after 0.000000 time steps with total reward = 1.000000 (streak 29).\n",
      "------------43\n"
     ]
    },
    {
     "ename": "KeyboardInterrupt",
     "evalue": "",
     "output_type": "error",
     "traceback": [
      "\u001b[1;31m---------------------------------------------------------------------------\u001b[0m",
      "\u001b[1;31mKeyboardInterrupt\u001b[0m                         Traceback (most recent call last)",
      "\u001b[1;32m~\\AppData\\Local\\Temp\\ipykernel_23444\\1235026771.py\u001b[0m in \u001b[0;36m<module>\u001b[1;34m\u001b[0m\n\u001b[1;32m----> 1\u001b[1;33m \u001b[0mfin_q_table\u001b[0m\u001b[1;33m,\u001b[0m \u001b[0mtime_steps\u001b[0m\u001b[1;33m,\u001b[0m \u001b[0mepisode\u001b[0m\u001b[1;33m,\u001b[0m \u001b[0mmax_reward_at_episode\u001b[0m \u001b[1;33m=\u001b[0m \u001b[0mrun_qlearn\u001b[0m\u001b[1;33m(\u001b[0m\u001b[0menv1\u001b[0m\u001b[1;33m,\u001b[0m\u001b[0mq_table0\u001b[0m\u001b[1;33m,\u001b[0m\u001b[0mexplore_rate\u001b[0m\u001b[1;33m,\u001b[0m\u001b[0mlearning_rate\u001b[0m\u001b[1;33m,\u001b[0m\u001b[0mneps\u001b[0m\u001b[1;33m=\u001b[0m\u001b[1;36m100\u001b[0m\u001b[1;33m,\u001b[0m\u001b[0mtstep\u001b[0m\u001b[1;33m=\u001b[0m\u001b[0mmax_t\u001b[0m\u001b[1;33m)\u001b[0m\u001b[1;33m\u001b[0m\u001b[1;33m\u001b[0m\u001b[0m\n\u001b[0m",
      "\u001b[1;32m~\\AppData\\Local\\Temp\\ipykernel_23444\\3343347649.py\u001b[0m in \u001b[0;36mrun_qlearn\u001b[1;34m(env, q_table, explore_rate, learning_rate, neps, tstep)\u001b[0m\n\u001b[0;32m     54\u001b[0m \u001b[1;33m\u001b[0m\u001b[0m\n\u001b[0;32m     55\u001b[0m             \u001b[1;32mif\u001b[0m \u001b[0mdone\u001b[0m\u001b[1;33m:\u001b[0m\u001b[1;33m\u001b[0m\u001b[1;33m\u001b[0m\u001b[0m\n\u001b[1;32m---> 56\u001b[1;33m                 \u001b[0mtime\u001b[0m\u001b[1;33m.\u001b[0m\u001b[0msleep\u001b[0m\u001b[1;33m(\u001b[0m\u001b[1;36m1\u001b[0m\u001b[1;33m)\u001b[0m\u001b[1;33m\u001b[0m\u001b[1;33m\u001b[0m\u001b[0m\n\u001b[0m\u001b[0;32m     57\u001b[0m                 print(\"Episode %d finished after %f time steps with total reward = %f (streak %d).\"\n\u001b[0;32m     58\u001b[0m                       % (ep, t, total_reward, num_streaks))\n",
      "\u001b[1;31mKeyboardInterrupt\u001b[0m: "
     ]
    }
   ],
   "source": [
    "\n",
    "fin_q_table, time_steps, episode, max_reward_at_episode = run_qlearn(env1,q_table0,explore_rate,learning_rate,neps=100,tstep=max_t)"
   ]
  },
  {
   "cell_type": "code",
   "execution_count": 17,
   "id": "0d3f97f2",
   "metadata": {},
   "outputs": [
    {
     "data": {
      "text/plain": [
       "Text(0, 0.5, '# of Time Steps')"
      ]
     },
     "execution_count": 17,
     "metadata": {},
     "output_type": "execute_result"
    },
    {
     "data": {
      "image/png": "[encoded data removed]",
      "text/plain": [
       "<Figure size 432x288 with 1 Axes>"
      ]
     },
     "metadata": {
      "needs_background": "light"
     },
     "output_type": "display_data"
    }
   ],
   "source": [
    "plt.plot(episode, time_steps)\n",
    "plt.xlabel(\"Episode Number\")\n",
    "plt.ylabel(\"# of Time Steps\")"
   ]
  },
  {
   "cell_type": "code",
   "execution_count": 18,
   "id": "29f108a1",
   "metadata": {},
   "outputs": [
    {
     "data": {
      "text/plain": [
       "Text(0, 0.5, 'Max Reward')"
      ]
     },
     "execution_count": 18,
     "metadata": {},
     "output_type": "execute_result"
    },
    {
     "data": {
      "image/png": "[encoded data removed]",
      "text/plain": [
       "<Figure size 432x288 with 1 Axes>"
      ]
     },
     "metadata": {
      "needs_background": "light"
     },
     "output_type": "display_data"
    }
   ],
   "source": [
    "plt.plot(episode, max_reward_at_episode)\n",
    "plt.xlabel(\"Episode Number\")\n",
    "plt.ylabel(\"Max Reward\")"
   ]
  },
  {
   "cell_type": "markdown",
   "id": "21a27d4b",
   "metadata": {},
   "source": [
    "# Deep RL Keras"
   ]
  },
  {
   "cell_type": "code",
   "execution_count": 13,
   "id": "7df6fbc9",
   "metadata": {},
   "outputs": [],
   "source": [
    "import numpy as np\n",
    "from tensorflow.keras.models import Sequential\n",
    "from tensorflow.keras.layers import Dense, Flatten, Convolution2D\n",
    "from tensorflow.keras.optimizers import Adam\n",
    "from rl.agents import DQNAgent\n",
    "\n",
    "# knowledge buffer from previous games\n",
    "from rl.memory import SequentialMemory\n",
    "\n",
    "# Greedy is what allows us to find the best outcome, Linear is what allows us to optimize the strategy. \n",
    "from rl.policy import LinearAnnealedPolicy, EpsGreedyQPolicy"
   ]
  },
  {
   "cell_type": "code",
   "execution_count": 15,
   "id": "1d1b2a45",
   "metadata": {},
   "outputs": [],
   "source": [
    "# takes in the states from our environment, and the actions from our environment. \n",
    "# number of frames or instances in the input. \n",
    "def build_model(height, width, channels, actions, window_length):\n",
    "    model = Sequential()\n",
    "\n",
    "    # 3 convolutional layers. \n",
    "    model.add(Convolution2D(32,(8,8),strides=(4,4), activation='relu', input_shape=(window_length,height,width, channels)))\n",
    "    model.add(Convolution2D(64,(4,4),strides=(2,2), activation='relu'))\n",
    "    model.add(Convolution2D(64,(3,3), activation='relu'))\n",
    "    model.add(Flatten())\n",
    "\n",
    "    # 3 dense layers\n",
    "    model.add(Dense(512, activation = 'relu'))\n",
    "    model.add(Dense(256, activation = 'relu'))\n",
    "    # takes image to an output of actions. \n",
    "    model.add(Dense(actions, activations='linear'))\n",
    "    return model"
   ]
  },
  {
   "cell_type": "code",
   "execution_count": 16,
   "id": "6464ee45",
   "metadata": {},
   "outputs": [],
   "source": [
    "def build_agent(model, actions, window_length2):\n",
    "    policy = LinearAnnealedPolicy(EpsGreedyQPolicy(), attr='eps', value_max=1., value_min=.1, value_test=.2, nb_steps=10000)\n",
    "    memory = SequentialMemory(limit=1000, window_length=window_length2)\n",
    "    dqn = DQNAgent(model=model, memory=memory, policy=policy,\n",
    "                  enable_dueling_network=True, dueling_type='avg', \n",
    "                   nb_actions=actions, nb_steps_warmup=1000\n",
    "                  )\n",
    "    return dqn"
   ]
  },
  {
   "cell_type": "code",
   "execution_count": 22,
   "id": "2a1204b8",
   "metadata": {},
   "outputs": [
    {
     "ename": "DependencyNotInstalled",
     "evalue": "No module named 'mujoco_py'. (HINT: you need to install mujoco_py, and also perform the setup instructions here: https://github.com/openai/mujoco-py/.)",
     "output_type": "error",
     "traceback": [
      "\u001b[1;31m---------------------------------------------------------------------------\u001b[0m",
      "\u001b[1;31mModuleNotFoundError\u001b[0m                       Traceback (most recent call last)",
      "\u001b[1;32m~\\Anaconda3\\envs\\deeplearning3.7\\lib\\site-packages\\gym\\envs\\mujoco\\mujoco_env.py\u001b[0m in \u001b[0;36m<module>\u001b[1;34m\u001b[0m\n\u001b[0;32m     11\u001b[0m \u001b[1;32mtry\u001b[0m\u001b[1;33m:\u001b[0m\u001b[1;33m\u001b[0m\u001b[1;33m\u001b[0m\u001b[0m\n\u001b[1;32m---> 12\u001b[1;33m     \u001b[1;32mimport\u001b[0m \u001b[0mmujoco_py\u001b[0m\u001b[1;33m\u001b[0m\u001b[1;33m\u001b[0m\u001b[0m\n\u001b[0m\u001b[0;32m     13\u001b[0m \u001b[1;32mexcept\u001b[0m \u001b[0mImportError\u001b[0m \u001b[1;32mas\u001b[0m \u001b[0me\u001b[0m\u001b[1;33m:\u001b[0m\u001b[1;33m\u001b[0m\u001b[1;33m\u001b[0m\u001b[0m\n",
      "\u001b[1;31mModuleNotFoundError\u001b[0m: No module named 'mujoco_py'",
      "\nDuring handling of the above exception, another exception occurred:\n",
      "\u001b[1;31mDependencyNotInstalled\u001b[0m                    Traceback (most recent call last)",
      "\u001b[1;32m~\\AppData\\Local\\Temp\\ipykernel_12508\\1903766899.py\u001b[0m in \u001b[0;36m<module>\u001b[1;34m\u001b[0m\n\u001b[1;32m----> 1\u001b[1;33m \u001b[0menv\u001b[0m \u001b[1;33m=\u001b[0m \u001b[0mgym\u001b[0m\u001b[1;33m.\u001b[0m\u001b[0mmake\u001b[0m\u001b[1;33m(\u001b[0m\u001b[1;34m'Ant-v2'\u001b[0m\u001b[1;33m)\u001b[0m\u001b[1;33m\u001b[0m\u001b[1;33m\u001b[0m\u001b[0m\n\u001b[0m",
      "\u001b[1;32m~\\Anaconda3\\envs\\deeplearning3.7\\lib\\site-packages\\gym\\envs\\registration.py\u001b[0m in \u001b[0;36mmake\u001b[1;34m(id, **kwargs)\u001b[0m\n\u001b[0;32m    233\u001b[0m \u001b[1;33m\u001b[0m\u001b[0m\n\u001b[0;32m    234\u001b[0m \u001b[1;32mdef\u001b[0m \u001b[0mmake\u001b[0m\u001b[1;33m(\u001b[0m\u001b[0mid\u001b[0m\u001b[1;33m,\u001b[0m \u001b[1;33m**\u001b[0m\u001b[0mkwargs\u001b[0m\u001b[1;33m)\u001b[0m\u001b[1;33m:\u001b[0m\u001b[1;33m\u001b[0m\u001b[1;33m\u001b[0m\u001b[0m\n\u001b[1;32m--> 235\u001b[1;33m     \u001b[1;32mreturn\u001b[0m \u001b[0mregistry\u001b[0m\u001b[1;33m.\u001b[0m\u001b[0mmake\u001b[0m\u001b[1;33m(\u001b[0m\u001b[0mid\u001b[0m\u001b[1;33m,\u001b[0m \u001b[1;33m**\u001b[0m\u001b[0mkwargs\u001b[0m\u001b[1;33m)\u001b[0m\u001b[1;33m\u001b[0m\u001b[1;33m\u001b[0m\u001b[0m\n\u001b[0m\u001b[0;32m    236\u001b[0m \u001b[1;33m\u001b[0m\u001b[0m\n\u001b[0;32m    237\u001b[0m \u001b[1;33m\u001b[0m\u001b[0m\n",
      "\u001b[1;32m~\\Anaconda3\\envs\\deeplearning3.7\\lib\\site-packages\\gym\\envs\\registration.py\u001b[0m in \u001b[0;36mmake\u001b[1;34m(self, path, **kwargs)\u001b[0m\n\u001b[0;32m    127\u001b[0m             \u001b[0mlogger\u001b[0m\u001b[1;33m.\u001b[0m\u001b[0minfo\u001b[0m\u001b[1;33m(\u001b[0m\u001b[1;34m\"Making new env: %s\"\u001b[0m\u001b[1;33m,\u001b[0m \u001b[0mpath\u001b[0m\u001b[1;33m)\u001b[0m\u001b[1;33m\u001b[0m\u001b[1;33m\u001b[0m\u001b[0m\n\u001b[0;32m    128\u001b[0m         \u001b[0mspec\u001b[0m \u001b[1;33m=\u001b[0m \u001b[0mself\u001b[0m\u001b[1;33m.\u001b[0m\u001b[0mspec\u001b[0m\u001b[1;33m(\u001b[0m\u001b[0mpath\u001b[0m\u001b[1;33m)\u001b[0m\u001b[1;33m\u001b[0m\u001b[1;33m\u001b[0m\u001b[0m\n\u001b[1;32m--> 129\u001b[1;33m         \u001b[0menv\u001b[0m \u001b[1;33m=\u001b[0m \u001b[0mspec\u001b[0m\u001b[1;33m.\u001b[0m\u001b[0mmake\u001b[0m\u001b[1;33m(\u001b[0m\u001b[1;33m**\u001b[0m\u001b[0mkwargs\u001b[0m\u001b[1;33m)\u001b[0m\u001b[1;33m\u001b[0m\u001b[1;33m\u001b[0m\u001b[0m\n\u001b[0m\u001b[0;32m    130\u001b[0m         \u001b[1;32mreturn\u001b[0m \u001b[0menv\u001b[0m\u001b[1;33m\u001b[0m\u001b[1;33m\u001b[0m\u001b[0m\n\u001b[0;32m    131\u001b[0m \u001b[1;33m\u001b[0m\u001b[0m\n",
      "\u001b[1;32m~\\Anaconda3\\envs\\deeplearning3.7\\lib\\site-packages\\gym\\envs\\registration.py\u001b[0m in \u001b[0;36mmake\u001b[1;34m(self, **kwargs)\u001b[0m\n\u001b[0;32m     87\u001b[0m             \u001b[0menv\u001b[0m \u001b[1;33m=\u001b[0m \u001b[0mself\u001b[0m\u001b[1;33m.\u001b[0m\u001b[0mentry_point\u001b[0m\u001b[1;33m(\u001b[0m\u001b[1;33m**\u001b[0m\u001b[0m_kwargs\u001b[0m\u001b[1;33m)\u001b[0m\u001b[1;33m\u001b[0m\u001b[1;33m\u001b[0m\u001b[0m\n\u001b[0;32m     88\u001b[0m         \u001b[1;32melse\u001b[0m\u001b[1;33m:\u001b[0m\u001b[1;33m\u001b[0m\u001b[1;33m\u001b[0m\u001b[0m\n\u001b[1;32m---> 89\u001b[1;33m             \u001b[0mcls\u001b[0m \u001b[1;33m=\u001b[0m \u001b[0mload\u001b[0m\u001b[1;33m(\u001b[0m\u001b[0mself\u001b[0m\u001b[1;33m.\u001b[0m\u001b[0mentry_point\u001b[0m\u001b[1;33m)\u001b[0m\u001b[1;33m\u001b[0m\u001b[1;33m\u001b[0m\u001b[0m\n\u001b[0m\u001b[0;32m     90\u001b[0m             \u001b[0menv\u001b[0m \u001b[1;33m=\u001b[0m \u001b[0mcls\u001b[0m\u001b[1;33m(\u001b[0m\u001b[1;33m**\u001b[0m\u001b[0m_kwargs\u001b[0m\u001b[1;33m)\u001b[0m\u001b[1;33m\u001b[0m\u001b[1;33m\u001b[0m\u001b[0m\n\u001b[0;32m     91\u001b[0m \u001b[1;33m\u001b[0m\u001b[0m\n",
      "\u001b[1;32m~\\Anaconda3\\envs\\deeplearning3.7\\lib\\site-packages\\gym\\envs\\registration.py\u001b[0m in \u001b[0;36mload\u001b[1;34m(name)\u001b[0m\n\u001b[0;32m     25\u001b[0m \u001b[1;32mdef\u001b[0m \u001b[0mload\u001b[0m\u001b[1;33m(\u001b[0m\u001b[0mname\u001b[0m\u001b[1;33m)\u001b[0m\u001b[1;33m:\u001b[0m\u001b[1;33m\u001b[0m\u001b[1;33m\u001b[0m\u001b[0m\n\u001b[0;32m     26\u001b[0m     \u001b[0mmod_name\u001b[0m\u001b[1;33m,\u001b[0m \u001b[0mattr_name\u001b[0m \u001b[1;33m=\u001b[0m \u001b[0mname\u001b[0m\u001b[1;33m.\u001b[0m\u001b[0msplit\u001b[0m\u001b[1;33m(\u001b[0m\u001b[1;34m\":\"\u001b[0m\u001b[1;33m)\u001b[0m\u001b[1;33m\u001b[0m\u001b[1;33m\u001b[0m\u001b[0m\n\u001b[1;32m---> 27\u001b[1;33m     \u001b[0mmod\u001b[0m \u001b[1;33m=\u001b[0m \u001b[0mimportlib\u001b[0m\u001b[1;33m.\u001b[0m\u001b[0mimport_module\u001b[0m\u001b[1;33m(\u001b[0m\u001b[0mmod_name\u001b[0m\u001b[1;33m)\u001b[0m\u001b[1;33m\u001b[0m\u001b[1;33m\u001b[0m\u001b[0m\n\u001b[0m\u001b[0;32m     28\u001b[0m     \u001b[0mfn\u001b[0m \u001b[1;33m=\u001b[0m \u001b[0mgetattr\u001b[0m\u001b[1;33m(\u001b[0m\u001b[0mmod\u001b[0m\u001b[1;33m,\u001b[0m \u001b[0mattr_name\u001b[0m\u001b[1;33m)\u001b[0m\u001b[1;33m\u001b[0m\u001b[1;33m\u001b[0m\u001b[0m\n\u001b[0;32m     29\u001b[0m     \u001b[1;32mreturn\u001b[0m \u001b[0mfn\u001b[0m\u001b[1;33m\u001b[0m\u001b[1;33m\u001b[0m\u001b[0m\n",
      "\u001b[1;32m~\\Anaconda3\\envs\\deeplearning3.7\\lib\\importlib\\__init__.py\u001b[0m in \u001b[0;36mimport_module\u001b[1;34m(name, package)\u001b[0m\n\u001b[0;32m    125\u001b[0m                 \u001b[1;32mbreak\u001b[0m\u001b[1;33m\u001b[0m\u001b[1;33m\u001b[0m\u001b[0m\n\u001b[0;32m    126\u001b[0m             \u001b[0mlevel\u001b[0m \u001b[1;33m+=\u001b[0m \u001b[1;36m1\u001b[0m\u001b[1;33m\u001b[0m\u001b[1;33m\u001b[0m\u001b[0m\n\u001b[1;32m--> 127\u001b[1;33m     \u001b[1;32mreturn\u001b[0m \u001b[0m_bootstrap\u001b[0m\u001b[1;33m.\u001b[0m\u001b[0m_gcd_import\u001b[0m\u001b[1;33m(\u001b[0m\u001b[0mname\u001b[0m\u001b[1;33m[\u001b[0m\u001b[0mlevel\u001b[0m\u001b[1;33m:\u001b[0m\u001b[1;33m]\u001b[0m\u001b[1;33m,\u001b[0m \u001b[0mpackage\u001b[0m\u001b[1;33m,\u001b[0m \u001b[0mlevel\u001b[0m\u001b[1;33m)\u001b[0m\u001b[1;33m\u001b[0m\u001b[1;33m\u001b[0m\u001b[0m\n\u001b[0m\u001b[0;32m    128\u001b[0m \u001b[1;33m\u001b[0m\u001b[0m\n\u001b[0;32m    129\u001b[0m \u001b[1;33m\u001b[0m\u001b[0m\n",
      "\u001b[1;32m~\\Anaconda3\\envs\\deeplearning3.7\\lib\\importlib\\_bootstrap.py\u001b[0m in \u001b[0;36m_gcd_import\u001b[1;34m(name, package, level)\u001b[0m\n",
      "\u001b[1;32m~\\Anaconda3\\envs\\deeplearning3.7\\lib\\importlib\\_bootstrap.py\u001b[0m in \u001b[0;36m_find_and_load\u001b[1;34m(name, import_)\u001b[0m\n",
      "\u001b[1;32m~\\Anaconda3\\envs\\deeplearning3.7\\lib\\importlib\\_bootstrap.py\u001b[0m in \u001b[0;36m_find_and_load_unlocked\u001b[1;34m(name, import_)\u001b[0m\n",
      "\u001b[1;32m~\\Anaconda3\\envs\\deeplearning3.7\\lib\\importlib\\_bootstrap.py\u001b[0m in \u001b[0;36m_load_unlocked\u001b[1;34m(spec)\u001b[0m\n",
      "\u001b[1;32m~\\Anaconda3\\envs\\deeplearning3.7\\lib\\importlib\\_bootstrap_external.py\u001b[0m in \u001b[0;36mexec_module\u001b[1;34m(self, module)\u001b[0m\n",
      "\u001b[1;32m~\\Anaconda3\\envs\\deeplearning3.7\\lib\\importlib\\_bootstrap.py\u001b[0m in \u001b[0;36m_call_with_frames_removed\u001b[1;34m(f, *args, **kwds)\u001b[0m\n",
      "\u001b[1;32m~\\Anaconda3\\envs\\deeplearning3.7\\lib\\site-packages\\gym\\envs\\mujoco\\__init__.py\u001b[0m in \u001b[0;36m<module>\u001b[1;34m\u001b[0m\n\u001b[1;32m----> 1\u001b[1;33m \u001b[1;32mfrom\u001b[0m \u001b[0mgym\u001b[0m\u001b[1;33m.\u001b[0m\u001b[0menvs\u001b[0m\u001b[1;33m.\u001b[0m\u001b[0mmujoco\u001b[0m\u001b[1;33m.\u001b[0m\u001b[0mmujoco_env\u001b[0m \u001b[1;32mimport\u001b[0m \u001b[0mMujocoEnv\u001b[0m\u001b[1;33m\u001b[0m\u001b[1;33m\u001b[0m\u001b[0m\n\u001b[0m\u001b[0;32m      2\u001b[0m \u001b[1;33m\u001b[0m\u001b[0m\n\u001b[0;32m      3\u001b[0m \u001b[1;31m# ^^^^^ so that user gets the correct error\u001b[0m\u001b[1;33m\u001b[0m\u001b[1;33m\u001b[0m\u001b[1;33m\u001b[0m\u001b[0m\n\u001b[0;32m      4\u001b[0m \u001b[1;31m# message if mujoco is not installed correctly\u001b[0m\u001b[1;33m\u001b[0m\u001b[1;33m\u001b[0m\u001b[1;33m\u001b[0m\u001b[0m\n\u001b[0;32m      5\u001b[0m \u001b[1;32mfrom\u001b[0m \u001b[0mgym\u001b[0m\u001b[1;33m.\u001b[0m\u001b[0menvs\u001b[0m\u001b[1;33m.\u001b[0m\u001b[0mmujoco\u001b[0m\u001b[1;33m.\u001b[0m\u001b[0mant\u001b[0m \u001b[1;32mimport\u001b[0m \u001b[0mAntEnv\u001b[0m\u001b[1;33m\u001b[0m\u001b[1;33m\u001b[0m\u001b[0m\n",
      "\u001b[1;32m~\\Anaconda3\\envs\\deeplearning3.7\\lib\\site-packages\\gym\\envs\\mujoco\\mujoco_env.py\u001b[0m in \u001b[0;36m<module>\u001b[1;34m\u001b[0m\n\u001b[0;32m     14\u001b[0m     raise error.DependencyNotInstalled(\n\u001b[0;32m     15\u001b[0m         \"{}. (HINT: you need to install mujoco_py, and also perform the setup instructions here: https://github.com/openai/mujoco-py/.)\".format(\n\u001b[1;32m---> 16\u001b[1;33m             \u001b[0me\u001b[0m\u001b[1;33m\u001b[0m\u001b[1;33m\u001b[0m\u001b[0m\n\u001b[0m\u001b[0;32m     17\u001b[0m         )\n\u001b[0;32m     18\u001b[0m     )\n",
      "\u001b[1;31mDependencyNotInstalled\u001b[0m: No module named 'mujoco_py'. (HINT: you need to install mujoco_py, and also perform the setup instructions here: https://github.com/openai/mujoco-py/.)"
     ]
    }
   ],
   "source": [
    "env = gym.make('Ant-v2')\n"
   ]
  },
  {
   "cell_type": "code",
   "execution_count": 18,
   "id": "3b5cb3c0",
   "metadata": {},
   "outputs": [
    {
     "name": "stdout",
     "output_type": "stream",
     "text": [
      "4\n"
     ]
    }
   ],
   "source": [
    "actions = env1.action_space.n\n",
    "print(actions)"
   ]
  },
  {
   "cell_type": "code",
   "execution_count": 19,
   "id": "a671e19d",
   "metadata": {},
   "outputs": [
    {
     "name": "stdout",
     "output_type": "stream",
     "text": [
      "(2,)\n"
     ]
    }
   ],
   "source": [
    "print( env1.observation_space.shape)"
   ]
  },
  {
   "cell_type": "code",
   "execution_count": null,
   "id": "58f8ef51",
   "metadata": {},
   "outputs": [],
   "source": [
    " model = build_model(height, width, channels, actions)"
   ]
  },
  {
   "cell_type": "code",
   "execution_count": 13,
   "id": "2e8b2863",
   "metadata": {},
   "outputs": [
    {
     "name": "stdout",
     "output_type": "stream",
     "text": [
      "(2,)\n"
     ]
    },
    {
     "ename": "AttributeError",
     "evalue": "'MazeEnvSample5x5' object has no attribute 'get_action_mearnings'",
     "output_type": "error",
     "traceback": [
      "\u001b[1;31m---------------------------------------------------------------------------\u001b[0m",
      "\u001b[1;31mAttributeError\u001b[0m                            Traceback (most recent call last)",
      "\u001b[1;32mc:\\Users\\asong18\\Desktop\\Deep_RL_View_Planning\\Deep_RL_code\\CT_View_Planning_DeepRL-042422\\gym-teen_Asong\\qlearn.ipynb Cell 16'\u001b[0m in \u001b[0;36m<module>\u001b[1;34m\u001b[0m\n\u001b[0;32m      <a href='vscode-notebook-cell:/c%3A/Users/asong18/Desktop/Deep_RL_View_Planning/Deep_RL_code/CT_View_Planning_DeepRL-042422/gym-teen_Asong/qlearn.ipynb#ch0000012?line=2'>3</a>\u001b[0m \u001b[39m#print(height, width, channels)\u001b[39;00m\n\u001b[0;32m      <a href='vscode-notebook-cell:/c%3A/Users/asong18/Desktop/Deep_RL_View_Planning/Deep_RL_code/CT_View_Planning_DeepRL-042422/gym-teen_Asong/qlearn.ipynb#ch0000012?line=3'>4</a>\u001b[0m actions \u001b[39m=\u001b[39m env1\u001b[39m.\u001b[39maction_space\u001b[39m.\u001b[39mn\n\u001b[1;32m----> <a href='vscode-notebook-cell:/c%3A/Users/asong18/Desktop/Deep_RL_View_Planning/Deep_RL_code/CT_View_Planning_DeepRL-042422/gym-teen_Asong/qlearn.ipynb#ch0000012?line=4'>5</a>\u001b[0m \u001b[39mprint\u001b[39m(env1\u001b[39m.\u001b[39;49munwrapped\u001b[39m.\u001b[39;49mget_action_mearnings())\n\u001b[0;32m      <a href='vscode-notebook-cell:/c%3A/Users/asong18/Desktop/Deep_RL_View_Planning/Deep_RL_code/CT_View_Planning_DeepRL-042422/gym-teen_Asong/qlearn.ipynb#ch0000012?line=5'>6</a>\u001b[0m \u001b[39mprint\u001b[39m(actions)\n",
      "\u001b[1;31mAttributeError\u001b[0m: 'MazeEnvSample5x5' object has no attribute 'get_action_mearnings'"
     ]
    }
   ],
   "source": [
    "#height, width, channels = env1.observation_space.shape\n",
    "print( env1.observation_space.shape)\n",
    "#print(height, width, channels)\n",
    "actions = env1.action_space.n\n",
    "print(env1.unwrapped.get_action_mearnings())\n",
    "print(actions)"
   ]
  },
  {
   "cell_type": "code",
   "execution_count": 1,
   "id": "cc2e1fad",
   "metadata": {},
   "outputs": [],
   "source": [
    "import gym\n",
    "import numpy as np\n",
    "import torch.nn as nn\n",
    "import torch.nn.functional as F\n",
    "import torch.optim as optim\n",
    "import torch as T\n",
    "from util import plot_learning_curve"
   ]
  },
  {
   "cell_type": "code",
   "execution_count": 2,
   "id": "2dcdd8d4",
   "metadata": {},
   "outputs": [],
   "source": [
    "class LinearDeepQNetwork(nn.Module):\n",
    "    def __init__(self, lr, n_actions, input_dims):\n",
    "        super(LinearDeepQNetwork, self).__init__()\n",
    "\n",
    "        self.fc1 = nn.Linear(*input_dims, 128)\n",
    "        self.fc2 = nn.Linear(128, n_actions)\n",
    "\n",
    "        self.optimizer = optim.Adam(self.parameters(), lr=lr)\n",
    "        self.loss = nn.MSELoss()\n",
    "        self.device = T.device('cuda:0' if T.cuda.is_available() else 'cpu')\n",
    "        self.to(self.device)\n",
    "\n",
    "    def forward(self, state):\n",
    "        layer1 = F.relu(self.fc1(state))\n",
    "        actions = self.fc2(layer1)\n",
    "\n",
    "        return actions\n",
    "\n",
    "\n",
    "class Agent():\n",
    "    def __init__(self, input_dims, n_actions, lr, gamma=0.99,\n",
    "                 epsilon=1.0, eps_dec=1e-5, eps_min=0.01):\n",
    "        self.lr = lr\n",
    "        self.input_dims = input_dims\n",
    "        self.n_actions = n_actions\n",
    "        self.gamma = gamma\n",
    "        self.epsilon = epsilon\n",
    "        self.eps_dec = eps_dec\n",
    "        self.eps_min = eps_min\n",
    "        self.action_space = [i for i in range(self.n_actions)]\n",
    "\n",
    "        self.Q = LinearDeepQNetwork(self.lr, self.n_actions, self.input_dims)\n",
    "\n",
    "    def choose_action(self, observation):\n",
    "        if np.random.random() > self.epsilon:\n",
    "            state = T.tensor(observation, dtype=T.float).to(self.Q.device)\n",
    "            actions = self.Q.forward(state)\n",
    "            action = T.argmax(actions).item()\n",
    "        else:\n",
    "            action = np.random.choice(self.action_space)\n",
    "\n",
    "        return action\n",
    "\n",
    "    def decrement_epsilon(self):\n",
    "        self.epsilon = self.epsilon - self.eps_dec \\\n",
    "                        if self.epsilon > self.eps_min else self.eps_min\n",
    "\n",
    "    def learn(self, state, action, reward, state_):\n",
    "        self.Q.optimizer.zero_grad()\n",
    "        states = T.tensor(state, dtype=T.float).to(self.Q.device)\n",
    "        actions = T.tensor(action).to(self.Q.device)\n",
    "        rewards = T.tensor(reward).to(self.Q.device)\n",
    "        states_ = T.tensor(state_, dtype=T.float).to(self.Q.device)\n",
    "\n",
    "        q_pred = self.Q.forward(states)[actions]\n",
    "\n",
    "        q_next = self.Q.forward(states_).max()\n",
    "\n",
    "        q_target = rewards + self.gamma*q_next\n",
    "\n",
    "        loss = self.Q.loss(q_target, q_pred).to(self.Q.device)\n",
    "        loss.backward()\n",
    "        self.Q.optimizer.step()\n",
    "        self.decrement_epsilon()"
   ]
  },
  {
   "cell_type": "code",
   "execution_count": null,
   "id": "ac3cc798",
   "metadata": {},
   "outputs": [],
   "source": [
    "env = gym.make('CartPole-v1')\n",
    "n_games = 10000\n",
    "scores = []\n",
    "eps_history = []\n",
    "\n",
    "agent = Agent(lr=0.0001, input_dims=env.observation_space.shape,\n",
    "                n_actions=env.action_space.n)\n",
    "\n",
    "for i in range(n_games):\n",
    "    score = 0\n",
    "    done = False\n",
    "    obs = env.reset()\n",
    "\n",
    "    while not done:\n",
    "        action = agent.choose_action(obs)\n",
    "        obs_, reward, done, info = env.step(action)\n",
    "        print(obs.shape)\n",
    "        print(obs)\n",
    "        score += reward\n",
    "        agent.learn(obs, action, reward, obs_)\n",
    "        obs = obs_\n",
    "    scores.append(score)\n",
    "    eps_history.append(agent.epsilon)\n",
    "\n",
    "    if i % 100 == 0:\n",
    "        avg_score = np.mean(scores[-100:])\n",
    "        print('episode ', i, 'score %.1f avg score %.1f epsilon %.2f' %\n",
    "                (score, avg_score, agent.epsilon))\n",
    "filename = 'cartpole_naive_dqn.png'\n",
    "x = [i+1 for i in range(n_games)]\n",
    "plot_learning_curve(x, scores, eps_history, filename)"
   ]
  }
 ],
 "metadata": {
  "kernelspec": {
   "display_name": "Python 3 (ipykernel)",
   "language": "python",
   "name": "python3"
  },
  "language_info": {
   "codemirror_mode": {
    "name": "ipython",
    "version": 3
   },
   "file_extension": ".py",
   "mimetype": "text/x-python",
   "name": "python",
   "nbconvert_exporter": "python",
   "pygments_lexer": "ipython3",
   "version": "3.7.12"
  }
 },
 "nbformat": 4,
 "nbformat_minor": 5
}
