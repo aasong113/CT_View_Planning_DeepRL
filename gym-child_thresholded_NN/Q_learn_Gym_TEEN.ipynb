{
 "cells": [
  {
   "cell_type": "code",
   "execution_count": 1,
   "id": "a368be90",
   "metadata": {},
   "outputs": [
    {
     "name": "stdout",
     "output_type": "stream",
     "text": [
      "Obtaining file:///home/natalie/nsalab/Users/naw1/desk2/dl/gym-child\n",
      "Requirement already satisfied: gym in /home/natalie/nsalab/Users/naw1/desk2/dl/gym (from gym-maze==0.4) (0.23.1)\n",
      "Requirement already satisfied: pygame in /home/natalie/anaconda3/lib/python3.9/site-packages (from gym-maze==0.4) (2.1.2)\n",
      "Requirement already satisfied: numpy in /home/natalie/anaconda3/lib/python3.9/site-packages (from gym-maze==0.4) (1.20.3)\n",
      "Requirement already satisfied: cloudpickle>=1.2.0 in /home/natalie/anaconda3/lib/python3.9/site-packages (from gym->gym-maze==0.4) (2.0.0)\n",
      "Requirement already satisfied: gym_notices>=0.0.4 in /home/natalie/anaconda3/lib/python3.9/site-packages (from gym->gym-maze==0.4) (0.0.6)\n",
      "Requirement already satisfied: importlib_metadata>=4.10.0 in /home/natalie/anaconda3/lib/python3.9/site-packages (from gym->gym-maze==0.4) (4.11.3)\n",
      "Requirement already satisfied: zipp>=0.5 in /home/natalie/anaconda3/lib/python3.9/site-packages (from importlib_metadata>=4.10.0->gym->gym-maze==0.4) (3.6.0)\n",
      "Installing collected packages: gym-maze\n",
      "  Attempting uninstall: gym-maze\n",
      "    Found existing installation: gym-maze 0.4\n",
      "    Uninstalling gym-maze-0.4:\n",
      "      Successfully uninstalled gym-maze-0.4\n",
      "  Running setup.py develop for gym-maze\n",
      "Successfully installed gym-maze\n",
      "Note: you may need to restart the kernel to use updated packages.\n"
     ]
    }
   ],
   "source": [
    "pip install -e ."
   ]
  },
  {
   "cell_type": "markdown",
   "id": "7345ce7d",
   "metadata": {},
   "source": [
    "# Q Learning Training Environment"
   ]
  },
  {
   "cell_type": "code",
   "execution_count": 1,
   "id": "dcbca092",
   "metadata": {},
   "outputs": [],
   "source": [
    "import gym\n",
    "#import gym_child\n",
    "import gym_teen\n",
    "import numpy as np\n",
    "import time\n",
    "import sys\n",
    "import math\n",
    "import random\n",
    "import matplotlib.pyplot as plt"
   ]
  },
  {
   "cell_type": "code",
   "execution_count": 2,
   "id": "be3044e5",
   "metadata": {},
   "outputs": [],
   "source": [
    "def get_explore_rate(t,min_explore_rate,decay_fact):\n",
    "    return max(min_explore_rate, min(0.8, 1.0 - math.log10((t+1)/decay_fact)))\n",
    "\n",
    "\n",
    "def get_learning_rate(t,min_learning_rate,decay_fact):\n",
    "    return max(min_learning_rate, min(0.8, 1.0 - math.log10((t+1)/decay_fact)))"
   ]
  },
  {
   "cell_type": "code",
   "execution_count": 3,
   "id": "d30e1462",
   "metadata": {},
   "outputs": [],
   "source": [
    "# variables: \n",
    "neps = 100\n",
    "tstep = 200\n",
    "min_explore_rate = 0.001\n",
    "min_learning_rate = 0.2\n",
    "#grid_size = tuple((env.observation_space.high + np.ones(env.observation_space.shape)).astype(int))\n",
    "#decay_fact = np.prod(grid_size, dtype=float) / 10.0\n",
    "decay_fact = np.prod((9,9),dtype=float)/10.0\n",
    "#state_bounds = list(zip(env.observation_space.low, env.observation_space.high))\n",
    "explore_rate = get_explore_rate(0,min_explore_rate,decay_fact)\n",
    "learning_rate = get_learning_rate(0,min_learning_rate,decay_fact)\n",
    "\n",
    "max_t = np.prod((9,9),dtype=int)*100\n",
    "streak_to_end = 100\n",
    "solved_t = np.prod((9,9),dtype=int)"
   ]
  },
  {
   "cell_type": "code",
   "execution_count": 4,
   "id": "5b530de2",
   "metadata": {},
   "outputs": [],
   "source": [
    "def select_action(env,state, q_table,explore_rate):\n",
    "    # Select a random action\n",
    "    if random.random() < explore_rate:\n",
    "        action = env.action_space.sample()\n",
    "    # Select the action with the highest q\n",
    "    else:\n",
    "        action = int(np.argmax(q_table[state]))\n",
    "    return action\n",
    "    \n"
   ]
  },
  {
   "cell_type": "code",
   "execution_count": 5,
   "id": "5d7d5726",
   "metadata": {},
   "outputs": [],
   "source": [
    "def state_to_bucket(state,env):\n",
    "    grid_size = tuple((env.observation_space.high + np.ones(env.observation_space.shape)).astype(int))\n",
    "    state_bounds = list(zip(env.observation_space.low, env.observation_space.high))\n",
    "    bucket_indice = []\n",
    "    for i in range(len(state)):\n",
    "        if state[i] <= state_bounds[i][0]:\n",
    "            bucket_index = 0\n",
    "        elif state[i] >= state_bounds[i][1]:\n",
    "            bucket_index = grid_size[i] - 1\n",
    "        else:\n",
    "            # Mapping the state bounds to the bucket array\n",
    "            bound_width = state_bounds[i][1] - state_bounds[i][0]\n",
    "            offset = (grid_size[i]-1)*state_bounds[i][0]/bound_width\n",
    "            scaling = (grid_size[i]-1)/bound_width\n",
    "            bucket_index = int(round(scaling*state[i] - offset))\n",
    "        bucket_indice.append(bucket_index)\n",
    "    return tuple(bucket_indice)\n",
    "\n"
   ]
  },
  {
   "cell_type": "code",
   "execution_count": 6,
   "id": "6d588830",
   "metadata": {},
   "outputs": [],
   "source": [
    "def run_qlearn(env,q_table, explore_rate, learning_rate, neps=200,tstep=100):\n",
    "    env.render()\n",
    "    num_streaks = 0\n",
    "    discount_factor = 0.99\n",
    "    max_t = np.prod((9,9),dtype=int)*100\n",
    "    streak_to_end = 100\n",
    "    solved_t = np.prod((9,9),dtype=int)\n",
    "    decay_fact = np.prod((9,9),dtype=float)/10.0\n",
    "    num_steps = []\n",
    "    episode_reward = []\n",
    "    \n",
    "    for ep in range(neps):\n",
    "        if ep == 0:\n",
    "            time.sleep(5)\n",
    "        obv = env.reset()\n",
    "        print('------------'+str(ep))\n",
    "        state_0 = state_to_bucket(obv,env)\n",
    "        total_reward = 0.0\n",
    "\n",
    "        \n",
    "        for t in range(tstep):\n",
    "            # select best action and execute\n",
    "            action = select_action(env,state_0, q_table, explore_rate)\n",
    "            obv,reward,done,_ = env.step(action)\n",
    "            \n",
    "            # update the state you are in, add reward (observe result)\n",
    "            state = state_to_bucket(obv,env)\n",
    "            total_reward += reward\n",
    "            #print('cur' + str(reward))\n",
    "            #print(total_reward)\n",
    "            #print(reward, total_reward)\n",
    "            \n",
    "            # update Q-table\n",
    "            best_q = np.amax(q_table[state])\n",
    "            q_table[state_0 + (action,)] += learning_rate * (reward + discount_factor * (best_q) - q_table[state_0 + (action,)])\n",
    "            \n",
    "            # update state\n",
    "            state_0 = state\n",
    "            \n",
    "            env.render()\n",
    "            time.sleep(0.1)\n",
    "\n",
    "            # update parameters\n",
    "            #explore_rate = get_explore_rate(ep,min_explore_rate,decay_fact)\n",
    "            #learning_rate = get_learning_rate(ep,min_learning_rate,decay_fact)\n",
    "            \n",
    "            if done:\n",
    "                episode_reward.append(total_reward)\n",
    "                num_steps.append(t+1)\n",
    "\n",
    "                \n",
    "                plt.imshow(env.render())\n",
    "                plt.show()\n",
    "\n",
    "                time.sleep(1)\n",
    "                print(\"Episode %d finished after %f time steps with total reward = %f (streak %d).\"\n",
    "                      % (ep, t, total_reward, num_streaks))\n",
    "\n",
    "                if t <= solved_t:\n",
    "                    num_streaks += 1\n",
    "                else:\n",
    "                    num_streaks = 0\n",
    "                break\n",
    "\n",
    "            elif t >= max_t - 1:\n",
    "                print(\"Episode %d timed out at %d with total reward = %f.\"\n",
    "                      % (ep, t, total_reward))\n",
    "\n",
    "        # It's considered done when it's solved over 120 times consecutively\n",
    "        if num_streaks > streak_to_end:\n",
    "            break\n",
    "            \n",
    "        explore_rate = get_explore_rate(ep,0.001,decay_fact)\n",
    "        learning_rate = get_learning_rate(ep,0.2,decay_fact)\n",
    "                \n",
    "    return q_table, num_steps, episode_reward"
   ]
  },
  {
   "cell_type": "code",
   "execution_count": 7,
   "id": "ce409e5c",
   "metadata": {
    "scrolled": true
   },
   "outputs": [
    {
     "name": "stdout",
     "output_type": "stream",
     "text": [
      "pygame 2.1.2 (SDL 2.0.18, Python 3.7.12)\n",
      "Hello from the pygame community. https://www.pygame.org/contribute.html\n",
      "------------0\n"
     ]
    }
   ],
   "source": [
    "# Run Training \n",
    "\n",
    "# This is for no grid gray scale. \n",
    "#    def __init__(self, maze_file = None, width=None,height=None,target_x = None, target_y = None)\n",
    "#env_qlearn = gym.make('maze-v0',height=60,width=60, target_x = 135, target_y = 180)\n",
    "env_qlearn = gym.make('maze-v0',height=60,width=60)\n",
    "#Make Q table\n",
    "q_table0 = np.zeros((405,405) + (4,), dtype=float)\n",
    "\n",
    "# still uses a 9x9 grid. \n",
    "#env_qlearn = gym.make('maze-v0')\n",
    "#Make Q Table \n",
    "#q_table0 = np.zeros((9,9) + (4,), dtype=float)\n",
    "\n",
    "\n",
    "fin_q_table, num_steps, episode_reward  = run_qlearn(env_qlearn,q_table0,explore_rate,learning_rate,neps=200,tstep=max_t)"
   ]
  },
  {
   "cell_type": "code",
   "execution_count": null,
   "id": "0a13e5cc",
   "metadata": {},
   "outputs": [
    {
     "data": {
      "image/png": "[encoded data removed]",
      "text/plain": [
       "<Figure size 432x288 with 2 Axes>"
      ]
     },
     "metadata": {},
     "output_type": "display_data"
    }
   ],
   "source": [
    "import matplotlib.pyplot as plt\n",
    "# length = len(fit.history['nb_episode_steps'])\n",
    "length = 100\n",
    "fig = plt.figure()\n",
    "ax = fig.add_subplot(111, label=\"1\")\n",
    "ax2 = fig.add_subplot(111, label=\"2\", frame_on=False)\n",
    "ax.plot(range(length), num_steps[0:100], color=\"C0\")\n",
    "ax.set_xlabel(\"Episodes\", color=\"C0\")\n",
    "ax.set_ylabel(\"Total Steps\", color=\"C0\")\n",
    "ax.tick_params(axis='x', colors=\"C0\")\n",
    "ax.tick_params(axis='y', colors=\"C0\")\n",
    "ax2.scatter(range(length), episode_reward[0:100], color=\"C1\")\n",
    "ax2.axes.get_xaxis().set_visible(False)\n",
    "ax2.yaxis.tick_right()\n",
    "ax2.set_ylabel('Episode Reward', color=\"C1\")\n",
    "ax2.yaxis.set_label_position('right')\n",
    "ax2.tick_params(axis='y', colors=\"C1\")\n",
    "ax.set_title(\"Traditional Q-Learning \\n Reward and Steps to Goal vs. Episodes\")\n",
    "fig.savefig(f\"Thresholded_Traditional_Q_learn_{length}eps\")"
   ]
  },
  {
   "cell_type": "code",
   "execution_count": null,
   "id": "60659436",
   "metadata": {},
   "outputs": [
    {
     "data": {
      "text/plain": [
       "(10, 10, 4)"
      ]
     },
     "execution_count": 15,
     "metadata": {},
     "output_type": "execute_result"
    }
   ],
   "source": [
    "fin_q_table.shape"
   ]
  },
  {
   "cell_type": "code",
   "execution_count": null,
   "id": "ef8145ab",
   "metadata": {},
   "outputs": [
    {
     "data": {
      "text/plain": [
       "8.73913043478261"
      ]
     },
     "execution_count": 21,
     "metadata": {},
     "output_type": "execute_result"
    }
   ],
   "source": [
    "sum(num_steps[100::])/len(num_steps[100::])"
   ]
  },
  {
   "cell_type": "code",
   "execution_count": null,
   "id": "a82b2f95",
   "metadata": {},
   "outputs": [],
   "source": [
    "import matplotlib.pyplot as plt\n",
    "import seaborn as sns"
   ]
  },
  {
   "cell_type": "code",
   "execution_count": null,
   "id": "7f9f0dc4",
   "metadata": {},
   "outputs": [],
   "source": [
    "#### ACTION = [\"N\", \"S\", \"E\", \"W\"]"
   ]
  },
  {
   "cell_type": "code",
   "execution_count": null,
   "id": "76fb177c",
   "metadata": {},
   "outputs": [
    {
     "data": {
      "text/plain": [
       "<AxesSubplot:>"
      ]
     },
     "execution_count": 34,
     "metadata": {},
     "output_type": "execute_result"
    },
    {
     "data": {
      "image/png": "[encoded data removed]",
      "text/plain": [
       "<Figure size 360x576 with 2 Axes>"
      ]
     },
     "metadata": {
      "needs_background": "light"
     },
     "output_type": "display_data"
    }
   ],
   "source": [
    "fig,ax = plt.subplots(figsize=(5,8))\n",
    "sns.heatmap(fin_q_table[4,:,:],annot=True)"
   ]
  }
 ],
 "metadata": {
  "kernelspec": {
   "display_name": "Python 3 (ipykernel)",
   "language": "python",
   "name": "python3"
  },
  "language_info": {
   "codemirror_mode": {
    "name": "ipython",
    "version": 3
   },
   "file_extension": ".py",
   "mimetype": "text/x-python",
   "name": "python",
   "nbconvert_exporter": "python",
   "pygments_lexer": "ipython3",
   "version": "3.7.12"
  }
 },
 "nbformat": 4,
 "nbformat_minor": 5
}
