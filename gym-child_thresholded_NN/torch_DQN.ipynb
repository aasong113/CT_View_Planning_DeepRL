{
 "cells": [
  {
   "cell_type": "code",
   "execution_count": 1,
   "id": "a368be90",
   "metadata": {},
   "outputs": [
    {
     "name": "stdout",
     "output_type": "stream",
     "text": [
      "Obtaining file:///home/natalie/nsalab/Users/naw1/desk2/dl/gym-child\n",
      "Requirement already satisfied: gym in /home/natalie/nsalab/Users/naw1/desk2/dl/gym (from gym-maze==0.4) (0.23.1)\n",
      "Requirement already satisfied: pygame in /home/natalie/anaconda3/lib/python3.9/site-packages (from gym-maze==0.4) (2.1.2)\n",
      "Requirement already satisfied: numpy in /home/natalie/anaconda3/lib/python3.9/site-packages (from gym-maze==0.4) (1.20.3)\n",
      "Requirement already satisfied: cloudpickle>=1.2.0 in /home/natalie/anaconda3/lib/python3.9/site-packages (from gym->gym-maze==0.4) (2.0.0)\n",
      "Requirement already satisfied: gym_notices>=0.0.4 in /home/natalie/anaconda3/lib/python3.9/site-packages (from gym->gym-maze==0.4) (0.0.6)\n",
      "Requirement already satisfied: importlib_metadata>=4.10.0 in /home/natalie/anaconda3/lib/python3.9/site-packages (from gym->gym-maze==0.4) (4.11.3)\n",
      "Requirement already satisfied: zipp>=0.5 in /home/natalie/anaconda3/lib/python3.9/site-packages (from importlib_metadata>=4.10.0->gym->gym-maze==0.4) (3.6.0)\n",
      "Installing collected packages: gym-maze\n",
      "  Attempting uninstall: gym-maze\n",
      "    Found existing installation: gym-maze 0.4\n",
      "    Uninstalling gym-maze-0.4:\n",
      "      Successfully uninstalled gym-maze-0.4\n",
      "  Running setup.py develop for gym-maze\n",
      "Successfully installed gym-maze\n",
      "Note: you may need to restart the kernel to use updated packages.\n"
     ]
    }
   ],
   "source": [
    "pip install -e ."
   ]
  },
  {
   "cell_type": "markdown",
   "id": "7345ce7d",
   "metadata": {},
   "source": [
    "# Q Learning Training Environment"
   ]
  },
  {
   "cell_type": "code",
   "execution_count": 8,
   "id": "dcbca092",
   "metadata": {},
   "outputs": [],
   "source": [
    "import gym\n",
    "import gym_child\n",
    "import numpy as np\n",
    "import time\n",
    "import sys\n",
    "import math\n",
    "import random"
   ]
  },
  {
   "cell_type": "code",
   "execution_count": 10,
   "id": "be3044e5",
   "metadata": {},
   "outputs": [],
   "source": [
    "def get_explore_rate(t,min_explore_rate,decay_fact):\n",
    "    return max(min_explore_rate, min(0.8, 1.0 - math.log10((t+1)/decay_fact)))\n",
    "\n",
    "\n",
    "def get_learning_rate(t,min_learning_rate,decay_fact):\n",
    "    return max(min_learning_rate, min(0.8, 1.0 - math.log10((t+1)/decay_fact)))"
   ]
  },
  {
   "cell_type": "code",
   "execution_count": 11,
   "id": "d30e1462",
   "metadata": {},
   "outputs": [],
   "source": [
    "# variables: \n",
    "neps = 20\n",
    "tstep = 200\n",
    "min_explore_rate = 0.001\n",
    "min_learning_rate = 0.2\n",
    "#grid_size = tuple((env.observation_space.high + np.ones(env.observation_space.shape)).astype(int))\n",
    "#decay_fact = np.prod(grid_size, dtype=float) / 10.0\n",
    "decay_fact = np.prod((9,9),dtype=float)/10.0\n",
    "#state_bounds = list(zip(env.observation_space.low, env.observation_space.high))\n",
    "explore_rate = get_explore_rate(0,min_explore_rate,decay_fact)\n",
    "learning_rate = get_learning_rate(0,min_learning_rate,decay_fact)"
   ]
  },
  {
   "cell_type": "code",
   "execution_count": 12,
   "id": "5b530de2",
   "metadata": {},
   "outputs": [],
   "source": [
    "max_t = np.prod((9,9),dtype=int)*100\n",
    "streak_to_end = 100\n",
    "solved_t = np.prod((9,9),dtype=int)\n"
   ]
  },
  {
   "cell_type": "code",
   "execution_count": 13,
   "id": "fae4c57a",
   "metadata": {},
   "outputs": [],
   "source": [
    "def select_action(env,state, q_table,explore_rate):\n",
    "    # Select a random action\n",
    "    if random.random() < explore_rate:\n",
    "        action = env.action_space.sample()\n",
    "    # Select the action with the highest q\n",
    "    else:\n",
    "        action = int(np.argmax(q_table[state]))\n",
    "    return action"
   ]
  },
  {
   "cell_type": "code",
   "execution_count": 14,
   "id": "5d7d5726",
   "metadata": {},
   "outputs": [],
   "source": [
    "def state_to_bucket(state,env):\n",
    "    grid_size = tuple((env.observation_space.high + np.ones(env.observation_space.shape)).astype(int))\n",
    "    state_bounds = list(zip(env.observation_space.low, env.observation_space.high))\n",
    "    bucket_indice = []\n",
    "    for i in range(len(state)):\n",
    "        if state[i] <= state_bounds[i][0]:\n",
    "            bucket_index = 0\n",
    "        elif state[i] >= state_bounds[i][1]:\n",
    "            bucket_index = grid_size[i] - 1\n",
    "        else:\n",
    "            # Mapping the state bounds to the bucket array\n",
    "            bound_width = state_bounds[i][1] - state_bounds[i][0]\n",
    "            offset = (grid_size[i]-1)*state_bounds[i][0]/bound_width\n",
    "            scaling = (grid_size[i]-1)/bound_width\n",
    "            bucket_index = int(round(scaling*state[i] - offset))\n",
    "        bucket_indice.append(bucket_index)\n",
    "    return tuple(bucket_indice)"
   ]
  },
  {
   "cell_type": "code",
   "execution_count": 15,
   "id": "6d588830",
   "metadata": {},
   "outputs": [],
   "source": [
    "def run_qlearn(env,q_table, explore_rate, learning_rate, neps=200,tstep=100):\n",
    "    env.render()\n",
    "    num_streaks = 0\n",
    "    discount_factor = 0.99\n",
    "    max_t = np.prod((9,9),dtype=int)*100\n",
    "    streak_to_end = 100\n",
    "    solved_t = np.prod((9,9),dtype=int)\n",
    "    decay_fact = np.prod((9,9),dtype=float)/10.0\n",
    "    \n",
    "    for ep in range(neps):\n",
    "        if ep == 0:\n",
    "            time.sleep(5)\n",
    "        obv = env.reset()\n",
    "        print('------------'+str(ep))\n",
    "        state_0 = state_to_bucket(obv,env)\n",
    "        total_reward = 0\n",
    "        \n",
    "        for t in range(tstep):\n",
    "            # select best action and execute\n",
    "            action = select_action(env,state_0, q_table, explore_rate)\n",
    "            obv,reward,done,_ = env.step(action)\n",
    "            \n",
    "            # update the state you are in, add reward (observe result)\n",
    "            state = state_to_bucket(obv,env)\n",
    "            total_reward += reward\n",
    "            #print('cur' + str(reward))\n",
    "            #print(total_reward)\n",
    "            #print(reward, total_reward)\n",
    "            \n",
    "            # update Q-table\n",
    "            best_q = np.amax(q_table[state])\n",
    "            q_table[state_0 + (action,)] += learning_rate * (reward + discount_factor * (best_q) - q_table[state_0 + (action,)])\n",
    "            \n",
    "            # update state\n",
    "            state_0 = state\n",
    "            \n",
    "            env.render()\n",
    "            time.sleep(0.1)\n",
    "            \n",
    "            \n",
    "            # update parameters\n",
    "            #explore_rate = get_explore_rate(ep,min_explore_rate,decay_fact)\n",
    "            #learning_rate = get_learning_rate(ep,min_learning_rate,decay_fact)\n",
    "            \n",
    "            if done:\n",
    "                time.sleep(1)\n",
    "                print(\"Episode %d finished after %f time steps with total reward = %f (streak %d).\"\n",
    "                      % (ep, t, total_reward, num_streaks))\n",
    "\n",
    "                if t <= solved_t:\n",
    "                    num_streaks += 1\n",
    "                else:\n",
    "                    num_streaks = 0\n",
    "                break\n",
    "\n",
    "            elif t >= max_t - 1:\n",
    "                print(\"Episode %d timed out at %d with total reward = %f.\"\n",
    "                      % (ep, t, total_reward))\n",
    "\n",
    "        # It's considered done when it's solved over 120 times consecutively\n",
    "        if num_streaks > streak_to_end:\n",
    "            break\n",
    "            \n",
    "        explore_rate = get_explore_rate(ep,0.001,decay_fact)\n",
    "        learning_rate = get_learning_rate(ep,0.2,decay_fact)\n",
    "                \n",
    "    return q_table"
   ]
  },
  {
   "cell_type": "code",
   "execution_count": 8,
   "id": "afd3c603",
   "metadata": {},
   "outputs": [],
   "source": [
    "#Make Q Table \n",
    "q_table0 = np.zeros((9,9) + (4,), dtype=float)"
   ]
  },
  {
   "cell_type": "code",
   "execution_count": 9,
   "id": "ce409e5c",
   "metadata": {
    "scrolled": true
   },
   "outputs": [
    {
     "name": "stdout",
     "output_type": "stream",
     "text": [
      "pygame 2.1.2 (SDL 2.0.18, Python 3.7.12)\n",
      "Hello from the pygame community. https://www.pygame.org/contribute.html\n",
      "------------0\n",
      "Episode 0 finished after 18.000000 time steps with total reward = -790.581122 (streak 0).\n",
      "------------1\n"
     ]
    },
    {
     "ename": "KeyboardInterrupt",
     "evalue": "",
     "output_type": "error",
     "traceback": [
      "\u001b[1;31m---------------------------------------------------------------------------\u001b[0m",
      "\u001b[1;31mKeyboardInterrupt\u001b[0m                         Traceback (most recent call last)",
      "\u001b[1;32m~\\AppData\\Local\\Temp\\ipykernel_10280\\1783164.py\u001b[0m in \u001b[0;36m<module>\u001b[1;34m\u001b[0m\n\u001b[0;32m      1\u001b[0m \u001b[1;31m# Run Training\u001b[0m\u001b[1;33m\u001b[0m\u001b[1;33m\u001b[0m\u001b[1;33m\u001b[0m\u001b[0m\n\u001b[1;32m----> 2\u001b[1;33m \u001b[0mfin_q_table\u001b[0m \u001b[1;33m=\u001b[0m \u001b[0mrun_qlearn\u001b[0m\u001b[1;33m(\u001b[0m\u001b[0mgym\u001b[0m\u001b[1;33m.\u001b[0m\u001b[0mmake\u001b[0m\u001b[1;33m(\u001b[0m\u001b[1;34m'maze-v0'\u001b[0m\u001b[1;33m)\u001b[0m\u001b[1;33m,\u001b[0m\u001b[0mq_table0\u001b[0m\u001b[1;33m,\u001b[0m\u001b[0mexplore_rate\u001b[0m\u001b[1;33m,\u001b[0m\u001b[0mlearning_rate\u001b[0m\u001b[1;33m,\u001b[0m\u001b[0mneps\u001b[0m\u001b[1;33m=\u001b[0m\u001b[1;36m100\u001b[0m\u001b[1;33m,\u001b[0m\u001b[0mtstep\u001b[0m\u001b[1;33m=\u001b[0m\u001b[0mmax_t\u001b[0m\u001b[1;33m)\u001b[0m\u001b[1;33m\u001b[0m\u001b[1;33m\u001b[0m\u001b[0m\n\u001b[0m",
      "\u001b[1;32m~\\AppData\\Local\\Temp\\ipykernel_10280\\323084273.py\u001b[0m in \u001b[0;36mrun_qlearn\u001b[1;34m(env, q_table, explore_rate, learning_rate, neps, tstep)\u001b[0m\n\u001b[0;32m     36\u001b[0m \u001b[1;33m\u001b[0m\u001b[0m\n\u001b[0;32m     37\u001b[0m             \u001b[0menv\u001b[0m\u001b[1;33m.\u001b[0m\u001b[0mrender\u001b[0m\u001b[1;33m(\u001b[0m\u001b[1;33m)\u001b[0m\u001b[1;33m\u001b[0m\u001b[1;33m\u001b[0m\u001b[0m\n\u001b[1;32m---> 38\u001b[1;33m             \u001b[0mtime\u001b[0m\u001b[1;33m.\u001b[0m\u001b[0msleep\u001b[0m\u001b[1;33m(\u001b[0m\u001b[1;36m0.1\u001b[0m\u001b[1;33m)\u001b[0m\u001b[1;33m\u001b[0m\u001b[1;33m\u001b[0m\u001b[0m\n\u001b[0m\u001b[0;32m     39\u001b[0m \u001b[1;33m\u001b[0m\u001b[0m\n\u001b[0;32m     40\u001b[0m \u001b[1;33m\u001b[0m\u001b[0m\n",
      "\u001b[1;31mKeyboardInterrupt\u001b[0m: "
     ]
    }
   ],
   "source": [
    "# Run Training \n",
    "fin_q_table = run_qlearn(gym.make('maze-v0'),q_table0,explore_rate,learning_rate,neps=100,tstep=max_t)"
   ]
  },
  {
   "cell_type": "code",
   "execution_count": 15,
   "id": "60659436",
   "metadata": {},
   "outputs": [
    {
     "data": {
      "text/plain": [
       "(10, 10, 4)"
      ]
     },
     "execution_count": 15,
     "metadata": {},
     "output_type": "execute_result"
    }
   ],
   "source": [
    "fin_q_table.shape"
   ]
  },
  {
   "cell_type": "code",
   "execution_count": 13,
   "id": "a82b2f95",
   "metadata": {},
   "outputs": [],
   "source": [
    "import matplotlib.pyplot as plt\n",
    "import seaborn as sns"
   ]
  },
  {
   "cell_type": "code",
   "execution_count": null,
   "id": "7f9f0dc4",
   "metadata": {},
   "outputs": [],
   "source": [
    "#### ACTION = [\"N\", \"S\", \"E\", \"W\"]"
   ]
  },
  {
   "cell_type": "code",
   "execution_count": 34,
   "id": "76fb177c",
   "metadata": {},
   "outputs": [
    {
     "data": {
      "text/plain": [
       "<AxesSubplot:>"
      ]
     },
     "execution_count": 34,
     "metadata": {},
     "output_type": "execute_result"
    },
    {
     "data": {
      "image/png": "[encoded data removed]",
      "text/plain": [
       "<Figure size 360x576 with 2 Axes>"
      ]
     },
     "metadata": {
      "needs_background": "light"
     },
     "output_type": "display_data"
    }
   ],
   "source": [
    "fig,ax = plt.subplots(figsize=(5,8))\n",
    "sns.heatmap(fin_q_table[4,:,:],annot=True)"
   ]
  },
  {
   "cell_type": "code",
   "execution_count": null,
   "id": "5d0d2d5e",
   "metadata": {},
   "outputs": [],
   "source": []
  },
  {
   "cell_type": "markdown",
   "id": "d4ddfafd",
   "metadata": {},
   "source": [
    "# Torch DQN \n",
    "\n",
    "https://pytorch.org/tutorials/intermediate/reinforcement_q_learning.html\n",
    "\n"
   ]
  },
  {
   "cell_type": "code",
   "execution_count": 1,
   "id": "94604268",
   "metadata": {},
   "outputs": [
    {
     "name": "stdout",
     "output_type": "stream",
     "text": [
      "pygame 2.1.2 (SDL 2.0.18, Python 3.7.12)\n",
      "Hello from the pygame community. https://www.pygame.org/contribute.html\n"
     ]
    }
   ],
   "source": [
    "import gym\n",
    "import math\n",
    "import random\n",
    "import numpy as np\n",
    "import matplotlib\n",
    "import matplotlib.pyplot as plt\n",
    "from collections import namedtuple, deque\n",
    "from itertools import count\n",
    "from PIL import Image\n",
    "\n",
    "import torch\n",
    "import torch.nn as nn\n",
    "import torch.optim as optim\n",
    "import torch.nn.functional as F\n",
    "import torchvision.transforms as T\n",
    "\n",
    "import gym\n",
    "import gym_child\n",
    "import time\n",
    "import sys\n",
    "\n",
    "\n",
    "# Load a FOV grabber for pelvis. \n",
    "env = gym.make('maze-v0')\n",
    "\n",
    "# set up matplotlib\n",
    "is_ipython = 'inline' in matplotlib.get_backend()\n",
    "if is_ipython:\n",
    "    from IPython import display\n",
    "\n",
    "plt.ion()\n",
    "\n",
    "# if gpu is to be used\n",
    "device = torch.device(\"cuda\" if torch.cuda.is_available() else \"cpu\")"
   ]
  },
  {
   "cell_type": "code",
   "execution_count": 2,
   "id": "77da3aa0",
   "metadata": {},
   "outputs": [],
   "source": [
    "Transition = namedtuple('Transition',\n",
    "                        ('state', 'action', 'next_state', 'reward'))\n",
    "\n",
    "\n",
    "class ReplayMemory(object):\n",
    "\n",
    "    def __init__(self, capacity):\n",
    "        self.memory = deque([],maxlen=capacity)\n",
    "\n",
    "    def push(self, *args):\n",
    "        \"\"\"Save a transition\"\"\"\n",
    "        self.memory.append(Transition(*args))\n",
    "\n",
    "    def sample(self, batch_size):\n",
    "        return random.sample(self.memory, batch_size)\n",
    "\n",
    "    def __len__(self):\n",
    "        return len(self.memory)"
   ]
  },
  {
   "cell_type": "code",
   "execution_count": 3,
   "id": "5ee579dd",
   "metadata": {},
   "outputs": [],
   "source": [
    "class DQN(nn.Module):\n",
    "\n",
    "    def __init__(self, h, w, outputs):\n",
    "        super(DQN, self).__init__()\n",
    "        self.conv1 = nn.Conv2d(3, 16, kernel_size=5, stride=2)\n",
    "        self.bn1 = nn.BatchNorm2d(16)\n",
    "        self.conv2 = nn.Conv2d(16, 32, kernel_size=5, stride=2)\n",
    "        self.bn2 = nn.BatchNorm2d(32)\n",
    "        self.conv3 = nn.Conv2d(32, 32, kernel_size=5, stride=2)\n",
    "        self.bn3 = nn.BatchNorm2d(32)\n",
    "\n",
    "        # Number of Linear input connections depends on output of conv2d layers\n",
    "        # and therefore the input image size, so compute it.\n",
    "        def conv2d_size_out(size, kernel_size = 5, stride = 2):\n",
    "            return (size - (kernel_size - 1) - 1) // stride  + 1\n",
    "        convw = conv2d_size_out(conv2d_size_out(conv2d_size_out(w)))\n",
    "        convh = conv2d_size_out(conv2d_size_out(conv2d_size_out(h)))\n",
    "        linear_input_size = convw * convh * 32\n",
    "        self.head = nn.Linear(linear_input_size, outputs)\n",
    "\n",
    "    # Called with either one element to determine next action, or a batch\n",
    "    # during optimization. Returns tensor([[left0exp,right0exp]...]).\n",
    "    def forward(self, x):\n",
    "        x = x.to(device)\n",
    "        x = F.relu(self.bn1(self.conv1(x)))\n",
    "        x = F.relu(self.bn2(self.conv2(x)))\n",
    "        x = F.relu(self.bn3(self.conv3(x)))\n",
    "        return self.head(x.view(x.size(0), -1))"
   ]
  },
  {
   "cell_type": "code",
   "execution_count": 6,
   "id": "20ee9103",
   "metadata": {},
   "outputs": [
    {
     "name": "stderr",
     "output_type": "stream",
     "text": [
      "C:\\Users\\asong18\\Anaconda3\\envs\\deeplearning3.7\\lib\\site-packages\\torchvision\\transforms\\transforms.py:333: UserWarning: Argument interpolation should be of type InterpolationMode instead of int. Please, use InterpolationMode enum.\n",
      "  \"Argument interpolation should be of type InterpolationMode instead of int. \"\n"
     ]
    },
    {
     "data": {
      "image/png": "[encoded data removed]",
      "text/plain": [
       "<Figure size 432x288 with 1 Axes>"
      ]
     },
     "metadata": {
      "needs_background": "light"
     },
     "output_type": "display_data"
    }
   ],
   "source": [
    "resize = T.Compose([T.ToPILImage(),\n",
    "                    T.Resize(40, interpolation=Image.CUBIC),\n",
    "                    T.ToTensor()])\n",
    "\n",
    "def get_screen():\n",
    "    # Returned screen requested by gym is 405x405x3, but is sometimes larger\n",
    "    # Transpose it into torch order (CHW).\n",
    "    screen = env.render().transpose((2, 0, 1))\n",
    "\n",
    "    # # Convert to float, rescale, convert to torch tensor\n",
    "    # # (this doesn't require a copy)\n",
    "    screen = np.ascontiguousarray(screen, dtype=np.float32) / 255\n",
    "    screen = torch.from_numpy(screen)\n",
    "    # Resize, and add a batch dimension (BCHW)\n",
    "    return resize(screen).unsqueeze(0)\n",
    "\n",
    "\n",
    "env.reset()\n",
    "plt.figure()\n",
    "plt.imshow(get_screen().cpu().squeeze(0).permute(1, 2, 0).numpy(),\n",
    "           interpolation='none')\n",
    "plt.title('Example extracted screen')\n",
    "plt.show()"
   ]
  },
  {
   "cell_type": "code",
   "execution_count": 8,
   "id": "80717c2a",
   "metadata": {},
   "outputs": [
    {
     "name": "stdout",
     "output_type": "stream",
     "text": [
      "torch.Size([1, 3, 40, 40])\n"
     ]
    }
   ],
   "source": [
    "BATCH_SIZE = 128\n",
    "GAMMA = 0.995\n",
    "EPS_START = 0.9\n",
    "EPS_END = 0.05\n",
    "EPS_DECAY = 200\n",
    "TARGET_UPDATE = 5\n",
    "\n",
    "# Get screen size so that we can initialize layers correctly based on shape\n",
    "# returned from AI gym. Typical dimensions at this point are close to 3x40x90\n",
    "# which is the result of a clamped and down-scaled render buffer in get_screen()\n",
    "init_screen = get_screen()\n",
    "_, _, screen_height, screen_width = init_screen.shape\n",
    "print(init_screen.shape)\n",
    "\n",
    "# Get number of actions from gym action space\n",
    "n_actions = env.action_space.n\n",
    "\n",
    "policy_net = DQN(screen_height, screen_width, n_actions).to(device)\n",
    "target_net = DQN(screen_height, screen_width, n_actions).to(device)\n",
    "target_net.load_state_dict(policy_net.state_dict())\n",
    "target_net.eval()\n",
    "\n",
    "optimizer = optim.RMSprop(policy_net.parameters())\n",
    "memory = ReplayMemory(10000)\n",
    "\n",
    "steps_done = 0\n",
    "\n",
    "def select_action(state):\n",
    "    global steps_done\n",
    "    sample = random.random()\n",
    "    eps_threshold = EPS_END + (EPS_START - EPS_END) * \\\n",
    "        math.exp(-1. * steps_done / EPS_DECAY)\n",
    "    steps_done += 1\n",
    "    if sample > eps_threshold:\n",
    "        with torch.no_grad():\n",
    "            # t.max(1) will return largest column value of each row.\n",
    "            # second column on max result is index of where max element was\n",
    "            # found, so we pick action with the larger expected reward.\n",
    "            return policy_net(state).max(1)[1].view(1, 1)\n",
    "    else:\n",
    "        return torch.tensor([[random.randrange(n_actions)]], device=device, dtype=torch.long)\n",
    "\n",
    "# episode_durations = []\n",
    "\n",
    "# def plot_durations():\n",
    "#     plt.figure(2)\n",
    "#     plt.clf()\n",
    "#     durations_t = torch.tensor(episode_durations, dtype=torch.float)\n",
    "#     plt.title('Training...')\n",
    "#     plt.xlabel('Episode')\n",
    "#     plt.ylabel('Duration')\n",
    "#     plt.plot(durations_t.numpy())\n",
    "#     # Take 100 episode averages and plot them too\n",
    "#     if len(durations_t) >= 100:\n",
    "#         means = durations_t.unfold(0, 100, 1).mean(1).view(-1)\n",
    "#         means = torch.cat((torch.zeros(99), means))\n",
    "#         plt.plot(means.numpy())\n",
    "\n",
    "#     plt.pause(0.001)  # pause a bit so that plots are updated\n",
    "#     if is_ipython:\n",
    "#         display.clear_output(wait=True)\n",
    "#         display.display(plt.gcf())"
   ]
  },
  {
   "cell_type": "code",
   "execution_count": 9,
   "id": "1fb386a1",
   "metadata": {},
   "outputs": [],
   "source": [
    "def optimize_model():\n",
    "    if len(memory) < BATCH_SIZE:\n",
    "        return\n",
    "    transitions = memory.sample(BATCH_SIZE)\n",
    "    # Transpose the batch (see https://stackoverflow.com/a/19343/3343043 for\n",
    "    # detailed explanation). This converts batch-array of Transitions\n",
    "    # to Transition of batch-arrays.\n",
    "    batch = Transition(*zip(*transitions))\n",
    "\n",
    "    # Compute a mask of non-final states and concatenate the batch elements\n",
    "    # (a final state would've been the one after which simulation ended)\n",
    "    non_final_mask = torch.tensor(tuple(map(lambda s: s is not None,\n",
    "                                          batch.next_state)), device=device, dtype=torch.bool)\n",
    "    non_final_next_states = torch.cat([s for s in batch.next_state\n",
    "                                                if s is not None])\n",
    "    state_batch = torch.cat(batch.state)\n",
    "    action_batch = torch.cat(batch.action)\n",
    "    reward_batch = torch.cat(batch.reward)\n",
    "\n",
    "    # Compute Q(s_t, a) - the model computes Q(s_t), then we select the\n",
    "    # columns of actions taken. These are the actions which would've been taken\n",
    "    # for each batch state according to policy_net\n",
    "    state_action_values = policy_net(state_batch).gather(1, action_batch)\n",
    "\n",
    "    # Compute V(s_{t+1}) for all next states.\n",
    "    # Expected values of actions for non_final_next_states are computed based\n",
    "    # on the \"older\" target_net; selecting their best reward with max(1)[0].\n",
    "    # This is merged based on the mask, such that we'll have either the expected\n",
    "    # state value or 0 in case the state was final.\n",
    "    next_state_values = torch.zeros(BATCH_SIZE, device=device)\n",
    "    next_state_values[non_final_mask] = target_net(non_final_next_states).max(1)[0].detach()\n",
    "    # Compute the expected Q values\n",
    "    expected_state_action_values = (next_state_values * GAMMA) + reward_batch\n",
    "\n",
    "    # Compute Huber loss\n",
    "    criterion = nn.SmoothL1Loss()\n",
    "    loss = criterion(state_action_values, expected_state_action_values.unsqueeze(1))\n",
    "\n",
    "    # Optimize the model\n",
    "    optimizer.zero_grad()\n",
    "    loss.backward()\n",
    "    for param in policy_net.parameters():\n",
    "        param.grad.data.clamp_(-1, 1)\n",
    "    optimizer.step()\n",
    "\n",
    "    return loss"
   ]
  },
  {
   "cell_type": "code",
   "execution_count": 14,
   "id": "c96ac6d6",
   "metadata": {},
   "outputs": [
    {
     "name": "stdout",
     "output_type": "stream",
     "text": [
      "Just finished Episode 0 in 57 steps, with reward -2690.5482309628733!\n",
      "Just finished Episode 1 in 60 steps, with reward -2852.3718536345177!\n",
      "Just finished Episode 2 in 30 steps, with reward -1398.738606486378!\n",
      "Just finished Episode 3 in 160 steps, with reward -7769.825348382403!\n",
      "Just finished Episode 4 in 159 steps, with reward -7713.14025221698!\n",
      "Just finished Episode 5 in 7 steps, with reward -283.9164001031603!\n",
      "Just finished Episode 6 in 27 steps, with reward -1266.9024564045585!\n",
      "Just finished Episode 7 in 8 steps, with reward -337.8778131229112!\n",
      "Just finished Episode 8 in 15 steps, with reward -680.8778131229112!\n",
      "Just finished Episode 9 in 33 steps, with reward -1521.6175630205503!\n",
      "Just finished Episode 10 in 826 steps, with reward -40390.17395886406!\n",
      "Just finished Episode 11 in 3 steps, with reward -92.73782554049802!\n",
      "Just finished Episode 12 in 1409 steps, with reward -68988.28182083102!\n",
      "Just finished Episode 13 in 19 steps, with reward -881.0!\n",
      "Just finished Episode 14 in 10 steps, with reward -431.75562624582244!\n",
      "Just finished Episode 15 in 141 steps, with reward -6827.304781174897!\n",
      "Just finished Episode 16 in 303 steps, with reward -14788.080710034228!\n",
      "Just finished Episode 17 in 3 steps, with reward -92.73782554049802!\n",
      "Just finished Episode 18 in 412 steps, with reward -20106.53926280419!\n",
      "Just finished Episode 19 in 727 steps, with reward -35568.87781312291!\n",
      "Just finished Episode 20 in 4 steps, with reward -68.00365649368915!\n",
      "Just finished Episode 21 in 2000 steps, with reward -97757.47675680344!\n",
      "Just finished Episode 22 in 39 steps, with reward -1856.8778131229112!\n",
      "Just finished Episode 23 in 2000 steps, with reward -97630.54642420562!\n",
      "Just finished Episode 24 in 5 steps, with reward -187.28682365201874!\n",
      "Just finished Episode 25 in 2000 steps, with reward -97579.4578196745!\n",
      "Just finished Episode 26 in 2000 steps, with reward -97667.27197467083!\n"
     ]
    },
    {
     "ename": "AttributeError",
     "evalue": "'NoneType' object has no attribute 'transpose'",
     "output_type": "error",
     "traceback": [
      "\u001b[1;31m---------------------------------------------------------------------------\u001b[0m",
      "\u001b[1;31mAttributeError\u001b[0m                            Traceback (most recent call last)",
      "\u001b[1;32m~\\AppData\\Local\\Temp\\ipykernel_7116\\1566441633.py\u001b[0m in \u001b[0;36m<module>\u001b[1;34m\u001b[0m\n\u001b[0;32m     23\u001b[0m         \u001b[1;31m# Observe new state\u001b[0m\u001b[1;33m\u001b[0m\u001b[1;33m\u001b[0m\u001b[1;33m\u001b[0m\u001b[0m\n\u001b[0;32m     24\u001b[0m         \u001b[0mlast_screen\u001b[0m \u001b[1;33m=\u001b[0m \u001b[0mcurrent_screen\u001b[0m\u001b[1;33m\u001b[0m\u001b[1;33m\u001b[0m\u001b[0m\n\u001b[1;32m---> 25\u001b[1;33m         \u001b[0mcurrent_screen\u001b[0m \u001b[1;33m=\u001b[0m \u001b[0mget_screen\u001b[0m\u001b[1;33m(\u001b[0m\u001b[1;33m)\u001b[0m\u001b[1;33m\u001b[0m\u001b[1;33m\u001b[0m\u001b[0m\n\u001b[0m\u001b[0;32m     26\u001b[0m         \u001b[1;32mif\u001b[0m \u001b[1;32mnot\u001b[0m \u001b[0mdone\u001b[0m\u001b[1;33m:\u001b[0m\u001b[1;33m\u001b[0m\u001b[1;33m\u001b[0m\u001b[0m\n\u001b[0;32m     27\u001b[0m             \u001b[0mnext_state\u001b[0m \u001b[1;33m=\u001b[0m \u001b[0mcurrent_screen\u001b[0m \u001b[1;33m-\u001b[0m \u001b[0mlast_screen\u001b[0m\u001b[1;33m\u001b[0m\u001b[1;33m\u001b[0m\u001b[0m\n",
      "\u001b[1;32m~\\AppData\\Local\\Temp\\ipykernel_7116\\2545028357.py\u001b[0m in \u001b[0;36mget_screen\u001b[1;34m()\u001b[0m\n\u001b[0;32m      6\u001b[0m     \u001b[1;31m# Returned screen requested by gym is 405x405x3, but is sometimes larger\u001b[0m\u001b[1;33m\u001b[0m\u001b[1;33m\u001b[0m\u001b[1;33m\u001b[0m\u001b[0m\n\u001b[0;32m      7\u001b[0m     \u001b[1;31m# Transpose it into torch order (CHW).\u001b[0m\u001b[1;33m\u001b[0m\u001b[1;33m\u001b[0m\u001b[1;33m\u001b[0m\u001b[0m\n\u001b[1;32m----> 8\u001b[1;33m     \u001b[0mscreen\u001b[0m \u001b[1;33m=\u001b[0m \u001b[0menv\u001b[0m\u001b[1;33m.\u001b[0m\u001b[0mrender\u001b[0m\u001b[1;33m(\u001b[0m\u001b[1;33m)\u001b[0m\u001b[1;33m.\u001b[0m\u001b[0mtranspose\u001b[0m\u001b[1;33m(\u001b[0m\u001b[1;33m(\u001b[0m\u001b[1;36m2\u001b[0m\u001b[1;33m,\u001b[0m \u001b[1;36m0\u001b[0m\u001b[1;33m,\u001b[0m \u001b[1;36m1\u001b[0m\u001b[1;33m)\u001b[0m\u001b[1;33m)\u001b[0m\u001b[1;33m\u001b[0m\u001b[1;33m\u001b[0m\u001b[0m\n\u001b[0m\u001b[0;32m      9\u001b[0m \u001b[1;33m\u001b[0m\u001b[0m\n\u001b[0;32m     10\u001b[0m     \u001b[1;31m# # Convert to float, rescale, convert to torch tensor\u001b[0m\u001b[1;33m\u001b[0m\u001b[1;33m\u001b[0m\u001b[1;33m\u001b[0m\u001b[0m\n",
      "\u001b[1;31mAttributeError\u001b[0m: 'NoneType' object has no attribute 'transpose'"
     ]
    }
   ],
   "source": [
    "num_episodes = 50\n",
    "training_loss = []\n",
    "training_reward = []\n",
    "training_steps = []\n",
    "\n",
    "for i_episode in range(num_episodes):\n",
    "    # Initialize the environment and state\n",
    "    env.reset()\n",
    "    last_screen = get_screen()\n",
    "    current_screen = get_screen()\n",
    "    state = current_screen - last_screen\n",
    "\n",
    "    episode_loss = 0.0\n",
    "    episode_reward = 0.0\n",
    "    for t in count():\n",
    "        # Select and perform an action\n",
    "        action = select_action(state)\n",
    "        _, reward, done, _ = env.step(action.item())\n",
    "        reward = torch.tensor([reward], device=device)\n",
    "        \n",
    "        episode_reward+= reward.item()\n",
    "\n",
    "        # Observe new state\n",
    "        last_screen = current_screen\n",
    "        current_screen = get_screen()\n",
    "        if not done:\n",
    "            next_state = current_screen - last_screen\n",
    "        else:\n",
    "            next_state = None\n",
    "\n",
    "        # Store the transition in memory\n",
    "        memory.push(state, action, next_state, reward)\n",
    "\n",
    "        # Move to the next state\n",
    "        state = next_state\n",
    "\n",
    "        # Perform one step of the optimization (on the policy network)\n",
    "        \n",
    "        step_loss = optimize_model()\n",
    "        if step_loss is not None:\n",
    "            episode_loss += step_loss.item()\n",
    "        \n",
    "        if done:\n",
    "            # episode_durations.append(t + 1)\n",
    "            # plot_durations()\n",
    "            training_steps.append(t+1)\n",
    "            \n",
    "            if episode_loss is not None:\n",
    "                training_loss.append(episode_loss)\n",
    "            \n",
    "            training_reward.append(episode_reward)\n",
    "\n",
    "            print(f\"Just finished Episode {i_episode} in {t+1} steps, with reward {episode_reward}!\")\n",
    "            break\n",
    "    # Update the target network, copying all weights and biases in DQN\n",
    "    if i_episode % TARGET_UPDATE == 0:\n",
    "        target_net.load_state_dict(policy_net.state_dict())\n",
    "\n",
    "print('Complete')\n",
    "env.render()\n",
    "env.close()\n",
    "plt.ioff()\n",
    "plt.show()"
   ]
  }
 ],
 "metadata": {
  "kernelspec": {
   "display_name": "Python 3 (ipykernel)",
   "language": "python",
   "name": "python3"
  },
  "language_info": {
   "codemirror_mode": {
    "name": "ipython",
    "version": 3
   },
   "file_extension": ".py",
   "mimetype": "text/x-python",
   "name": "python",
   "nbconvert_exporter": "python",
   "pygments_lexer": "ipython3",
   "version": "3.7.12"
  }
 },
 "nbformat": 4,
 "nbformat_minor": 5
}
