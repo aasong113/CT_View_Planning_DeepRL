{
 "cells": [
  {
   "cell_type": "code",
   "execution_count": 1,
   "id": "ec085c36",
   "metadata": {},
   "outputs": [
    {
     "name": "stdout",
     "output_type": "stream",
     "text": [
      "Requirement already satisfied: gym[atari] in c:\\users\\asong18\\anaconda3\\envs\\deeplearning\\lib\\site-packages (0.21.0)\n",
      "Requirement already satisfied: cloudpickle>=1.2.0 in c:\\users\\asong18\\anaconda3\\envs\\deeplearning\\lib\\site-packages (from gym[atari]) (2.0.0)\n",
      "Requirement already satisfied: numpy>=1.18.0 in c:\\users\\asong18\\anaconda3\\envs\\deeplearning\\lib\\site-packages (from gym[atari]) (1.22.3)\n",
      "Requirement already satisfied: ale-py~=0.7.1 in c:\\users\\asong18\\anaconda3\\envs\\deeplearning\\lib\\site-packages (from gym[atari]) (0.7.5)\n",
      "Requirement already satisfied: importlib-resources in c:\\users\\asong18\\anaconda3\\envs\\deeplearning\\lib\\site-packages (from ale-py~=0.7.1->gym[atari]) (5.7.1)\n",
      "Requirement already satisfied: importlib-metadata>=4.10.0 in c:\\users\\asong18\\anaconda3\\envs\\deeplearning\\lib\\site-packages (from ale-py~=0.7.1->gym[atari]) (4.11.3)\n",
      "Requirement already satisfied: zipp>=0.5 in c:\\users\\asong18\\anaconda3\\envs\\deeplearning\\lib\\site-packages (from importlib-metadata>=4.10.0->ale-py~=0.7.1->gym[atari]) (3.8.0)\n",
      "Note: you may need to restart the kernel to use updated packages.\n"
     ]
    }
   ],
   "source": [
    "pip install gym[atari]"
   ]
  },
  {
   "cell_type": "code",
   "execution_count": 1,
   "id": "40712ead",
   "metadata": {},
   "outputs": [
    {
     "name": "stdout",
     "output_type": "stream",
     "text": [
      "Requirement already satisfied: ale-py in c:\\users\\asong18\\anaconda3\\envs\\deeplearning\\lib\\site-packages (0.7.5)\n",
      "Requirement already satisfied: importlib-resources in c:\\users\\asong18\\anaconda3\\envs\\deeplearning\\lib\\site-packages (from ale-py) (5.7.1)\n",
      "Requirement already satisfied: importlib-metadata>=4.10.0 in c:\\users\\asong18\\anaconda3\\envs\\deeplearning\\lib\\site-packages (from ale-py) (4.11.3)\n",
      "Requirement already satisfied: numpy in c:\\users\\asong18\\anaconda3\\envs\\deeplearning\\lib\\site-packages (from ale-py) (1.22.3)\n",
      "Requirement already satisfied: zipp>=0.5 in c:\\users\\asong18\\anaconda3\\envs\\deeplearning\\lib\\site-packages (from importlib-metadata>=4.10.0->ale-py) (3.8.0)\n",
      "Note: you may need to restart the kernel to use updated packages.\n"
     ]
    }
   ],
   "source": [
    "pip install ale-py"
   ]
  },
  {
   "cell_type": "code",
   "execution_count": 2,
   "id": "56ee5448",
   "metadata": {},
   "outputs": [],
   "source": [
    "from ale_py import ALEInterface, SDL_SUPPORT"
   ]
  },
  {
   "cell_type": "code",
   "execution_count": 5,
   "id": "350bd62d",
   "metadata": {},
   "outputs": [
    {
     "ename": "AttributeError",
     "evalue": "partially initialized module 'gym' has no attribute 'core' (most likely due to a circular import)",
     "output_type": "error",
     "traceback": [
      "\u001b[1;31m---------------------------------------------------------------------------\u001b[0m",
      "\u001b[1;31mAttributeError\u001b[0m                            Traceback (most recent call last)",
      "\u001b[1;32mc:\\Users\\asong18\\Desktop\\Deep_RL_View_Planning\\gym-child_thresholded_NN\\atari_RL_test.ipynb Cell 4'\u001b[0m in \u001b[0;36m<cell line: 1>\u001b[1;34m()\u001b[0m\n\u001b[1;32m----> <a href='vscode-notebook-cell:/c%3A/Users/asong18/Desktop/Deep_RL_View_Planning/gym-child_thresholded_NN/atari_RL_test.ipynb#ch0000036?line=0'>1</a>\u001b[0m \u001b[39mimport\u001b[39;00m \u001b[39mgym\u001b[39;00m\n\u001b[0;32m      <a href='vscode-notebook-cell:/c%3A/Users/asong18/Desktop/Deep_RL_View_Planning/gym-child_thresholded_NN/atari_RL_test.ipynb#ch0000036?line=2'>3</a>\u001b[0m \u001b[39m#env = gym.make('SpaceInvaders-v0', render_mode='human')\u001b[39;00m\n\u001b[0;32m      <a href='vscode-notebook-cell:/c%3A/Users/asong18/Desktop/Deep_RL_View_Planning/gym-child_thresholded_NN/atari_RL_test.ipynb#ch0000036?line=3'>4</a>\u001b[0m env \u001b[39m=\u001b[39m gym\u001b[39m.\u001b[39mmake(\u001b[39m'\u001b[39m\u001b[39mALE/Breakout-v5\u001b[39m\u001b[39m'\u001b[39m)\n",
      "File \u001b[1;32m~\\Anaconda3\\envs\\deeplearning\\lib\\site-packages\\gym\\__init__.py:16\u001b[0m, in \u001b[0;36m<module>\u001b[1;34m\u001b[0m\n\u001b[0;32m     <a href='file:///c%3A/Users/asong18/Anaconda3/envs/deeplearning/lib/site-packages/gym/__init__.py?line=13'>14</a>\u001b[0m \u001b[39mfrom\u001b[39;00m \u001b[39mgym\u001b[39;00m \u001b[39mimport\u001b[39;00m logger\n\u001b[0;32m     <a href='file:///c%3A/Users/asong18/Anaconda3/envs/deeplearning/lib/site-packages/gym/__init__.py?line=14'>15</a>\u001b[0m \u001b[39mfrom\u001b[39;00m \u001b[39mgym\u001b[39;00m \u001b[39mimport\u001b[39;00m vector\n\u001b[1;32m---> <a href='file:///c%3A/Users/asong18/Anaconda3/envs/deeplearning/lib/site-packages/gym/__init__.py?line=15'>16</a>\u001b[0m \u001b[39mfrom\u001b[39;00m \u001b[39mgym\u001b[39;00m \u001b[39mimport\u001b[39;00m wrappers\n\u001b[0;32m     <a href='file:///c%3A/Users/asong18/Anaconda3/envs/deeplearning/lib/site-packages/gym/__init__.py?line=17'>18</a>\u001b[0m __all__ \u001b[39m=\u001b[39m [\u001b[39m\"\u001b[39m\u001b[39mEnv\u001b[39m\u001b[39m\"\u001b[39m, \u001b[39m\"\u001b[39m\u001b[39mSpace\u001b[39m\u001b[39m\"\u001b[39m, \u001b[39m\"\u001b[39m\u001b[39mWrapper\u001b[39m\u001b[39m\"\u001b[39m, \u001b[39m\"\u001b[39m\u001b[39mmake\u001b[39m\u001b[39m\"\u001b[39m, \u001b[39m\"\u001b[39m\u001b[39mspec\u001b[39m\u001b[39m\"\u001b[39m, \u001b[39m\"\u001b[39m\u001b[39mregister\u001b[39m\u001b[39m\"\u001b[39m]\n",
      "File \u001b[1;32m~\\Anaconda3\\envs\\deeplearning\\lib\\site-packages\\gym\\wrappers\\__init__.py:17\u001b[0m, in \u001b[0;36m<module>\u001b[1;34m\u001b[0m\n\u001b[0;32m     <a href='file:///c%3A/Users/asong18/Anaconda3/envs/deeplearning/lib/site-packages/gym/wrappers/__init__.py?line=14'>15</a>\u001b[0m \u001b[39mfrom\u001b[39;00m \u001b[39mgym\u001b[39;00m\u001b[39m.\u001b[39;00m\u001b[39mwrappers\u001b[39;00m\u001b[39m.\u001b[39;00m\u001b[39mclip_action\u001b[39;00m \u001b[39mimport\u001b[39;00m ClipAction\n\u001b[0;32m     <a href='file:///c%3A/Users/asong18/Anaconda3/envs/deeplearning/lib/site-packages/gym/wrappers/__init__.py?line=15'>16</a>\u001b[0m \u001b[39mfrom\u001b[39;00m \u001b[39mgym\u001b[39;00m\u001b[39m.\u001b[39;00m\u001b[39mwrappers\u001b[39;00m\u001b[39m.\u001b[39;00m\u001b[39mrecord_episode_statistics\u001b[39;00m \u001b[39mimport\u001b[39;00m RecordEpisodeStatistics\n\u001b[1;32m---> <a href='file:///c%3A/Users/asong18/Anaconda3/envs/deeplearning/lib/site-packages/gym/wrappers/__init__.py?line=16'>17</a>\u001b[0m \u001b[39mfrom\u001b[39;00m \u001b[39mgym\u001b[39;00m\u001b[39m.\u001b[39;00m\u001b[39mwrappers\u001b[39;00m\u001b[39m.\u001b[39;00m\u001b[39mnormalize\u001b[39;00m \u001b[39mimport\u001b[39;00m NormalizeObservation, NormalizeReward\n\u001b[0;32m     <a href='file:///c%3A/Users/asong18/Anaconda3/envs/deeplearning/lib/site-packages/gym/wrappers/__init__.py?line=17'>18</a>\u001b[0m \u001b[39mfrom\u001b[39;00m \u001b[39mgym\u001b[39;00m\u001b[39m.\u001b[39;00m\u001b[39mwrappers\u001b[39;00m\u001b[39m.\u001b[39;00m\u001b[39mrecord_video\u001b[39;00m \u001b[39mimport\u001b[39;00m RecordVideo, capped_cubic_video_schedule\n",
      "File \u001b[1;32m~\\Anaconda3\\envs\\deeplearning\\lib\\site-packages\\gym\\wrappers\\normalize.py:41\u001b[0m, in \u001b[0;36m<module>\u001b[1;34m\u001b[0m\n\u001b[0;32m     <a href='file:///c%3A/Users/asong18/Anaconda3/envs/deeplearning/lib/site-packages/gym/wrappers/normalize.py?line=35'>36</a>\u001b[0m     new_count \u001b[39m=\u001b[39m tot_count\n\u001b[0;32m     <a href='file:///c%3A/Users/asong18/Anaconda3/envs/deeplearning/lib/site-packages/gym/wrappers/normalize.py?line=37'>38</a>\u001b[0m     \u001b[39mreturn\u001b[39;00m new_mean, new_var, new_count\n\u001b[1;32m---> <a href='file:///c%3A/Users/asong18/Anaconda3/envs/deeplearning/lib/site-packages/gym/wrappers/normalize.py?line=40'>41</a>\u001b[0m \u001b[39mclass\u001b[39;00m \u001b[39mNormalizeObservation\u001b[39;00m(gym\u001b[39m.\u001b[39;49mcore\u001b[39m.\u001b[39mWrapper):\n\u001b[0;32m     <a href='file:///c%3A/Users/asong18/Anaconda3/envs/deeplearning/lib/site-packages/gym/wrappers/normalize.py?line=41'>42</a>\u001b[0m     \u001b[39mdef\u001b[39;00m \u001b[39m__init__\u001b[39m(\n\u001b[0;32m     <a href='file:///c%3A/Users/asong18/Anaconda3/envs/deeplearning/lib/site-packages/gym/wrappers/normalize.py?line=42'>43</a>\u001b[0m         \u001b[39mself\u001b[39m,\n\u001b[0;32m     <a href='file:///c%3A/Users/asong18/Anaconda3/envs/deeplearning/lib/site-packages/gym/wrappers/normalize.py?line=43'>44</a>\u001b[0m         env,\n\u001b[0;32m     <a href='file:///c%3A/Users/asong18/Anaconda3/envs/deeplearning/lib/site-packages/gym/wrappers/normalize.py?line=44'>45</a>\u001b[0m         epsilon\u001b[39m=\u001b[39m\u001b[39m1e-8\u001b[39m,\n\u001b[0;32m     <a href='file:///c%3A/Users/asong18/Anaconda3/envs/deeplearning/lib/site-packages/gym/wrappers/normalize.py?line=45'>46</a>\u001b[0m     ):\n\u001b[0;32m     <a href='file:///c%3A/Users/asong18/Anaconda3/envs/deeplearning/lib/site-packages/gym/wrappers/normalize.py?line=46'>47</a>\u001b[0m         \u001b[39msuper\u001b[39m(NormalizeObservation, \u001b[39mself\u001b[39m)\u001b[39m.\u001b[39m\u001b[39m__init__\u001b[39m(env)\n",
      "\u001b[1;31mAttributeError\u001b[0m: partially initialized module 'gym' has no attribute 'core' (most likely due to a circular import)"
     ]
    }
   ],
   "source": [
    "import gym\n",
    "\n",
    "#env = gym.make('SpaceInvaders-v0', render_mode='human')\n",
    "env = gym.make('ALE/Breakout-v5')\n",
    "height, width, channels = env.observation_space.shape\n",
    "actions = env.action_space.n"
   ]
  },
  {
   "cell_type": "code",
   "execution_count": null,
   "id": "436af8ca",
   "metadata": {},
   "outputs": [],
   "source": []
  },
  {
   "cell_type": "code",
   "execution_count": null,
   "id": "e94d5166",
   "metadata": {},
   "outputs": [],
   "source": []
  },
  {
   "cell_type": "code",
   "execution_count": null,
   "id": "049f7935",
   "metadata": {},
   "outputs": [],
   "source": []
  }
 ],
 "metadata": {
  "kernelspec": {
   "display_name": "Python 3 (ipykernel)",
   "language": "python",
   "name": "python3"
  },
  "language_info": {
   "codemirror_mode": {
    "name": "ipython",
    "version": 3
   },
   "file_extension": ".py",
   "mimetype": "text/x-python",
   "name": "python",
   "nbconvert_exporter": "python",
   "pygments_lexer": "ipython3",
   "version": "3.9.12"
  }
 },
 "nbformat": 4,
 "nbformat_minor": 5
}
