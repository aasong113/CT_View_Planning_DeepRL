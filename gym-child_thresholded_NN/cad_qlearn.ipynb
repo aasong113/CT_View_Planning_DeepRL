{
 "cells": [
  {
   "cell_type": "code",
   "execution_count": 1,
   "id": "a368be90",
   "metadata": {},
   "outputs": [
    {
     "name": "stdout",
     "output_type": "stream",
     "text": [
      "Obtaining file:///home/natalie/nsalab/Users/naw1/desk2/dl/gym-child\n",
      "Requirement already satisfied: gym in /home/natalie/nsalab/Users/naw1/desk2/dl/gym (from gym-maze==0.4) (0.23.1)\n",
      "Requirement already satisfied: pygame in /home/natalie/anaconda3/lib/python3.9/site-packages (from gym-maze==0.4) (2.1.2)\n",
      "Requirement already satisfied: numpy in /home/natalie/anaconda3/lib/python3.9/site-packages (from gym-maze==0.4) (1.20.3)\n",
      "Requirement already satisfied: cloudpickle>=1.2.0 in /home/natalie/anaconda3/lib/python3.9/site-packages (from gym->gym-maze==0.4) (2.0.0)\n",
      "Requirement already satisfied: gym_notices>=0.0.4 in /home/natalie/anaconda3/lib/python3.9/site-packages (from gym->gym-maze==0.4) (0.0.6)\n",
      "Requirement already satisfied: importlib_metadata>=4.10.0 in /home/natalie/anaconda3/lib/python3.9/site-packages (from gym->gym-maze==0.4) (4.11.3)\n",
      "Requirement already satisfied: zipp>=0.5 in /home/natalie/anaconda3/lib/python3.9/site-packages (from importlib_metadata>=4.10.0->gym->gym-maze==0.4) (3.6.0)\n",
      "Installing collected packages: gym-maze\n",
      "  Attempting uninstall: gym-maze\n",
      "    Found existing installation: gym-maze 0.4\n",
      "    Uninstalling gym-maze-0.4:\n",
      "      Successfully uninstalled gym-maze-0.4\n",
      "  Running setup.py develop for gym-maze\n",
      "Successfully installed gym-maze\n",
      "Note: you may need to restart the kernel to use updated packages.\n"
     ]
    }
   ],
   "source": [
    "pip install -e ."
   ]
  },
  {
   "cell_type": "markdown",
   "id": "7345ce7d",
   "metadata": {},
   "source": [
    "# Q Learning Training Environment"
   ]
  },
  {
   "cell_type": "code",
   "execution_count": 1,
   "id": "dcbca092",
   "metadata": {},
   "outputs": [],
   "source": [
    "import gym\n",
    "import gym_child\n",
    "import numpy as np\n",
    "import time\n",
    "import sys\n",
    "import math\n",
    "import random"
   ]
  },
  {
   "cell_type": "code",
   "execution_count": 2,
   "id": "be3044e5",
   "metadata": {},
   "outputs": [],
   "source": [
    "def get_explore_rate(t,min_explore_rate,decay_fact):\n",
    "    return max(min_explore_rate, min(0.8, 1.0 - math.log10((t+1)/decay_fact)))\n",
    "\n",
    "\n",
    "def get_learning_rate(t,min_learning_rate,decay_fact):\n",
    "    return max(min_learning_rate, min(0.8, 1.0 - math.log10((t+1)/decay_fact)))"
   ]
  },
  {
   "cell_type": "code",
   "execution_count": 3,
   "id": "d30e1462",
   "metadata": {},
   "outputs": [],
   "source": [
    "# variables: \n",
    "neps = 20\n",
    "tstep = 200\n",
    "min_explore_rate = 0.001\n",
    "min_learning_rate = 0.2\n",
    "#grid_size = tuple((env.observation_space.high + np.ones(env.observation_space.shape)).astype(int))\n",
    "#decay_fact = np.prod(grid_size, dtype=float) / 10.0\n",
    "decay_fact = np.prod((9,9),dtype=float)/10.0\n",
    "#state_bounds = list(zip(env.observation_space.low, env.observation_space.high))\n",
    "explore_rate = get_explore_rate(0,min_explore_rate,decay_fact)\n",
    "learning_rate = get_learning_rate(0,min_learning_rate,decay_fact)"
   ]
  },
  {
   "cell_type": "code",
   "execution_count": 4,
   "id": "5b530de2",
   "metadata": {},
   "outputs": [],
   "source": [
    "max_t = np.prod((9,9),dtype=int)*100\n",
    "streak_to_end = 100\n",
    "solved_t = np.prod((9,9),dtype=int)\n"
   ]
  },
  {
   "cell_type": "code",
   "execution_count": 5,
   "id": "fae4c57a",
   "metadata": {},
   "outputs": [],
   "source": [
    "def select_action(env,state, q_table,explore_rate):\n",
    "    # Select a random action\n",
    "    if random.random() < explore_rate:\n",
    "        action = env.action_space.sample()\n",
    "    # Select the action with the highest q\n",
    "    else:\n",
    "        action = int(np.argmax(q_table[state]))\n",
    "    return action"
   ]
  },
  {
   "cell_type": "code",
   "execution_count": 6,
   "id": "5d7d5726",
   "metadata": {},
   "outputs": [],
   "source": [
    "def state_to_bucket(state,env):\n",
    "    grid_size = tuple((env.observation_space.high + np.ones(env.observation_space.shape)).astype(int))\n",
    "    state_bounds = list(zip(env.observation_space.low, env.observation_space.high))\n",
    "    bucket_indice = []\n",
    "    for i in range(len(state)):\n",
    "        if state[i] <= state_bounds[i][0]:\n",
    "            bucket_index = 0\n",
    "        elif state[i] >= state_bounds[i][1]:\n",
    "            bucket_index = grid_size[i] - 1\n",
    "        else:\n",
    "            # Mapping the state bounds to the bucket array\n",
    "            bound_width = state_bounds[i][1] - state_bounds[i][0]\n",
    "            offset = (grid_size[i]-1)*state_bounds[i][0]/bound_width\n",
    "            scaling = (grid_size[i]-1)/bound_width\n",
    "            bucket_index = int(round(scaling*state[i] - offset))\n",
    "        bucket_indice.append(bucket_index)\n",
    "    return tuple(bucket_indice)"
   ]
  },
  {
   "cell_type": "code",
   "execution_count": 7,
   "id": "6d588830",
   "metadata": {},
   "outputs": [],
   "source": [
    "def run_qlearn(env,q_table, explore_rate, learning_rate, neps=200,tstep=100):\n",
    "    env.render()\n",
    "    num_streaks = 0\n",
    "    discount_factor = 0.99\n",
    "    max_t = np.prod((9,9),dtype=int)*100\n",
    "    streak_to_end = 100\n",
    "    solved_t = np.prod((9,9),dtype=int)\n",
    "    decay_fact = np.prod((9,9),dtype=float)/10.0\n",
    "    \n",
    "    for ep in range(neps):\n",
    "        if ep == 0:\n",
    "            time.sleep(5)\n",
    "        obv = env.reset()\n",
    "        print('------------'+str(ep))\n",
    "        state_0 = state_to_bucket(obv,env)\n",
    "        total_reward = 0\n",
    "        \n",
    "        for t in range(tstep):\n",
    "            # select best action and execute\n",
    "            action = select_action(env,state_0, q_table, explore_rate)\n",
    "            obv,reward,done,_ = env.step(action)\n",
    "            \n",
    "            # update the state you are in, add reward (observe result)\n",
    "            state = state_to_bucket(obv,env)\n",
    "            total_reward += reward\n",
    "            #print('cur' + str(reward))\n",
    "            #print(total_reward)\n",
    "            #print(reward, total_reward)\n",
    "            \n",
    "            # update Q-table\n",
    "            best_q = np.amax(q_table[state])\n",
    "            q_table[state_0 + (action,)] += learning_rate * (reward + discount_factor * (best_q) - q_table[state_0 + (action,)])\n",
    "            \n",
    "            # update state\n",
    "            state_0 = state\n",
    "            \n",
    "            env.render()\n",
    "            time.sleep(0.1)\n",
    "            \n",
    "            \n",
    "            # update parameters\n",
    "            #explore_rate = get_explore_rate(ep,min_explore_rate,decay_fact)\n",
    "            #learning_rate = get_learning_rate(ep,min_learning_rate,decay_fact)\n",
    "            \n",
    "            if done:\n",
    "                time.sleep(1)\n",
    "                print(\"Episode %d finished after %f time steps with total reward = %f (streak %d).\"\n",
    "                      % (ep, t, total_reward, num_streaks))\n",
    "\n",
    "                if t <= solved_t:\n",
    "                    num_streaks += 1\n",
    "                else:\n",
    "                    num_streaks = 0\n",
    "                break\n",
    "\n",
    "            elif t >= max_t - 1:\n",
    "                print(\"Episode %d timed out at %d with total reward = %f.\"\n",
    "                      % (ep, t, total_reward))\n",
    "\n",
    "        # It's considered done when it's solved over 120 times consecutively\n",
    "        if num_streaks > streak_to_end:\n",
    "            break\n",
    "            \n",
    "        explore_rate = get_explore_rate(ep,0.001,decay_fact)\n",
    "        learning_rate = get_learning_rate(ep,0.2,decay_fact)\n",
    "                \n",
    "    return q_table"
   ]
  },
  {
   "cell_type": "code",
   "execution_count": 8,
   "id": "afd3c603",
   "metadata": {},
   "outputs": [],
   "source": [
    "#Make Q Table \n",
    "q_table0 = np.zeros((9,9) + (4,), dtype=float)"
   ]
  },
  {
   "cell_type": "code",
   "execution_count": 9,
   "id": "ce409e5c",
   "metadata": {
    "scrolled": true
   },
   "outputs": [
    {
     "name": "stdout",
     "output_type": "stream",
     "text": [
      "pygame 2.1.2 (SDL 2.0.18, Python 3.7.12)\n",
      "Hello from the pygame community. https://www.pygame.org/contribute.html\n",
      "------------0\n",
      "Episode 0 finished after 18.000000 time steps with total reward = -790.581122 (streak 0).\n",
      "------------1\n"
     ]
    },
    {
     "ename": "KeyboardInterrupt",
     "evalue": "",
     "output_type": "error",
     "traceback": [
      "\u001b[1;31m---------------------------------------------------------------------------\u001b[0m",
      "\u001b[1;31mKeyboardInterrupt\u001b[0m                         Traceback (most recent call last)",
      "\u001b[1;32m~\\AppData\\Local\\Temp\\ipykernel_10280\\1783164.py\u001b[0m in \u001b[0;36m<module>\u001b[1;34m\u001b[0m\n\u001b[0;32m      1\u001b[0m \u001b[1;31m# Run Training\u001b[0m\u001b[1;33m\u001b[0m\u001b[1;33m\u001b[0m\u001b[1;33m\u001b[0m\u001b[0m\n\u001b[1;32m----> 2\u001b[1;33m \u001b[0mfin_q_table\u001b[0m \u001b[1;33m=\u001b[0m \u001b[0mrun_qlearn\u001b[0m\u001b[1;33m(\u001b[0m\u001b[0mgym\u001b[0m\u001b[1;33m.\u001b[0m\u001b[0mmake\u001b[0m\u001b[1;33m(\u001b[0m\u001b[1;34m'maze-v0'\u001b[0m\u001b[1;33m)\u001b[0m\u001b[1;33m,\u001b[0m\u001b[0mq_table0\u001b[0m\u001b[1;33m,\u001b[0m\u001b[0mexplore_rate\u001b[0m\u001b[1;33m,\u001b[0m\u001b[0mlearning_rate\u001b[0m\u001b[1;33m,\u001b[0m\u001b[0mneps\u001b[0m\u001b[1;33m=\u001b[0m\u001b[1;36m100\u001b[0m\u001b[1;33m,\u001b[0m\u001b[0mtstep\u001b[0m\u001b[1;33m=\u001b[0m\u001b[0mmax_t\u001b[0m\u001b[1;33m)\u001b[0m\u001b[1;33m\u001b[0m\u001b[1;33m\u001b[0m\u001b[0m\n\u001b[0m",
      "\u001b[1;32m~\\AppData\\Local\\Temp\\ipykernel_10280\\323084273.py\u001b[0m in \u001b[0;36mrun_qlearn\u001b[1;34m(env, q_table, explore_rate, learning_rate, neps, tstep)\u001b[0m\n\u001b[0;32m     36\u001b[0m \u001b[1;33m\u001b[0m\u001b[0m\n\u001b[0;32m     37\u001b[0m             \u001b[0menv\u001b[0m\u001b[1;33m.\u001b[0m\u001b[0mrender\u001b[0m\u001b[1;33m(\u001b[0m\u001b[1;33m)\u001b[0m\u001b[1;33m\u001b[0m\u001b[1;33m\u001b[0m\u001b[0m\n\u001b[1;32m---> 38\u001b[1;33m             \u001b[0mtime\u001b[0m\u001b[1;33m.\u001b[0m\u001b[0msleep\u001b[0m\u001b[1;33m(\u001b[0m\u001b[1;36m0.1\u001b[0m\u001b[1;33m)\u001b[0m\u001b[1;33m\u001b[0m\u001b[1;33m\u001b[0m\u001b[0m\n\u001b[0m\u001b[0;32m     39\u001b[0m \u001b[1;33m\u001b[0m\u001b[0m\n\u001b[0;32m     40\u001b[0m \u001b[1;33m\u001b[0m\u001b[0m\n",
      "\u001b[1;31mKeyboardInterrupt\u001b[0m: "
     ]
    }
   ],
   "source": [
    "# Run Training \n",
    "fin_q_table = run_qlearn(gym.make('maze-v0'),q_table0,explore_rate,learning_rate,neps=100,tstep=max_t)"
   ]
  },
  {
   "cell_type": "code",
   "execution_count": 15,
   "id": "60659436",
   "metadata": {},
   "outputs": [
    {
     "data": {
      "text/plain": [
       "(10, 10, 4)"
      ]
     },
     "execution_count": 15,
     "metadata": {},
     "output_type": "execute_result"
    }
   ],
   "source": [
    "fin_q_table.shape"
   ]
  },
  {
   "cell_type": "code",
   "execution_count": 13,
   "id": "a82b2f95",
   "metadata": {},
   "outputs": [],
   "source": [
    "import matplotlib.pyplot as plt\n",
    "import seaborn as sns"
   ]
  },
  {
   "cell_type": "code",
   "execution_count": null,
   "id": "7f9f0dc4",
   "metadata": {},
   "outputs": [],
   "source": [
    "#### ACTION = [\"N\", \"S\", \"E\", \"W\"]"
   ]
  },
  {
   "cell_type": "code",
   "execution_count": 34,
   "id": "76fb177c",
   "metadata": {},
   "outputs": [
    {
     "data": {
      "text/plain": [
       "<AxesSubplot:>"
      ]
     },
     "execution_count": 34,
     "metadata": {},
     "output_type": "execute_result"
    },
    {
     "data": {
      "image/png": "[encoded data removed]",
      "text/plain": [
       "<Figure size 360x576 with 2 Axes>"
      ]
     },
     "metadata": {
      "needs_background": "light"
     },
     "output_type": "display_data"
    }
   ],
   "source": [
    "fig,ax = plt.subplots(figsize=(5,8))\n",
    "sns.heatmap(fin_q_table[4,:,:],annot=True)"
   ]
  },
  {
   "cell_type": "code",
   "execution_count": null,
   "id": "5d0d2d5e",
   "metadata": {},
   "outputs": [],
   "source": []
  },
  {
   "cell_type": "markdown",
   "id": "d4ddfafd",
   "metadata": {},
   "source": [
    "# Keras Deep Q Learning \n",
    "#### First model is a 3 Fully connected Layer model. \n"
   ]
  },
  {
   "cell_type": "code",
   "execution_count": 10,
   "id": "efae91d9",
   "metadata": {},
   "outputs": [],
   "source": [
    "import numpy as np\n",
    "from tensorflow.keras.models import Sequential\n",
    "from tensorflow.keras.layers import Dense, Flatten, Convolution2D\n",
    "from tensorflow.keras.optimizers import Adam\n",
    "import gym\n",
    "import gym_child\n",
    "import numpy as np\n",
    "import time\n",
    "import sys\n",
    "import math\n",
    "import random\n",
    "from matplotlib import pyplot as plt"
   ]
  },
  {
   "cell_type": "code",
   "execution_count": 11,
   "id": "a175ceb3",
   "metadata": {},
   "outputs": [],
   "source": [
    "def build_model(states, actions):\n",
    "    model = Sequential()\n",
    "    model.add(Flatten(input_shape=(1,states)))\n",
    "    model.add(Dense(24, activation='relu'))\n",
    "    model.add(Dense(24, activation='relu'))\n",
    "    model.add(Dense(actions, activation='linear'))\n",
    "    return model"
   ]
  },
  {
   "cell_type": "code",
   "execution_count": 19,
   "id": "1d527f7b",
   "metadata": {},
   "outputs": [],
   "source": [
    "# Sometimes you must delete the model after building the DQN agent if an error is raised. \n",
    "# Then you must rebuild the model. This is a Keras dependency issue. \n",
    "# This is the error: AttributeError: 'Sequential' object has no attribute '_compile_time_distribution_strategy'\n",
    "# Just restart the runn\n",
    "del model"
   ]
  },
  {
   "cell_type": "code",
   "execution_count": 13,
   "id": "6b30c6e0",
   "metadata": {},
   "outputs": [],
   "source": [
    "env = gym.make('maze-v0')\n",
    "states = env.observation_space.shape[0]\n",
    "actions = env.action_space.n"
   ]
  },
  {
   "cell_type": "code",
   "execution_count": 20,
   "id": "29065632",
   "metadata": {},
   "outputs": [],
   "source": [
    "model = build_model(states, actions)"
   ]
  },
  {
   "cell_type": "code",
   "execution_count": 15,
   "id": "f930a220",
   "metadata": {},
   "outputs": [
    {
     "name": "stdout",
     "output_type": "stream",
     "text": [
      "Model: \"sequential\"\n",
      "_________________________________________________________________\n",
      " Layer (type)                Output Shape              Param #   \n",
      "=================================================================\n",
      " flatten (Flatten)           (None, 2)                 0         \n",
      "                                                                 \n",
      " dense (Dense)               (None, 24)                72        \n",
      "                                                                 \n",
      " dense_1 (Dense)             (None, 24)                600       \n",
      "                                                                 \n",
      " dense_2 (Dense)             (None, 4)                 100       \n",
      "                                                                 \n",
      "=================================================================\n",
      "Total params: 772\n",
      "Trainable params: 772\n",
      "Non-trainable params: 0\n",
      "_________________________________________________________________\n"
     ]
    }
   ],
   "source": [
    "model.summary()"
   ]
  },
  {
   "cell_type": "code",
   "execution_count": 16,
   "id": "b0d6b989",
   "metadata": {},
   "outputs": [],
   "source": [
    "from rl.agents import DQNAgent\n",
    "from rl.policy import LinearAnnealedPolicy\n",
    "from rl.policy import BoltzmannQPolicy\n",
    "from rl.policy import GreedyQPolicy\n",
    "from rl.memory import SequentialMemory\n",
    "from rl.policy import EpsGreedyQPolicy"
   ]
  },
  {
   "cell_type": "code",
   "execution_count": 21,
   "id": "2b66754e",
   "metadata": {},
   "outputs": [],
   "source": [
    "def build_agent(model, actions):\n",
    "    #policy = EpsGreedyQPolicy()\n",
    "    #policy = GreedyQPolicy()\n",
    "    policy = BoltzmannQPolicy()\n",
    "    #policy = LinearAnnealedPolicy(EpsGreedyQPolicy(), attr='eps', value_max=1., value_min=.1, value_test=.05, nb_steps=10000)\n",
    "    memory = SequentialMemory(limit=50000, window_length=1)\n",
    "    dqn = DQNAgent(model=model, memory=memory, policy=policy, \n",
    "                  nb_actions=actions, nb_steps_warmup=10, target_model_update=1e-1)\n",
    "    return dqn"
   ]
  },
  {
   "cell_type": "code",
   "execution_count": 22,
   "id": "0e5225c4",
   "metadata": {},
   "outputs": [
    {
     "name": "stdout",
     "output_type": "stream",
     "text": [
      "Training for 50000 steps ...\n",
      "Interval 1 (0 steps performed)\n",
      "    1/10000 [..............................] - ETA: 9:58 - reward: -49.0000"
     ]
    },
    {
     "name": "stderr",
     "output_type": "stream",
     "text": [
      "C:\\Users\\asong18\\Anaconda3\\envs\\deeplearning3.7\\lib\\site-packages\\keras\\engine\\training_v1.py:2079: UserWarning: `Model.state_updates` will be removed in a future version. This property should not be used in TensorFlow 2.0, as `updates` are applied automatically.\n",
      "  updates=self.state_updates,\n",
      "C:\\Users\\asong18\\Anaconda3\\envs\\deeplearning3.7\\lib\\site-packages\\rl\\memory.py:37: UserWarning: Not enough entries to sample without replacement. Consider increasing your warm-up phase to avoid oversampling!\n",
      "  warnings.warn('Not enough entries to sample without replacement. Consider increasing your warm-up phase to avoid oversampling!')\n"
     ]
    },
    {
     "name": "stdout",
     "output_type": "stream",
     "text": [
      "10000/10000 [==============================] - 116s 12ms/step - reward: -48.0178\n",
      "77 episodes - episode_reward: -6219.536 [-48780.220, 1.000] - loss: 5780.963 - mae: 1218.831 - mean_q: -1579.714\n",
      "\n",
      "Interval 2 (10000 steps performed)\n",
      "10000/10000 [==============================] - 102s 10ms/step - reward: -37.6362\n",
      "1532 episodes - episode_reward: -246.403 [-8316.519, 1.000] - loss: 522.747 - mae: 213.104 - mean_q: -231.314\n",
      "\n",
      "Interval 3 (20000 steps performed)\n",
      "10000/10000 [==============================] - 111s 11ms/step - reward: -35.2668\n",
      "1790 episodes - episode_reward: -197.103 [-409.457, 1.000] - loss: 463.446 - mae: 138.774 - mean_q: -126.650\n",
      "\n",
      "Interval 4 (30000 steps performed)\n",
      "10000/10000 [==============================] - 119s 12ms/step - reward: -35.5980\n",
      "1766 episodes - episode_reward: -201.574 [-776.450, 1.000] - loss: 542.689 - mae: 134.941 - mean_q: -119.485\n",
      "\n",
      "Interval 5 (40000 steps performed)\n",
      "10000/10000 [==============================] - 114s 11ms/step - reward: -35.7350\n",
      "done, took 562.069 seconds\n"
     ]
    }
   ],
   "source": [
    "dqn = build_agent(model, actions)\n",
    "dqn.compile(Adam(learning_rate=1e-1), metrics=['mae'])\n",
    "fit = dqn.fit(env, nb_steps=50000, visualize=False, verbose=1)"
   ]
  },
  {
   "cell_type": "code",
   "execution_count": 23,
   "id": "66e864cb",
   "metadata": {},
   "outputs": [
    {
     "name": "stdout",
     "output_type": "stream",
     "text": [
      "Testing for 100 episodes ...\n",
      "Episode 1: reward: -138.287, steps: 4\n",
      "Episode 2: reward: -239.878, steps: 6\n",
      "Episode 3: reward: -200.904, steps: 6\n",
      "Episode 4: reward: -236.287, steps: 6\n",
      "Episode 5: reward: -295.915, steps: 8\n",
      "Episode 6: reward: -292.836, steps: 8\n",
      "Episode 7: reward: -9.002, steps: 2\n",
      "Episode 8: reward: -293.000, steps: 7\n",
      "Episode 9: reward: -105.455, steps: 4\n",
      "Episode 10: reward: -190.878, steps: 5\n",
      "Episode 11: reward: -203.455, steps: 6\n",
      "Episode 12: reward: -58.002, steps: 3\n",
      "Episode 13: reward: -298.904, steps: 8\n",
      "Episode 14: reward: -138.287, steps: 4\n",
      "Episode 15: reward: -251.424, steps: 7\n",
      "Episode 16: reward: -249.904, steps: 7\n",
      "Episode 17: reward: -201.839, steps: 6\n",
      "Episode 18: reward: -298.904, steps: 8\n",
      "Episode 19: reward: -197.915, steps: 6\n",
      "Episode 20: reward: -298.904, steps: 8\n",
      "Episode 21: reward: -187.287, steps: 5\n",
      "Episode 22: reward: -250.839, steps: 7\n",
      "Episode 23: reward: -200.904, steps: 6\n",
      "Episode 24: reward: -187.287, steps: 5\n",
      "Episode 25: reward: -152.839, steps: 5\n",
      "Episode 26: reward: -141.878, steps: 4\n",
      "Episode 27: reward: -298.904, steps: 8\n",
      "Episode 28: reward: -200.904, steps: 6\n",
      "Episode 29: reward: -190.878, steps: 5\n",
      "Episode 30: reward: -103.839, steps: 4\n",
      "Episode 31: reward: -251.424, steps: 7\n",
      "Episode 32: reward: -138.287, steps: 4\n",
      "Episode 33: reward: -252.037, steps: 7\n",
      "Episode 34: reward: -190.878, steps: 5\n",
      "Episode 35: reward: -239.878, steps: 6\n",
      "Episode 36: reward: -337.878, steps: 8\n",
      "Episode 37: reward: -194.937, steps: 6\n",
      "Episode 38: reward: -239.878, steps: 6\n",
      "Episode 39: reward: -299.505, steps: 8\n",
      "Episode 40: reward: -56.455, steps: 3\n",
      "Episode 41: reward: -344.915, steps: 9\n",
      "Episode 42: reward: -200.904, steps: 6\n",
      "Episode 43: reward: -249.904, steps: 7\n",
      "Episode 44: reward: -154.455, steps: 5\n",
      "Episode 45: reward: -138.287, steps: 4\n",
      "Episode 46: reward: -236.287, steps: 6\n",
      "Episode 47: reward: -146.000, steps: 4\n",
      "Episode 48: reward: -292.836, steps: 8\n",
      "Episode 49: reward: -347.904, steps: 9\n",
      "Episode 50: reward: -190.878, steps: 5\n",
      "Episode 51: reward: -41.657, steps: 2\n",
      "Episode 52: reward: -298.904, steps: 8\n",
      "Episode 53: reward: -250.839, steps: 7\n",
      "Episode 54: reward: -97.000, steps: 3\n",
      "Episode 55: reward: -92.738, steps: 3\n",
      "Episode 56: reward: -107.002, steps: 4\n",
      "Episode 57: reward: -239.878, steps: 6\n",
      "Episode 58: reward: -105.455, steps: 4\n",
      "Episode 59: reward: -92.738, steps: 3\n",
      "Episode 60: reward: -239.878, steps: 6\n",
      "Episode 61: reward: -102.904, steps: 4\n",
      "Episode 62: reward: -347.904, steps: 9\n",
      "Episode 63: reward: -244.000, steps: 6\n",
      "Episode 64: reward: -151.904, steps: 5\n",
      "Episode 65: reward: -236.287, steps: 6\n",
      "Episode 66: reward: -293.000, steps: 7\n",
      "Episode 67: reward: -187.287, steps: 5\n",
      "Episode 68: reward: -203.455, steps: 6\n",
      "Episode 69: reward: -244.000, steps: 6\n",
      "Episode 70: reward: -141.878, steps: 4\n",
      "Episode 71: reward: -190.878, steps: 5\n",
      "Episode 72: reward: -190.738, steps: 5\n",
      "Episode 73: reward: -146.086, steps: 5\n",
      "Episode 74: reward: -190.878, steps: 5\n",
      "Episode 75: reward: -102.904, steps: 4\n",
      "Episode 76: reward: -97.000, steps: 3\n",
      "Episode 77: reward: -239.878, steps: 6\n",
      "Episode 78: reward: -103.839, steps: 4\n",
      "Episode 79: reward: -190.878, steps: 5\n",
      "Episode 80: reward: 1.000, steps: 1\n",
      "Episode 81: reward: -288.878, steps: 7\n",
      "Episode 82: reward: -146.086, steps: 5\n",
      "Episode 83: reward: -298.904, steps: 8\n",
      "Episode 84: reward: -190.878, steps: 5\n",
      "Episode 85: reward: -187.287, steps: 5\n",
      "Episode 86: reward: -236.287, steps: 6\n",
      "Episode 87: reward: -151.904, steps: 5\n",
      "Episode 88: reward: -298.904, steps: 8\n",
      "Episode 89: reward: -288.878, steps: 7\n",
      "Episode 90: reward: -187.287, steps: 5\n",
      "Episode 91: reward: -138.287, steps: 4\n",
      "Episode 92: reward: -337.878, steps: 8\n",
      "Episode 93: reward: -288.878, steps: 7\n",
      "Episode 94: reward: -190.878, steps: 5\n",
      "Episode 95: reward: -187.287, steps: 5\n",
      "Episode 96: reward: -104.880, steps: 4\n",
      "Episode 97: reward: -203.455, steps: 6\n",
      "Episode 98: reward: -48.000, steps: 2\n",
      "Episode 99: reward: -249.904, steps: 7\n",
      "Episode 100: reward: -243.937, steps: 7\n",
      "-200.58532275303293\n",
      "5.6\n"
     ]
    }
   ],
   "source": [
    "scores = dqn.test(env, nb_episodes=100, visualize=False)\n",
    "print(np.mean(scores.history['episode_reward']))\n",
    "print(np.mean(scores.history['nb_steps']))"
   ]
  },
  {
   "cell_type": "code",
   "execution_count": 17,
   "id": "bb31b0aa",
   "metadata": {},
   "outputs": [
    {
     "name": "stdout",
     "output_type": "stream",
     "text": [
      "{'episode_reward': [-288.737825540498, -398.7248135528109, -202.28364907786704, -141.73782554049802, -398.7248135528109, -300.6237029910219, -188.4500063479209, -239.8778131229112, -300.7248135528109, -251.42367369016267, -41.65724720087715, -398.7248135528109, -253.1168556472544, -151.63290625010146, -350.7831998327947, -89.28682365201874, -205.00182824684458, -246.06176851920745, -253.1168556472544, -156.00182824684458, -90.45000634792088, -97.0, -103.8390198678934, -202.87388917961925, -288.737825540498, -202.28364907786704, -102.90438076169968, -205.00182824684458, -151.63290625010146, -246.06176851920745, -104.87973748005228, -239.73782554049802, -56.45527836869272, -41.65724720087715, 1.0, -254.00182824684458, -254.00182824684458, -300.7248135528109, -141.73782554049802, -337.7378255404981, -156.00182824684458, -139.45000634792086, -41.65724720087715, -237.4500063479209, -300.7248135528109, -58.001828246844575, -156.00182824684458, -190.73782554049802, -188.4500063479209, -204.53557111358953, -188.4500063479209, -56.45527836869272, -9.001828246844575, -251.42367369016267, -398.7248135528109, -92.73782554049802, -104.87973748005228, -43.87781312291119, -138.28682365201874, -202.87388917961925, -90.45000634792088, -239.73782554049802, 1.0, -188.4500063479209, -200.90438076169968, -254.00182824684458, -337.7378255404981, -139.45000634792086, -190.8778131229112, -56.45527836869272, -237.4500063479209, -151.90438076169968, -104.87973748005228, -349.7248135528109, -9.001828246844575, -48.0, -337.7378255404981, -92.73782554049802, -202.28364907786704, -337.7378255404981, -43.87781312291119, -102.90438076169968, -300.7248135528109, -146.0, -288.737825540498, -41.65724720087715, -205.00182824684458, -349.7248135528109, -251.72481355281087, -197.06176851920745, -202.72481355281087, -239.8778131229112, -102.90438076169968, -237.4500063479209, -200.90438076169968, -337.7378255404981, -107.00182824684458, -9.001828246844575, -301.78319983279465, -190.73782554049802], 'nb_steps': [7, 10, 6, 4, 10, 8, 5, 6, 8, 7, 2, 10, 7, 5, 9, 3, 6, 7, 7, 5, 3, 3, 4, 6, 7, 6, 4, 6, 5, 7, 4, 6, 3, 2, 1, 7, 7, 8, 4, 8, 5, 4, 2, 6, 8, 3, 5, 5, 5, 6, 5, 3, 2, 7, 10, 3, 4, 2, 4, 6, 3, 6, 1, 5, 6, 7, 8, 4, 5, 3, 6, 5, 4, 9, 2, 2, 8, 3, 6, 8, 2, 4, 8, 4, 7, 2, 6, 9, 7, 6, 6, 6, 4, 6, 6, 8, 4, 2, 8, 5]}\n"
     ]
    }
   ],
   "source": [
    "print(scores.history)"
   ]
  },
  {
   "cell_type": "code",
   "execution_count": 11,
   "id": "3342923d",
   "metadata": {},
   "outputs": [
    {
     "data": {
      "image/png": "[encoded data removed]",
      "text/plain": [
       "<Figure size 432x288 with 2 Axes>"
      ]
     },
     "metadata": {},
     "output_type": "display_data"
    }
   ],
   "source": [
    "import matplotlib.pyplot as plt\n",
    "# length = len(fit.history['nb_episode_steps'])\n",
    "length = 150\n",
    "fig = plt.figure()\n",
    "#plt.title(\"Reward and Steps to Goal vs. Episodes\")\n",
    "ax = fig.add_subplot(111, label=\"1\")\n",
    "ax2 = fig.add_subplot(111, label=\"2\", frame_on=False)\n",
    "ax.plot(range(length), fit.history['nb_episode_steps'][:length], color=\"C0\")\n",
    "ax.set_xlabel(\"Episodes\", color=\"C0\")\n",
    "ax.set_ylabel(\"Total Steps\", color=\"C0\")\n",
    "ax.tick_params(axis='x', colors=\"C0\")\n",
    "ax.tick_params(axis='y', colors=\"C0\")\n",
    "ax2.scatter(range(length), fit.history['episode_reward'][:length], color=\"C1\")\n",
    "ax2.axes.get_xaxis().set_visible(False)\n",
    "ax2.yaxis.tick_right()\n",
    "ax2.set_ylabel('Episode Reward', color=\"C1\")\n",
    "ax2.yaxis.set_label_position('right')\n",
    "ax2.tick_params(axis='y', colors=\"C1\")\n",
    "ax.set_title(\"Reward and Steps to Goal vs. Episodes\")\n",
    "fig.savefig(f\"Thresholded_Deep_Q_learn_{length}eps_lr_1e-1\")"
   ]
  },
  {
   "cell_type": "code",
   "execution_count": 13,
   "id": "de43226f",
   "metadata": {},
   "outputs": [
    {
     "name": "stdout",
     "output_type": "stream",
     "text": [
      "243\n",
      "{'episode_reward': [-13924.68327828366, -19106.605708130104, -14273.019524838617, -337.8778131229112, -97975.18331034211, -97933.2905716733, -97997.73229764444, -97981.19689766792, -98000.0, -98000.0, -4064.2793270604757, -97954.96667122903, -1606.8649527029024, -1905.1833562521724, -86823.86733912512, -536.9637957352187, -3844.6080759968886, -1265.286823652019, -17884.603694321948, -489.0, -934.2460027461971, -10478.087066730566, -10253.308598455571, -4136.903365380145, -1978.265352225413, -1512.9706343578894, -90.7557223561189, -4210.015067517639, -11592.499906311778, -10324.673693318427, -3658.650707242489, -1006.017653792547, -22092.546913620175, -10191.675839037753, -194.79275914704374, -15132.288548283499, -1462.957988062637, -12501.397666349643, -12856.242521534467, 1.0, -243.79275914704374, -3127.18245017147, -497.45527836869275, 1.0, -14269.422511673685, -24734.447941892042, -15228.7238470354, -6758.584580404753, -283.49443882192594, -55893.953351086806, -591.1905493215634, -3742.3345335222793, -1026.0122262508678, -3299.2768638619564, -30234.14047149469, -249.90438076169968, -4906.864773453991, -631.7378255404981, -10597.90648316511, -2289.795424234492, -6154.824860294326, -4494.332644546508, -2573.6095211983006, -7690.303119076486, -13557.059737203675, -615.2918103500041, -586.7927591470437, -12344.772507856085, -7998.6213571016715, -9.001828246844575, -10368.326486534084, -24375.859791729526, -3916.008981127437, -1056.5441267186034, -23266.362585034727, -20712.515176154473, -4859.811080961172, -6805.668479349174, -11485.980000718891, -1108.5738982798532, -2078.1911390449513, -2289.0402611065174, -23698.14465063544, -21077.191792980226, -3673.8580480727787, -12192.697952135151, -3330.6527715646307, -3327.99548452635, -7042.253277192639, -2503.1830572233794, -20568.278948751242, -579.5654519643244, -6368.720024835173, -5683.708881930691, -655.7806891500948, -3753.944437880226, -12723.059773197007, -12108.878371613384, -4160.480155777434, -6768.639883459561, -5442.493757297023, -473.0141537924943, -4407.75995966623, -7195.471366435927, -1370.5800372527606, -8603.659091549709, -4262.0, -14051.411066469202, -2540.648971323232, -2591.2236459331366, -386.7378255404981, -8861.496532188841, -20727.361635465568, -8898.274924838675, -4968.900350465022, -2553.893936496791, -2884.5358802168166, -401.0018282468446, -15055.684571617689, -670.5358219237528, -9844.908942959839, -2150.5978379580847, -6182.548999662598, -9738.368604023362, -11162.14299953463, -7981.883062124392, -5557.203642067891, -13600.439757379858, -4170.2480867033555, -138.28682365201874, -6021.45785037567, -1566.238289858718, -4039.2356872201626, -16047.289112532075, -12708.115039188368, -3007.2631038125533, -5997.738389735139, -7961.488345061989, -834.2640195550753, -8508.263665606704, -2690.0198149970533, -4801.743388024947, -10474.560830308892, -344.1125255695699, -2071.453028155769, -9424.303917296751, -10649.507905691877, -5550.702297246144, -26934.73567599755, -917.9272321249333, -1397.0599661033398, -8169.610167486603, -4182.744415430005, -873.2416463842426, -579.3612959992861, -1081.1908106455273, -20036.34349870014, -13019.08178362057, -7768.275472731266, -2358.5907317700285, -15111.177445885147, -16078.808317863402, -9.001828246844575, -337.7378255404981, -1709.2506095227154, -11701.623785124473, -7438.401830724883, -1074.8035488063879, -1072.7982525465472, -27090.646831213962, -3099.801195009235, 1.0, -6938.666421322668, -1039.9888815781019, -14035.108176254013, -2095.7024023785857, -11112.215709750653, -678.4500063479209, -13451.459645835814, -20087.335050139354, -13209.453378422859, -2876.5135387094283, -3422.450006347921, -684.8600124175869, -1095.816437950561, -531.4500063479209, -39095.71365686654, -5498.924319914079, -896.4491627677909, -3526.7200248351737, -8004.943494875504, -2332.4206475828223, -8640.28461613015, -11721.70315362736, -2017.997748508025, -4520.763794018707, -1118.6882962066388, -1454.2832759041619, -2047.731287414886, -6589.040853124096, -5930.388627006856, -337.39059710512856, -438.8971446091917, -6393.144372129033, -2378.216916022472, -6379.969429150487, -1458.2863070436606, -6924.035497571733, -10321.696977890731, -2639.9433938853335, -14926.219726282801, -3925.2436118415953, -20239.888961909943, -8529.177061741777, -5568.279761875354, -1843.1755697950725, -1606.1026398072743, -7677.052516616016, -827.5305846875417, -10952.27911023001, -390.79275914704374, -3500.344555019455, -4214.490803010701, -9247.028444815776, -14670.284284398329, 1.0, -325.41399722709286, -4481.091462230321, -1170.3552910645344, -15384.989991770186, -19152.627049594914, -2418.498703033001, -4349.750740622373, -4919.623128795659, -6528.389532017212, -17841.492123313143, -631.7378255404981, -1277.2585744859884, -6061.936444241339, -6399.638292301248, -16407.168838512058, -92.73782554049802, -5343.639724396803], 'nb_episode_steps': [286, 392, 294, 8, 2000, 2000, 2000, 2000, 2000, 2000, 86, 2000, 35, 40, 1773, 12, 80, 27, 370, 11, 22, 221, 212, 86, 44, 32, 3, 87, 240, 214, 76, 22, 458, 211, 5, 312, 32, 258, 269, 1, 6, 65, 12, 1, 296, 508, 314, 142, 7, 1149, 14, 78, 23, 70, 625, 7, 103, 14, 222, 48, 129, 94, 54, 162, 281, 14, 13, 256, 165, 2, 214, 503, 81, 23, 478, 428, 103, 140, 237, 25, 44, 49, 489, 435, 79, 251, 69, 70, 147, 54, 423, 14, 131, 120, 15, 78, 265, 252, 90, 142, 113, 11, 92, 149, 29, 178, 88, 291, 55, 55, 9, 184, 426, 184, 104, 54, 61, 10, 313, 15, 203, 45, 128, 203, 231, 168, 115, 286, 88, 4, 124, 33, 85, 329, 262, 63, 126, 164, 20, 176, 59, 100, 217, 9, 44, 194, 222, 115, 559, 22, 30, 168, 88, 20, 13, 24, 414, 270, 160, 50, 313, 331, 2, 8, 36, 242, 157, 24, 24, 562, 65, 1, 144, 24, 291, 45, 231, 15, 281, 414, 275, 60, 71, 15, 28, 12, 807, 114, 22, 73, 171, 49, 181, 244, 44, 96, 24, 31, 43, 136, 123, 8, 11, 132, 50, 132, 31, 144, 216, 56, 312, 83, 418, 178, 117, 40, 36, 159, 18, 227, 9, 73, 88, 193, 306, 1, 8, 95, 26, 320, 397, 51, 91, 103, 135, 368, 14, 29, 130, 134, 338, 3, 113], 'nb_steps': [286, 678, 972, 980, 2980, 4980, 6980, 8980, 10980, 12980, 13066, 15066, 15101, 15141, 16914, 16926, 17006, 17033, 17403, 17414, 17436, 17657, 17869, 17955, 17999, 18031, 18034, 18121, 18361, 18575, 18651, 18673, 19131, 19342, 19347, 19659, 19691, 19949, 20218, 20219, 20225, 20290, 20302, 20303, 20599, 21107, 21421, 21563, 21570, 22719, 22733, 22811, 22834, 22904, 23529, 23536, 23639, 23653, 23875, 23923, 24052, 24146, 24200, 24362, 24643, 24657, 24670, 24926, 25091, 25093, 25307, 25810, 25891, 25914, 26392, 26820, 26923, 27063, 27300, 27325, 27369, 27418, 27907, 28342, 28421, 28672, 28741, 28811, 28958, 29012, 29435, 29449, 29580, 29700, 29715, 29793, 30058, 30310, 30400, 30542, 30655, 30666, 30758, 30907, 30936, 31114, 31202, 31493, 31548, 31603, 31612, 31796, 32222, 32406, 32510, 32564, 32625, 32635, 32948, 32963, 33166, 33211, 33339, 33542, 33773, 33941, 34056, 34342, 34430, 34434, 34558, 34591, 34676, 35005, 35267, 35330, 35456, 35620, 35640, 35816, 35875, 35975, 36192, 36201, 36245, 36439, 36661, 36776, 37335, 37357, 37387, 37555, 37643, 37663, 37676, 37700, 38114, 38384, 38544, 38594, 38907, 39238, 39240, 39248, 39284, 39526, 39683, 39707, 39731, 40293, 40358, 40359, 40503, 40527, 40818, 40863, 41094, 41109, 41390, 41804, 42079, 42139, 42210, 42225, 42253, 42265, 43072, 43186, 43208, 43281, 43452, 43501, 43682, 43926, 43970, 44066, 44090, 44121, 44164, 44300, 44423, 44431, 44442, 44574, 44624, 44756, 44787, 44931, 45147, 45203, 45515, 45598, 46016, 46194, 46311, 46351, 46387, 46546, 46564, 46791, 46800, 46873, 46961, 47154, 47460, 47461, 47469, 47564, 47590, 47910, 48307, 48358, 48449, 48552, 48687, 49055, 49069, 49098, 49228, 49362, 49700, 49703, 49816]}\n"
     ]
    }
   ],
   "source": [
    "print(len(fit.history['episode_reward']))\n",
    "print(fit.history)"
   ]
  }
 ],
 "metadata": {
  "kernelspec": {
   "display_name": "Python 3 (ipykernel)",
   "language": "python",
   "name": "python3"
  },
  "language_info": {
   "codemirror_mode": {
    "name": "ipython",
    "version": 3
   },
   "file_extension": ".py",
   "mimetype": "text/x-python",
   "name": "python",
   "nbconvert_exporter": "python",
   "pygments_lexer": "ipython3",
   "version": "3.7.12"
  }
 },
 "nbformat": 4,
 "nbformat_minor": 5
}
