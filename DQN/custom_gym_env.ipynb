{
 "cells": [
  {
   "cell_type": "code",
   "execution_count": 23,
   "metadata": {},
   "outputs": [],
   "source": [
    "import numpy as np \n",
    "import cv2 \n",
    "import matplotlib.pyplot as plt\n",
    "import PIL.Image as Image\n",
    "import gym\n",
    "import random\n",
    "from matplotlib import image\n",
    "from gym import Env, spaces\n",
    "import time\n",
    "\n",
    "# https://blog.paperspace.com/creating-custom-environments-openai-gym/"
   ]
  },
  {
   "cell_type": "code",
   "execution_count": 24,
   "metadata": {},
   "outputs": [],
   "source": [
    "img = image.imread(r\"cadaver_slice_160.png\")"
   ]
  },
  {
   "cell_type": "code",
   "execution_count": 25,
   "metadata": {},
   "outputs": [
    {
     "name": "stdout",
     "output_type": "stream",
     "text": [
      "(0, 255)\n",
      "(0, 1)\n"
     ]
    },
    {
     "data": {
      "image/png": "[encoded data removed]",
      "text/plain": [
       "<Figure size 432x288 with 2 Axes>"
      ]
     },
     "metadata": {
      "needs_background": "light"
     },
     "output_type": "display_data"
    }
   ],
   "source": [
    "I = img\n",
    "I8 = (((I - I.min()) / (I.max() - I.min())) * 255.9).astype(np.uint8)\n",
    "\n",
    "img = Image.fromarray(I8)\n",
    "print(img.getextrema())\n",
    "img = img.point(lambda p: p > 160)\n",
    "print(img.getextrema())\n",
    "\n",
    "plt.imshow(img, cmap ='gray')\n",
    "plt.colorbar()\n",
    "plt.show()\n"
   ]
  },
  {
   "cell_type": "code",
   "execution_count": 26,
   "metadata": {},
   "outputs": [
    {
     "name": "stdout",
     "output_type": "stream",
     "text": [
      "(405, 405)\n"
     ]
    }
   ],
   "source": [
    "print(img.size)"
   ]
  },
  {
   "cell_type": "markdown",
   "metadata": {},
   "source": [
    "# Create Environment"
   ]
  },
  {
   "cell_type": "code",
   "execution_count": 72,
   "metadata": {},
   "outputs": [],
   "source": [
    "class Center_FOV(Env):\n",
    "\n",
    "    ACTION = [\"Right\", \"Left\", \"Down\", \"Up\", \"Do Nothing\"]\n",
    "\n",
    "    def __init__(self):\n",
    "        super(Center_FOV, self).__init__()\n",
    "\n",
    "        # get image and threshold it. This will be the backgroud. \n",
    "        img = image.imread(r\"cadaver_slice_160.png\")\n",
    "        I = img#[100:300, 50:350]\n",
    "        \n",
    "        I8 = (((I - I.min()) / (I.max() - I.min())) * 255.9).astype(np.uint8)\n",
    "\n",
    "        img = Image.fromarray(I8)\n",
    "        print(img.getextrema())\n",
    "        img = img.point(lambda p: p > 160)\n",
    "        img = img.crop((50, 100, 350, 300))\n",
    "\n",
    "\n",
    "\n",
    "        DISCRETE_Observation_size = []\n",
    "        \n",
    "\n",
    "        # Define a 2-D observation space\n",
    "        self.observation_shape = img.size\n",
    "\n",
    "        # Going up and down? \n",
    "        self.observation_space = spaces.Box(low = np.zeros(self.observation_shape), \n",
    "                                            high = np.ones(self.observation_shape),\n",
    "                                            dtype = np.float16)\n",
    "    \n",
    "        \n",
    "        # Define an action space ranging from 0 to 4\n",
    "        self.action_space = spaces.Discrete(5,)\n",
    "                        \n",
    "        # Create a canvas to render the environment images upon \n",
    "        self.canvas = img\n",
    "\n",
    "        # current FOV: This is what will be displayed until we reach the optimal position. \n",
    "        self.current_FOV = img\n",
    "        \n",
    "        # define reward\n",
    "        self.reward = 0\n",
    "        self.max_reward = 0\n",
    "        \n",
    "\n",
    "\n",
    "        # Permissible area of the FOV viewer to be \n",
    "        self.y_min = 0#int (self.observation_shape[0])\n",
    "        print(self.y_min)\n",
    "        self.x_min = 0#int (self.observation_shape[1])\n",
    "        print(self.x_min)\n",
    "        self.y_max = int (self.observation_shape[0])\n",
    "        print(self.y_max)\n",
    "        self.x_max = int (self.observation_shape[1])\n",
    "        print(self.x_max)\n",
    "\n",
    "    def reset(self):\n",
    "\n",
    "        # Reset the reward\n",
    "        self.reward = 0\n",
    "        self.max_reward = 0\n",
    "\n",
    "        # Reset the Canvas \n",
    "        img = image.imread(r\"cadaver_slice_160.png\")\n",
    "        #I = img\n",
    "        I = img#[100:300, 50:350]\n",
    "        I8 = (((I - I.min()) / (I.max() - I.min())) * 255.9).astype(np.uint8)\n",
    "\n",
    "        img = Image.fromarray(I8)\n",
    "        print(img.getextrema())\n",
    "        img = img.point(lambda p: p > 160)\n",
    "        #img = img[100:300, 50:350]\n",
    "        img = img.crop((50, 100, 350, 300))\n",
    "        self.canvas = img\n",
    "\n",
    "        plt.imshow(self.canvas, cmap = 'gray')\n",
    "        plt.show()\n",
    "\n",
    "\n",
    "\n",
    "        \n",
    "\n",
    "        # Intialise the chopper\n",
    "        #self.grabber = FOV_grabber(\"FOV_Grabber\", self.x_max, self.x_min, self.y_max, self.y_min)\n",
    "        self.grabber = FOV_Viewer(\"FOV_Grabber\", self.x_max, self.x_min, self.y_max, self.y_min)\n",
    "        # Determine a place to intialise the chopper in\n",
    "        x = random.randrange(0, int(self.observation_shape[0] - self.grabber.FOV_w))\n",
    "        y = random.randrange(0, int(self.observation_shape[1] - self.grabber.FOV_h))\n",
    "        print(x)\n",
    "        print(y)\n",
    "        self.grabber.set_position(x,y)\n",
    "        print(self.grabber.get_position())\n",
    "\n",
    "\n",
    "        # return the observation\n",
    "        self.current_FOV = self.canvas.crop((self.grabber.x, self.grabber.y, self.grabber.x+self.grabber.FOV_w,self.grabber.y+self.grabber.FOV_h))\n",
    "        \n",
    "        return self.current_FOV\n",
    "        #return self.canvas[self.grabber.x:self.grabber.x+self.grabber.FOV_w, self.grabber.y:self.grabber.y+self.grabber.FOV_h]\n",
    "\n",
    "    # used to render our observations on the screen. \n",
    "    def render(self, mode = 'human'):\n",
    "        assert mode in ['human', 'rgb_array'], \"Invalid mode, must be either \\\"human\\\" or \\\"rgb_array\\\"\"\n",
    "\n",
    "        if mode == 'human':\n",
    "            plt.imshow(self.current_FOV)\n",
    "            plt.imshow()\n",
    "        \n",
    "        elif mode == 'rgb_array':\n",
    "            return self.current_FOV\n",
    "\n",
    "    def get_action_meanings(self):\n",
    "        return {0: \"Right\", 1: \"Left\", 2: \"Down\", 3: \"Up\", 4: \"Do Nothing\"}\n",
    "\n",
    "\n",
    "\n",
    "    # This is the step function which steps for our FOV\n",
    "    def step(self, action):\n",
    "\n",
    "        # episode done? \n",
    "        done = False\n",
    "        #Assert that an action is valid. \n",
    "        assert self.action_space.contains(action), \"Invalid Action\"\n",
    "\n",
    "        # get the current reward, which is the sum of all pixels. \n",
    "        # previous_state_reward = int(np.sum(self.current_FOV))\n",
    "        \n",
    "        \n",
    "        self.step_size = 10\n",
    "\n",
    "        # apply action to the FOV grabber so it can move. \n",
    "        if action == 0:\n",
    "            self.grabber.move(0, self.step_size)\n",
    "        elif action == 1:\n",
    "            self.grabber.move(0, -self.step_size)  \n",
    "        elif action == 2:\n",
    "            self.grabber.move(self.step_size, 0)  \n",
    "        elif action == 3:\n",
    "            self.grabber.move(-self.step_size, 0)  \n",
    "        elif action == 4:\n",
    "            self.grabber.move(0, 0)  \n",
    "\n",
    "         # update the new position of the FOV. \n",
    "        self.current_FOV = self.canvas.crop((self.grabber.x, self.grabber.y, self.grabber.x+self.grabber.FOV_w,self.grabber.y+self.grabber.FOV_h))\n",
    "        self.reward = np.sum(self.current_FOV)\n",
    "\n",
    "\n",
    "\n",
    "\n",
    "        # # get sum of pixels after moving. \n",
    "        # new_state_reward =int( np.sum(self.current_FOV)) \n",
    "\n",
    "        # print((new_state_reward - previous_state_reward) )\n",
    "\n",
    "        # # calculate difference. \n",
    "        # if (new_state_reward < previous_state_reward):\n",
    "        #     # to deal with negative integers. \n",
    "        #     self.reward -=(previous_state_reward - new_state_reward) \n",
    "        # else: \n",
    "        #     # update the reward, we want to move toward the region of maximum pixels or highest reward. \n",
    "        #     self.reward +=(new_state_reward - previous_state_reward) \n",
    "\n",
    "        # everytime we move, the reward is decremented. \n",
    "        #self.reward -= 1\n",
    "\n",
    "        # if the current reward is not greater than the max reward, then we are going in the wrong direction, and we add a penalty of -1\n",
    "        \n",
    "\n",
    "        #update max reward\n",
    "        if self.reward >= self.max_reward:\n",
    "            self.max_reward = self.reward\n",
    "        # otherwise, if it is not greater, then we will need to add some sort of penalty to the max reward. We want to maximize the max reward. \n",
    "        # basically for every step that is not in the direction of increasing pixels, we need to decrement the max reward. \n",
    "        else: \n",
    "            self.max_reward -=1\n",
    "\n",
    "        # The reward will be the sum of the pixels. \n",
    "        self.reward += np.sum(self.current_FOV)\n",
    "\n",
    "        # Incremenet the episodic return\n",
    "        # self.ep_return += 1\n",
    "\n",
    "        # Stopping condition needs to be refined to a maximum. \n",
    "        if self.reward > 2000:\n",
    "            done = True\n",
    "\n",
    "        return self.current_FOV, self.max_reward, done\n",
    "\n",
    "\n",
    "    # def render(self, mode = \"human\"):\n",
    "    #     assert mode in [\"human\", \"rgb_array\"], \"Invalid mode, must be either \\\"human\\\" or \\\"rgb_array\\\"\"\n",
    "    #     if mode == \"human\":\n",
    "    #         cv2.imshow(\"Game\", self.canvas)\n",
    "    #         cv2.waitKey(10)\n",
    "        \n",
    "    #     elif mode == \"rgb_array\":\n",
    "    #         return self.canvas"
   ]
  },
  {
   "cell_type": "code",
   "execution_count": 73,
   "metadata": {},
   "outputs": [
    {
     "name": "stdout",
     "output_type": "stream",
     "text": [
      "(0, 255)\n",
      "0\n",
      "0\n",
      "300\n",
      "200\n",
      "(0, 255)\n"
     ]
    },
    {
     "name": "stderr",
     "output_type": "stream",
     "text": [
      "C:\\Users\\asong18\\Anaconda3\\envs\\deeplearning\\lib\\site-packages\\gym\\spaces\\box.py:73: UserWarning: \u001b[33mWARN: Box bound precision lowered by casting to float16\u001b[0m\n",
      "  logger.warn(\n"
     ]
    },
    {
     "data": {
      "image/png": "[encoded data removed]",
      "text/plain": [
       "<Figure size 432x288 with 1 Axes>"
      ]
     },
     "metadata": {
      "needs_background": "light"
     },
     "output_type": "display_data"
    },
    {
     "name": "stdout",
     "output_type": "stream",
     "text": [
      "51\n",
      "25\n",
      "51\n",
      "yolo\n",
      "25\n",
      "(51, 25)\n"
     ]
    },
    {
     "data": {
      "image/png": "[encoded data removed]",
      "text/plain": [
       "<Figure size 432x288 with 1 Axes>"
      ]
     },
     "metadata": {
      "needs_background": "light"
     },
     "output_type": "display_data"
    },
    {
     "name": "stdout",
     "output_type": "stream",
     "text": [
      "current reward is: 129\n"
     ]
    },
    {
     "data": {
      "image/png": "[encoded data removed]",
      "text/plain": [
       "<Figure size 432x288 with 1 Axes>"
      ]
     },
     "metadata": {
      "needs_background": "light"
     },
     "output_type": "display_data"
    },
    {
     "name": "stdout",
     "output_type": "stream",
     "text": [
      "current reward is: 239\n"
     ]
    },
    {
     "data": {
      "image/png": "[encoded data removed]",
      "text/plain": [
       "<Figure size 432x288 with 1 Axes>"
      ]
     },
     "metadata": {
      "needs_background": "light"
     },
     "output_type": "display_data"
    },
    {
     "name": "stdout",
     "output_type": "stream",
     "text": [
      "current reward is: 238\n"
     ]
    },
    {
     "data": {
      "image/png": "[encoded data removed]",
      "text/plain": [
       "<Figure size 432x288 with 1 Axes>"
      ]
     },
     "metadata": {
      "needs_background": "light"
     },
     "output_type": "display_data"
    },
    {
     "name": "stdout",
     "output_type": "stream",
     "text": [
      "current reward is: 237\n"
     ]
    },
    {
     "data": {
      "image/png": "[encoded data removed]",
      "text/plain": [
       "<Figure size 432x288 with 1 Axes>"
      ]
     },
     "metadata": {
      "needs_background": "light"
     },
     "output_type": "display_data"
    },
    {
     "name": "stdout",
     "output_type": "stream",
     "text": [
      "current reward is: 236\n"
     ]
    },
    {
     "data": {
      "image/png": "[encoded data removed]",
      "text/plain": [
       "<Figure size 432x288 with 1 Axes>"
      ]
     },
     "metadata": {
      "needs_background": "light"
     },
     "output_type": "display_data"
    },
    {
     "name": "stdout",
     "output_type": "stream",
     "text": [
      "current reward is: 239\n"
     ]
    },
    {
     "data": {
      "image/png": "[encoded data removed]",
      "text/plain": [
       "<Figure size 432x288 with 1 Axes>"
      ]
     },
     "metadata": {
      "needs_background": "light"
     },
     "output_type": "display_data"
    },
    {
     "name": "stdout",
     "output_type": "stream",
     "text": [
      "current reward is: 336\n"
     ]
    },
    {
     "data": {
      "image/png": "[encoded data removed]",
      "text/plain": [
       "<Figure size 432x288 with 1 Axes>"
      ]
     },
     "metadata": {
      "needs_background": "light"
     },
     "output_type": "display_data"
    },
    {
     "name": "stdout",
     "output_type": "stream",
     "text": [
      "current reward is: 335\n"
     ]
    },
    {
     "data": {
      "image/png": "[encoded data removed]",
      "text/plain": [
       "<Figure size 432x288 with 1 Axes>"
      ]
     },
     "metadata": {
      "needs_background": "light"
     },
     "output_type": "display_data"
    },
    {
     "name": "stdout",
     "output_type": "stream",
     "text": [
      "current reward is: 334\n"
     ]
    },
    {
     "data": {
      "image/png": "[encoded data removed]",
      "text/plain": [
       "<Figure size 432x288 with 1 Axes>"
      ]
     },
     "metadata": {
      "needs_background": "light"
     },
     "output_type": "display_data"
    },
    {
     "name": "stdout",
     "output_type": "stream",
     "text": [
      "current reward is: 333\n"
     ]
    },
    {
     "data": {
      "image/png": "[encoded data removed]",
      "text/plain": [
       "<Figure size 432x288 with 1 Axes>"
      ]
     },
     "metadata": {
      "needs_background": "light"
     },
     "output_type": "display_data"
    }
   ],
   "source": [
    "env = Center_FOV()\n",
    "obs = env.reset()\n",
    "plt.imshow(obs, cmap = 'gray')\n",
    "#plt.colorbar()\n",
    "plt.show()\n",
    "\n",
    "count = 0\n",
    "while True: \n",
    "\n",
    "    # take random action\n",
    "    action = env.action_space.sample()\n",
    "    obs, reward, done = env.step(action)\n",
    "\n",
    "    print(f\"current reward is: {reward}\")\n",
    "\n",
    "    screen = env.render(mode = \"rgb_array\")\n",
    "    plt.imshow(screen, cmap = 'gray')\n",
    "    plt.show()\n",
    "    count +=1\n",
    "    if done == True or count == 10:\n",
    "        break\n",
    "env.close()\n",
    "\n",
    "\n",
    "# while True: \n",
    "\n",
    "#     # take random action\n",
    "#     action = env.action_space.sample()\n",
    "#     obs, reward, done = env.step(action)\n",
    "\n",
    "#     print(f\"current reward is: {reward}\")\n",
    "\n",
    "#     screen = env.render(mode = \"rgb_array\")\n",
    "#     plt.imshow(screen, cmap = 'gray')\n",
    "#     plt.show()\n",
    "\n",
    "#     if done == True:\n",
    "#         break\n",
    "# env.close()\n",
    "        "
   ]
  },
  {
   "cell_type": "code",
   "execution_count": null,
   "metadata": {},
   "outputs": [],
   "source": [
    "env = Center_FOV()\n",
    "obs = env.reset()\n",
    "plt.imshow(obs, cmap = 'gray')\n",
    "#plt.colorbar()\n",
    "plt.show()\n",
    "\n",
    "screen = env.render(mode = \"rgb_array\")\n",
    "plt.imshow(screen, cmap = 'gray')\n",
    "plt.show()\n",
    "# cv2 does not work. \n",
    "# cv2.imshow(\"game\", obs)\n",
    "# cv2.waitKey(10)\n",
    "# cv2.destroyAllWindows()"
   ]
  },
  {
   "cell_type": "markdown",
   "metadata": {},
   "source": [
    "# This is a class FOV Viewer, this will be determining the FOV and then calculating the total pixel values. "
   ]
  },
  {
   "cell_type": "code",
   "execution_count": 28,
   "metadata": {},
   "outputs": [],
   "source": [
    "class FOV_Viewer(object):\n",
    "    def __init__(self, name, x_max, x_min, y_max, y_min):\n",
    "        self.x = 0\n",
    "        self.y = 0\n",
    "        self.x_min = x_min\n",
    "        self.x_max = x_max\n",
    "        self.y_min = y_min\n",
    "        self.y_max = y_max\n",
    "        self.name = name\n",
    "        self.FOV_w = 50\n",
    "        self.FOV_h = 50\n",
    "    \n",
    "    def set_position(self, x, y):\n",
    "        self.x = x #self.clamp(self.x, self.x_min, self.x_max - self.FOV_w)\n",
    "        print(x)\n",
    "        print('yolo')\n",
    "        print(y)\n",
    "        self.y = y #self.clamp(self.y, self.y_min, self.y_max - self.FOV_h)\n",
    "        \n",
    "        # count = (self.canvas[x:self.FOV_w, y:y+self.FOV_h] == 1).sum()\n",
    "        # x_center, y_center = np.argwhere(self.canvas==1).sum(0)/count\n",
    "    \n",
    "    def get_position(self):\n",
    "        return (self.x, self.y)\n",
    "    \n",
    "    def move(self, del_x, del_y):\n",
    "        self.x += del_x\n",
    "        self.y += del_y\n",
    "        \n",
    "        self.x = self.clamp(self.x, self.x_min, self.x_max - self.FOV_w)\n",
    "        self.y = self.clamp(self.y, self.y_min, self.y_max - self.FOV_h)\n",
    "\n",
    "    def clamp(self, n, minn, maxn):\n",
    "        return max(min(maxn, n), minn)"
   ]
  },
  {
   "cell_type": "markdown",
   "metadata": {},
   "source": [
    "# This is the field of view of the image. "
   ]
  },
  {
   "cell_type": "code",
   "execution_count": 29,
   "metadata": {},
   "outputs": [],
   "source": [
    "# class FOV_grabber(FOV_Viewer):\n",
    "#     def __init__(self, name, x_max, x_min, y_max, y_min):\n",
    "#         super(FOV_grabber, self).__init__(name, x_max, x_min, y_max, y_min)\n",
    "\n",
    "#         self.FOV_w = 50\n",
    "#         self.FOV_h = 50\n",
    "#         #self.current_FOV = self.canvas[self.x:self.x+self.FOV_w, self.y:self.y+self.FOV_h]"
   ]
  },
  {
   "cell_type": "markdown",
   "metadata": {},
   "source": [
    "<!-- def draw_elements_on_canvas(self):\n",
    "    # Init the canvas \n",
    "     # get image and threshold it. This will be the backgroud. \n",
    "        img = image.imread(r\"cadaver_slice_160.png\")\n",
    "        I = img\n",
    "        I8 = (((I - I.min()) / (I.max() - I.min())) * 255.9).astype(np.uint8)\n",
    "\n",
    "        img = Image.fromarray(I8)\n",
    "        print(img.getextrema())\n",
    "        img = img.point(lambda p: p > 160) -->\n",
    "        "
   ]
  },
  {
   "cell_type": "code",
   "execution_count": 30,
   "metadata": {},
   "outputs": [],
   "source": [
    "# # Not necessary???\n",
    "\n",
    "# def draw_elements_on_canvas(self):\n",
    "#     # Init the canvas \n",
    "#     img = image.imread(r\"cadaver_slice_160.png\")\n",
    "#     I = img\n",
    "#     I8 = (((I - I.min()) / (I.max() - I.min())) * 255.9).astype(np.uint8)\n",
    "\n",
    "#     img = Image.fromarray(I8)\n",
    "#     print(img.getextrema())\n",
    "#     img = img.point(lambda p: p > 160)\n",
    "\n",
    "\n",
    "#     # draw the bounding box on the canvas. \n"
   ]
  },
  {
   "cell_type": "code",
   "execution_count": null,
   "metadata": {},
   "outputs": [],
   "source": []
  },
  {
   "cell_type": "markdown",
   "metadata": {},
   "source": [
    "# check to make sure the environment works. "
   ]
  },
  {
   "cell_type": "code",
   "execution_count": 42,
   "metadata": {},
   "outputs": [
    {
     "name": "stdout",
     "output_type": "stream",
     "text": [
      "(0, 255)\n",
      "0\n",
      "0\n",
      "300\n",
      "200\n",
      "(0, 255)\n"
     ]
    },
    {
     "data": {
      "image/png": "[encoded data removed]",
      "text/plain": [
       "<Figure size 432x288 with 1 Axes>"
      ]
     },
     "metadata": {
      "needs_background": "light"
     },
     "output_type": "display_data"
    },
    {
     "name": "stdout",
     "output_type": "stream",
     "text": [
      "3\n",
      "143\n",
      "3\n",
      "yolo\n",
      "143\n",
      "(3, 143)\n"
     ]
    },
    {
     "data": {
      "image/png": "[encoded data removed]",
      "text/plain": [
       "<Figure size 432x288 with 1 Axes>"
      ]
     },
     "metadata": {
      "needs_background": "light"
     },
     "output_type": "display_data"
    },
    {
     "name": "stdout",
     "output_type": "stream",
     "text": [
      "sum of pixels: 112\n"
     ]
    },
    {
     "data": {
      "image/png": "[encoded data removed]",
      "text/plain": [
       "<Figure size 432x288 with 1 Axes>"
      ]
     },
     "metadata": {
      "needs_background": "light"
     },
     "output_type": "display_data"
    }
   ],
   "source": [
    "env = Center_FOV()\n",
    "obs = env.reset()\n",
    "plt.imshow(obs, cmap = 'gray')\n",
    "#plt.colorbar()\n",
    "plt.show()\n",
    "print(f\"sum of pixels: {np.sum(obs)}\")\n",
    "\n",
    "screen = env.render(mode = \"rgb_array\")\n",
    "plt.imshow(screen, cmap = 'gray')\n",
    "plt.show()\n",
    "# cv2 does not work. \n",
    "# cv2.imshow(\"game\", obs)\n",
    "# cv2.waitKey(10)\n",
    "# cv2.destroyAllWindows()"
   ]
  }
 ],
 "metadata": {
  "interpreter": {
   "hash": "1764c09509337c35a74a9007914c2c31089d55b126a5649cb2cc897a85a7c720"
  },
  "kernelspec": {
   "display_name": "Python 3.9.10 ('deep_learning')",
   "language": "python",
   "name": "python3"
  },
  "language_info": {
   "codemirror_mode": {
    "name": "ipython",
    "version": 3
   },
   "file_extension": ".py",
   "mimetype": "text/x-python",
   "name": "python",
   "nbconvert_exporter": "python",
   "pygments_lexer": "ipython3",
   "version": "3.9.10"
  },
  "orig_nbformat": 4
 },
 "nbformat": 4,
 "nbformat_minor": 2
}
