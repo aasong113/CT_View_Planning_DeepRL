{
 "cells": [
  {
   "cell_type": "code",
   "execution_count": 1,
   "metadata": {},
   "outputs": [],
   "source": [
    "import numpy as np \n",
    "import cv2 \n",
    "import matplotlib.pyplot as plt\n",
    "import PIL.Image as Image\n",
    "import gym\n",
    "import random\n",
    "\n",
    "from gym import Env, spaces\n",
    "import time\n",
    "\n",
    "# https://blog.paperspace.com/creating-custom-environments-openai-gym/"
   ]
  },
  {
   "cell_type": "code",
   "execution_count": null,
   "metadata": {},
   "outputs": [],
   "source": [
    "class Center_FOV(Env):\n",
    "\n",
    "    ACTION = [\"UP\", \"DOWN\"]\n",
    "\n",
    "    def __init__(self):\n",
    "        super(Center_FOV, self).__init__()\n",
    "        \n",
    "\n",
    "        # Define a 2-D observation space\n",
    "        self.observation_shape = (405, 405, 1)\n",
    "\n",
    "        # Going up and down? \n",
    "        self.observation_space = spaces.Box(low = np.zeros(self.observation_shape), \n",
    "                                            high = np.ones(self.observation_shape),\n",
    "                                            dtype = np.float16)\n",
    "    \n",
    "        \n",
    "        # Define an action space ranging from 0 to 4\n",
    "        self.action_space = spaces.Discrete(2,)\n",
    "                        \n",
    "        # Create a canvas to render the environment images upon \n",
    "        self.canvas = np.ones(self.observation_shape) * 1\n",
    "        \n",
    "        # Define elements present inside the environment\n",
    "        self.elements = []\n",
    "        \n",
    "\n",
    "\n",
    "        # Permissible area of the FOV viewer to be \n",
    "        self.y_min = int (self.observation_shape[0] * 0.1)\n",
    "        self.x_min = int (self.observation_shape[1] * 0.1)\n",
    "        self.y_max = int (self.observation_shape[0] * 0.9)\n",
    "        self.x_max = int (self.observation_shape[1] * 0.9)"
   ]
  },
  {
   "cell_type": "markdown",
   "metadata": {},
   "source": [
    "# This is a class FOV Viewer, this will be determining the FOV and then calculating the total pixel values. "
   ]
  },
  {
   "cell_type": "code",
   "execution_count": null,
   "metadata": {},
   "outputs": [],
   "source": [
    "class FOV_Viewer(object):\n",
    "    def __init__(self, name, x_max, x_min, y_max, y_min):\n",
    "        self.x = 0\n",
    "        self.y = 0\n",
    "        self.x_min = x_min\n",
    "        self.x_max = x_max\n",
    "        self.y_min = y_min\n",
    "        self.y_max = y_max\n",
    "        self.name = name\n",
    "    \n",
    "    def set_position(self, x, y):\n",
    "        self.x = self.clamp(x, self.x_min, self.x_max - self.icon_w)\n",
    "        self.y = self.clamp(y, self.y_min, self.y_max - self.icon_h)\n",
    "    \n",
    "    def get_position(self):\n",
    "        return (self.x, self.y)\n",
    "    \n",
    "    def move(self, del_x, del_y):\n",
    "        self.x += del_x\n",
    "        self.y += del_y\n",
    "        \n",
    "        self.x = self.clamp(self.x, self.x_min, self.x_max - self.icon_w)\n",
    "        self.y = self.clamp(self.y, self.y_min, self.y_max - self.icon_h)\n",
    "\n",
    "    def clamp(self, n, minn, maxn):\n",
    "        return max(min(maxn, n), minn)"
   ]
  }
 ],
 "metadata": {
  "interpreter": {
   "hash": "1764c09509337c35a74a9007914c2c31089d55b126a5649cb2cc897a85a7c720"
  },
  "kernelspec": {
   "display_name": "Python 3.9.10 ('deep_learning')",
   "language": "python",
   "name": "python3"
  },
  "language_info": {
   "codemirror_mode": {
    "name": "ipython",
    "version": 3
   },
   "file_extension": ".py",
   "mimetype": "text/x-python",
   "name": "python",
   "nbconvert_exporter": "python",
   "pygments_lexer": "ipython3",
   "version": "3.9.10"
  },
  "orig_nbformat": 4
 },
 "nbformat": 4,
 "nbformat_minor": 2
}
