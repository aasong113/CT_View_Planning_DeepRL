{
 "cells": [
  {
   "cell_type": "code",
   "execution_count": 6,
   "metadata": {},
   "outputs": [],
   "source": [
    "import numpy as np \n",
    "import cv2 \n",
    "import matplotlib.pyplot as plt\n",
    "import PIL.Image as Image\n",
    "import gym\n",
    "import random\n",
    "from matplotlib import image\n",
    "from gym import Env, spaces\n",
    "import time\n",
    "\n",
    "# https://blog.paperspace.com/creating-custom-environments-openai-gym/"
   ]
  },
  {
   "cell_type": "code",
   "execution_count": null,
   "metadata": {},
   "outputs": [],
   "source": [
    "img = image.imread(r\"cadaver_slice_160.png\")"
   ]
  },
  {
   "cell_type": "code",
   "execution_count": null,
   "metadata": {},
   "outputs": [],
   "source": [
    "I = img\n",
    "I8 = (((I - I.min()) / (I.max() - I.min())) * 255.9).astype(np.uint8)\n",
    "\n",
    "img = Image.fromarray(I8)\n",
    "print(img.getextrema())\n",
    "img = img.point(lambda p: p > 160)\n",
    "print(img.getextrema())\n",
    "\n",
    "plt.imshow(img, cmap ='gray')\n",
    "plt.colorbar()\n",
    "plt.show()\n"
   ]
  },
  {
   "cell_type": "code",
   "execution_count": null,
   "metadata": {},
   "outputs": [],
   "source": [
    "print(img.size)"
   ]
  },
  {
   "cell_type": "markdown",
   "metadata": {},
   "source": [
    "# Create Environment"
   ]
  },
  {
   "cell_type": "code",
   "execution_count": 66,
   "metadata": {},
   "outputs": [],
   "source": [
    "class Center_FOV(Env):\n",
    "\n",
    "    ACTION = [\"UP\", \"DOWN\"]\n",
    "\n",
    "    def __init__(self):\n",
    "        super(Center_FOV, self).__init__()\n",
    "\n",
    "        # get image and threshold it. This will be the backgroud. \n",
    "        img = image.imread(r\"cadaver_slice_160.png\")\n",
    "        I = img#[100:300, 50:350]\n",
    "        \n",
    "        I8 = (((I - I.min()) / (I.max() - I.min())) * 255.9).astype(np.uint8)\n",
    "\n",
    "        img = Image.fromarray(I8)\n",
    "        print(img.getextrema())\n",
    "        img = img.point(lambda p: p > 160)\n",
    "        img = img.crop((50, 100, 350, 300))\n",
    "        \n",
    "\n",
    "        # Define a 2-D observation space\n",
    "        self.observation_shape = img.size\n",
    "\n",
    "        # Going up and down? \n",
    "        self.observation_space = spaces.Box(low = np.zeros(self.observation_shape), \n",
    "                                            high = np.ones(self.observation_shape),\n",
    "                                            dtype = np.float16)\n",
    "    \n",
    "        \n",
    "        # Define an action space ranging from 0 to 4\n",
    "        self.action_space = spaces.Discrete(2,)\n",
    "                        \n",
    "        # Create a canvas to render the environment images upon \n",
    "        self.canvas = img\n",
    "        \n",
    "        # Define elements present inside the environment\n",
    "        self.elements = []\n",
    "        \n",
    "\n",
    "\n",
    "        # Permissible area of the FOV viewer to be \n",
    "        self.y_min = 0#int (self.observation_shape[0])\n",
    "        print(self.y_min)\n",
    "        self.x_min = 0#int (self.observation_shape[1])\n",
    "        print(self.x_min)\n",
    "        self.y_max = int (self.observation_shape[0])\n",
    "        print(self.y_max)\n",
    "        self.x_max = int (self.observation_shape[1])\n",
    "        print(self.x_max)\n",
    "\n",
    "    def reset(self):\n",
    "\n",
    "        # Reset the reward\n",
    "        self.ep_return  = 0\n",
    "\n",
    "        # Reset the Canvas \n",
    "        img = image.imread(r\"cadaver_slice_160.png\")\n",
    "        #I = img\n",
    "        I = img#[100:300, 50:350]\n",
    "        I8 = (((I - I.min()) / (I.max() - I.min())) * 255.9).astype(np.uint8)\n",
    "\n",
    "        img = Image.fromarray(I8)\n",
    "        print(img.getextrema())\n",
    "        img = img.point(lambda p: p > 160)\n",
    "        #img = img[100:300, 50:350]\n",
    "        img = img.crop((50, 100, 350, 300))\n",
    "        self.canvas = img\n",
    "\n",
    "        plt.imshow(self.canvas, cmap = 'gray')\n",
    "        plt.show()\n",
    "\n",
    "\n",
    "\n",
    "        \n",
    "\n",
    "        # Intialise the chopper\n",
    "        #self.grabber = FOV_grabber(\"FOV_Grabber\", self.x_max, self.x_min, self.y_max, self.y_min)\n",
    "        self.grabber = FOV_Viewer(\"FOV_Grabber\", self.x_max, self.x_min, self.y_max, self.y_min)\n",
    "        # Determine a place to intialise the chopper in\n",
    "        x = random.randrange(0, int(self.observation_shape[0] - self.grabber.FOV_w))\n",
    "        y = random.randrange(0, int(self.observation_shape[1] - self.grabber.FOV_h))\n",
    "        print(x)\n",
    "        print(y)\n",
    "        self.grabber.set_position(x,y)\n",
    "        print(self.grabber.get_position())\n",
    "\n",
    "\n",
    "        # return the observation\n",
    "        return self.canvas.crop((self.grabber.x, self.grabber.y, self.grabber.x+self.grabber.FOV_w, self.grabber.y+self.grabber.FOV_h))\n",
    "\n",
    "        \n",
    "        #return self.canvas[self.grabber.x:self.grabber.x+self.grabber.FOV_w, self.grabber.y:self.grabber.y+self.grabber.FOV_h]"
   ]
  },
  {
   "cell_type": "markdown",
   "metadata": {},
   "source": [
    "# This is a class FOV Viewer, this will be determining the FOV and then calculating the total pixel values. "
   ]
  },
  {
   "cell_type": "code",
   "execution_count": 67,
   "metadata": {},
   "outputs": [],
   "source": [
    "class FOV_Viewer(object):\n",
    "    def __init__(self, name, x_max, x_min, y_max, y_min):\n",
    "        self.x = 0\n",
    "        self.y = 0\n",
    "        self.x_min = x_min\n",
    "        self.x_max = x_max\n",
    "        self.y_min = y_min\n",
    "        self.y_max = y_max\n",
    "        self.name = name\n",
    "        self.FOV_w = 50\n",
    "        self.FOV_h = 50\n",
    "    \n",
    "    def set_position(self, x, y):\n",
    "        self.x = x #self.clamp(self.x, self.x_min, self.x_max - self.FOV_w)\n",
    "        print(x)\n",
    "        print('yolo')\n",
    "        print(y)\n",
    "        self.y = y #self.clamp(self.y, self.y_min, self.y_max - self.FOV_h)\n",
    "        \n",
    "        # count = (self.canvas[x:self.FOV_w, y:y+self.FOV_h] == 1).sum()\n",
    "        # x_center, y_center = np.argwhere(self.canvas==1).sum(0)/count\n",
    "    \n",
    "    def get_position(self):\n",
    "        return (self.x, self.y)\n",
    "    \n",
    "    def move(self, del_x, del_y):\n",
    "        self.x += del_x\n",
    "        self.y += del_y\n",
    "        \n",
    "        self.x = self.clamp(self.x, self.x_min, self.x_max - self.FOV_w)\n",
    "        self.y = self.clamp(self.y, self.y_min, self.y_max - self.FOV_h)\n",
    "\n",
    "    def clamp(self, n, minn, maxn):\n",
    "        return max(min(maxn, n), minn)"
   ]
  },
  {
   "cell_type": "markdown",
   "metadata": {},
   "source": [
    "# This is the field of view of the image. "
   ]
  },
  {
   "cell_type": "code",
   "execution_count": 64,
   "metadata": {},
   "outputs": [],
   "source": [
    "# class FOV_grabber(FOV_Viewer):\n",
    "#     def __init__(self, name, x_max, x_min, y_max, y_min):\n",
    "#         super(FOV_grabber, self).__init__(name, x_max, x_min, y_max, y_min)\n",
    "\n",
    "#         self.FOV_w = 50\n",
    "#         self.FOV_h = 50\n",
    "#         #self.current_FOV = self.canvas[self.x:self.x+self.FOV_w, self.y:self.y+self.FOV_h]"
   ]
  },
  {
   "cell_type": "markdown",
   "metadata": {},
   "source": [
    "<!-- def draw_elements_on_canvas(self):\n",
    "    # Init the canvas \n",
    "     # get image and threshold it. This will be the backgroud. \n",
    "        img = image.imread(r\"cadaver_slice_160.png\")\n",
    "        I = img\n",
    "        I8 = (((I - I.min()) / (I.max() - I.min())) * 255.9).astype(np.uint8)\n",
    "\n",
    "        img = Image.fromarray(I8)\n",
    "        print(img.getextrema())\n",
    "        img = img.point(lambda p: p > 160) -->\n",
    "        "
   ]
  },
  {
   "cell_type": "code",
   "execution_count": null,
   "metadata": {},
   "outputs": [],
   "source": [
    "# # Not necessary???\n",
    "\n",
    "# def draw_elements_on_canvas(self):\n",
    "#     # Init the canvas \n",
    "#     img = image.imread(r\"cadaver_slice_160.png\")\n",
    "#     I = img\n",
    "#     I8 = (((I - I.min()) / (I.max() - I.min())) * 255.9).astype(np.uint8)\n",
    "\n",
    "#     img = Image.fromarray(I8)\n",
    "#     print(img.getextrema())\n",
    "#     img = img.point(lambda p: p > 160)\n",
    "\n",
    "\n",
    "#     # draw the bounding box on the canvas. \n"
   ]
  },
  {
   "cell_type": "code",
   "execution_count": null,
   "metadata": {},
   "outputs": [],
   "source": []
  },
  {
   "cell_type": "markdown",
   "metadata": {},
   "source": [
    "# check to make sure the environment works. "
   ]
  },
  {
   "cell_type": "code",
   "execution_count": 74,
   "metadata": {},
   "outputs": [
    {
     "name": "stdout",
     "output_type": "stream",
     "text": [
      "(0, 255)\n",
      "0\n",
      "0\n",
      "300\n",
      "200\n",
      "(0, 255)\n"
     ]
    },
    {
     "data": {
      "image/png": "[encoded data removed]",
      "text/plain": [
       "<Figure size 432x288 with 1 Axes>"
      ]
     },
     "metadata": {
      "needs_background": "light"
     },
     "output_type": "display_data"
    },
    {
     "name": "stdout",
     "output_type": "stream",
     "text": [
      "172\n",
      "102\n",
      "172\n",
      "yolo\n",
      "102\n",
      "(172, 102)\n"
     ]
    },
    {
     "data": {
      "image/png": "[encoded data removed]",
      "text/plain": [
       "<Figure size 432x288 with 1 Axes>"
      ]
     },
     "metadata": {
      "needs_background": "light"
     },
     "output_type": "display_data"
    }
   ],
   "source": [
    "env = Center_FOV()\n",
    "obs = env.reset()\n",
    "plt.imshow(obs, cmap = 'gray')\n",
    "#plt.colorbar()\n",
    "plt.show()"
   ]
  }
 ],
 "metadata": {
  "interpreter": {
   "hash": "1764c09509337c35a74a9007914c2c31089d55b126a5649cb2cc897a85a7c720"
  },
  "kernelspec": {
   "display_name": "Python 3.9.10 ('deep_learning')",
   "language": "python",
   "name": "python3"
  },
  "language_info": {
   "codemirror_mode": {
    "name": "ipython",
    "version": 3
   },
   "file_extension": ".py",
   "mimetype": "text/x-python",
   "name": "python",
   "nbconvert_exporter": "python",
   "pygments_lexer": "ipython3",
   "version": "3.9.10"
  },
  "orig_nbformat": 4
 },
 "nbformat": 4,
 "nbformat_minor": 2
}
