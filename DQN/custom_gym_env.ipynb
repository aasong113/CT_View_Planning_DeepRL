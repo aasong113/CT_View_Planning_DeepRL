{
 "cells": [
  {
   "cell_type": "code",
   "execution_count": 78,
   "metadata": {},
   "outputs": [],
   "source": [
    "import numpy as np \n",
    "import cv2 \n",
    "import matplotlib.pyplot as plt\n",
    "import PIL.Image as Image\n",
    "import gym\n",
    "import random\n",
    "from matplotlib import image\n",
    "from gym import Env, spaces\n",
    "import time\n",
    "import math\n",
    "import seaborn as sns\n",
    "\n",
    "# https://blog.paperspace.com/creating-custom-environments-openai-gym/"
   ]
  },
  {
   "cell_type": "code",
   "execution_count": 24,
   "metadata": {},
   "outputs": [],
   "source": [
    "img = image.imread(r\"cadaver_slice_160.png\")"
   ]
  },
  {
   "cell_type": "code",
   "execution_count": 25,
   "metadata": {},
   "outputs": [
    {
     "name": "stdout",
     "output_type": "stream",
     "text": [
      "(0, 255)\n",
      "(0, 1)\n"
     ]
    },
    {
     "data": {
      "image/png": "[encoded data removed]",
      "text/plain": [
       "<Figure size 432x288 with 2 Axes>"
      ]
     },
     "metadata": {
      "needs_background": "light"
     },
     "output_type": "display_data"
    }
   ],
   "source": [
    "I = img\n",
    "I8 = (((I - I.min()) / (I.max() - I.min())) * 255.9).astype(np.uint8)\n",
    "\n",
    "img = Image.fromarray(I8)\n",
    "print(img.getextrema())\n",
    "img = img.point(lambda p: p > 160)\n",
    "print(img.getextrema())\n",
    "\n",
    "plt.imshow(img, cmap ='gray')\n",
    "plt.colorbar()\n",
    "plt.show()\n"
   ]
  },
  {
   "cell_type": "code",
   "execution_count": 26,
   "metadata": {},
   "outputs": [
    {
     "name": "stdout",
     "output_type": "stream",
     "text": [
      "(405, 405)\n"
     ]
    }
   ],
   "source": [
    "print(img.size)"
   ]
  },
  {
   "cell_type": "markdown",
   "metadata": {},
   "source": [
    "# Create Environment"
   ]
  },
  {
   "cell_type": "code",
   "execution_count": 147,
   "metadata": {},
   "outputs": [],
   "source": [
    "class Center_FOV(Env):\n",
    "\n",
    "    ACTION = [\"Right\", \"Left\", \"Down\", \"Up\", \"Do Nothing\"]\n",
    "\n",
    "    def __init__(self):\n",
    "        super(Center_FOV, self).__init__()\n",
    "\n",
    "        # get image and threshold it. This will be the backgroud. \n",
    "        img = image.imread(r\"cadaver_slice_160.png\")\n",
    "        I = img#[100:300, 50:350]\n",
    "        \n",
    "        I8 = (((I - I.min()) / (I.max() - I.min())) * 255.9).astype(np.uint8)\n",
    "\n",
    "        img = Image.fromarray(I8)\n",
    "        print(img.getextrema())\n",
    "        img = img.point(lambda p: p > 160)\n",
    "        # PIL Image:(left, upper, right, lower)\n",
    "        \n",
    "        # define image dimensions: \n",
    "        self.left = 100\n",
    "        self.right = 350\n",
    "        self.upper = 100\n",
    "        self.lower = 300\n",
    "        img = img.crop((self.left, self.upper, self.right, self.lower))\n",
    "        #print(img.size)\n",
    "\n",
    "\n",
    "\n",
    "        DISCRETE_Observation_size = []\n",
    "        \n",
    "\n",
    "        # Define a 2-D observation space\n",
    "        self.observation_shape = img.size\n",
    "\n",
    "        # I think the highest observation space would be either all ones, where the reward at each position would be FOV_h*FOV_w\n",
    "        # the lowest observation space would be all zeros, where the reward at each position would be zero. \n",
    "        self.observation_space = spaces.Box(low = np.zeros(self.observation_shape), \n",
    "                                            high = np.ones(self.observation_shape),\n",
    "                                            dtype = np.float16)\n",
    "    \n",
    "        \n",
    "        # Define an action space ranging from 0 to 4\n",
    "        self.action_space = spaces.Discrete(5,)\n",
    "                        \n",
    "        # Create a canvas to render the environment images upon \n",
    "        self.canvas = img\n",
    "\n",
    "        # current FOV: This is what will be displayed until we reach the optimal position. \n",
    "        self.current_FOV = img\n",
    "        \n",
    "        # define reward\n",
    "        self.reward = 0\n",
    "        self.max_reward = 0\n",
    "        \n",
    "\n",
    "\n",
    "        # Permissible area of the FOV viewer to be \n",
    "        self.y_min = 0#int (self.observation_shape[0])\n",
    "        print(self.y_min)\n",
    "        self.x_min = 0#int (self.observation_shape[1])\n",
    "        print(self.x_min)\n",
    "        self.y_max = int (self.observation_shape[0])\n",
    "        print(self.y_max)\n",
    "        self.x_max = int (self.observation_shape[1])\n",
    "        print(self.x_max)\n",
    "\n",
    "    def reset(self):\n",
    "\n",
    "        # Reset the reward\n",
    "        self.reward = 0\n",
    "        self.max_reward = 0\n",
    "\n",
    "        # Reset the Canvas \n",
    "        img = image.imread(r\"cadaver_slice_160.png\")\n",
    "        #I = img\n",
    "        I = img#[100:300, 50:350]\n",
    "        I8 = (((I - I.min()) / (I.max() - I.min())) * 255.9).astype(np.uint8)\n",
    "\n",
    "        img = Image.fromarray(I8)\n",
    "        #print(img.getextrema())\n",
    "        img = img.point(lambda p: p > 160)\n",
    "        #img = img[100:300, 50:350]\n",
    "        img = img.crop((self.left, self.upper, self.right, self.lower))\n",
    "        self.canvas = img\n",
    "\n",
    "        plt.imshow(self.canvas, cmap = 'gray')\n",
    "        plt.show()\n",
    "\n",
    "\n",
    "\n",
    "        \n",
    "\n",
    "        # Intialise the chopper\n",
    "        #self.grabber = FOV_grabber(\"FOV_Grabber\", self.x_max, self.x_min, self.y_max, self.y_min)\n",
    "        self.grabber = FOV_Viewer(\"FOV_Grabber\", self.x_max, self.x_min, self.y_max, self.y_min)\n",
    "        # Determine a place to intialise the chopper in\n",
    "        x = random.randrange(0, int(self.observation_shape[0] - self.grabber.FOV_w))\n",
    "        y = random.randrange(0, int(self.observation_shape[1] - self.grabber.FOV_h))\n",
    "        #print(x)\n",
    "        #print(y)\n",
    "        self.grabber.set_position(x,y)\n",
    "        print(self.grabber.get_position())\n",
    "\n",
    "\n",
    "        # return the observation\n",
    "        self.current_FOV = self.canvas.crop((self.grabber.x, self.grabber.y, self.grabber.x+self.grabber.FOV_w,self.grabber.y+self.grabber.FOV_h))\n",
    "        \n",
    "        return self.current_FOV\n",
    "        #return self.canvas[self.grabber.x:self.grabber.x+self.grabber.FOV_w, self.grabber.y:self.grabber.y+self.grabber.FOV_h]\n",
    "\n",
    "    # used to render our observations on the screen. \n",
    "    def render(self, mode = 'human'):\n",
    "        assert mode in ['human', 'rgb_array'], \"Invalid mode, must be either \\\"human\\\" or \\\"rgb_array\\\"\"\n",
    "\n",
    "        if mode == 'human':\n",
    "            plt.imshow(self.current_FOV)\n",
    "            plt.show()\n",
    "        \n",
    "        elif mode == 'rgb_array':\n",
    "            return self.current_FOV\n",
    "\n",
    "    def get_action_meanings(self):\n",
    "        return {0: \"Right\", 1: \"Left\", 2: \"Down\", 3: \"Up\", 4: \"Do Nothing\"}\n",
    "\n",
    "\n",
    "\n",
    "    # This is the step function which steps for our FOV\n",
    "    def step(self, action):\n",
    "\n",
    "        # episode done? \n",
    "        done = False\n",
    "        #Assert that an action is valid. \n",
    "        assert self.action_space.contains(action), \"Invalid Action\"\n",
    "\n",
    "        # get the current reward, which is the sum of all pixels. \n",
    "        # previous_state_reward = int(np.sum(self.current_FOV))\n",
    "        \n",
    "        \n",
    "        self.step_size = 10\n",
    "\n",
    "        # apply action to the FOV grabber so it can move. \n",
    "        if action == 0:\n",
    "            self.grabber.move(0, self.step_size)\n",
    "        elif action == 1:\n",
    "            self.grabber.move(0, -self.step_size)  \n",
    "        elif action == 2:\n",
    "            self.grabber.move(self.step_size, 0)  \n",
    "        elif action == 3:\n",
    "            self.grabber.move(-self.step_size, 0)  \n",
    "        elif action == 4:\n",
    "            self.grabber.move(0, 0)  \n",
    "\n",
    "         # update the new position of the FOV. \n",
    "        self.current_FOV = self.canvas.crop((self.grabber.x, self.grabber.y, self.grabber.x+self.grabber.FOV_w,self.grabber.y+self.grabber.FOV_h))\n",
    "        self.reward = np.sum(self.current_FOV)\n",
    "\n",
    "\n",
    "\n",
    "\n",
    "        # # get sum of pixels after moving. \n",
    "        # new_state_reward =int( np.sum(self.current_FOV)) \n",
    "\n",
    "        # print((new_state_reward - previous_state_reward) )\n",
    "\n",
    "        # # calculate difference. \n",
    "        # if (new_state_reward < previous_state_reward):\n",
    "        #     # to deal with negative integers. \n",
    "        #     self.reward -=(previous_state_reward - new_state_reward) \n",
    "        # else: \n",
    "        #     # update the reward, we want to move toward the region of maximum pixels or highest reward. \n",
    "        #     self.reward +=(new_state_reward - previous_state_reward) \n",
    "\n",
    "        # everytime we move, the reward is decremented. \n",
    "        #self.reward -= 1\n",
    "\n",
    "        # if the current reward is not greater than the max reward, then we are going in the wrong direction, and we add a penalty of -1\n",
    "        \n",
    "\n",
    "        #update max reward\n",
    "        if self.reward >= self.max_reward:\n",
    "            self.max_reward = self.reward\n",
    "        # otherwise, if it is not greater, then we will need to add some sort of penalty to the max reward. We want to maximize the max reward. \n",
    "        # basically for every step that is not in the direction of increasing pixels, we need to decrement the max reward. \n",
    "        else:\n",
    "            self.max_reward -=1 \n",
    "\n",
    "            #self.max_reward -=np.floor(0.1*self.max_reward)\n",
    "\n",
    "        # The reward will be the sum of the pixels. \n",
    "        self.reward += np.sum(self.current_FOV)\n",
    "\n",
    "        # Incremenet the episodic return\n",
    "        # self.ep_return += 1\n",
    "\n",
    "        # Stopping condition needs to be refined to a maximum. \n",
    "        if self.max_reward > 1000:\n",
    "            print(f'finished with reward: {self.reward}')\n",
    "            done = True\n",
    "\n",
    "        return self.current_FOV, self.max_reward, done\n",
    "\n",
    "\n",
    "    # def render(self, mode = \"human\"):\n",
    "    #     assert mode in [\"human\", \"rgb_array\"], \"Invalid mode, must be either \\\"human\\\" or \\\"rgb_array\\\"\"\n",
    "    #     if mode == \"human\":\n",
    "    #         cv2.imshow(\"Game\", self.canvas)\n",
    "    #         cv2.waitKey(10)\n",
    "        \n",
    "    #     elif mode == \"rgb_array\":\n",
    "    #         return self.canvas"
   ]
  },
  {
   "cell_type": "code",
   "execution_count": 123,
   "metadata": {},
   "outputs": [
    {
     "name": "stdout",
     "output_type": "stream",
     "text": [
      "(0, 255)\n",
      "0\n",
      "0\n",
      "250\n",
      "200\n"
     ]
    },
    {
     "name": "stderr",
     "output_type": "stream",
     "text": [
      "C:\\Users\\asong18\\Anaconda3\\envs\\deeplearning\\lib\\site-packages\\gym\\spaces\\box.py:73: UserWarning: \u001b[33mWARN: Box bound precision lowered by casting to float16\u001b[0m\n",
      "  logger.warn(\n"
     ]
    },
    {
     "data": {
      "image/png": "[encoded data removed]",
      "text/plain": [
       "<Figure size 432x288 with 1 Axes>"
      ]
     },
     "metadata": {
      "needs_background": "light"
     },
     "output_type": "display_data"
    },
    {
     "name": "stdout",
     "output_type": "stream",
     "text": [
      "54\n",
      "yolo\n",
      "9\n",
      "(54, 9)\n"
     ]
    },
    {
     "data": {
      "image/png": "[encoded data removed]",
      "text/plain": [
       "<Figure size 432x288 with 1 Axes>"
      ]
     },
     "metadata": {
      "needs_background": "light"
     },
     "output_type": "display_data"
    },
    {
     "name": "stdout",
     "output_type": "stream",
     "text": [
      "position = <method-wrapper '__ne__' of method object at 0x0000017489C00980>\n"
     ]
    }
   ],
   "source": [
    "env = Center_FOV()\n",
    "obs = env.reset()\n",
    "\n",
    "plt.imshow(obs, cmap = 'gray')\n",
    "#plt.colorbar()\n",
    "plt.show()\n",
    "print(env.)\n",
    "print(f'position = {env.grabber.get_position.__ne__}')\n",
    "\n",
    "# count = 0\n",
    "# while True: \n",
    "\n",
    "#     # take random action\n",
    "#     action = env.action_space.sample()\n",
    "#     obs, reward, done = env.step(action)\n",
    "\n",
    "#     print(f\"current reward is: {reward}\")\n",
    "\n",
    "#     screen = env.render(mode = \"rgb_array\")\n",
    "#     plt.imshow(screen, cmap = 'gray')\n",
    "#     plt.show()\n",
    "#     count +=1\n",
    "#     if done == True or count == 10:\n",
    "#         break\n",
    "# env.close()\n",
    "\n",
    "\n",
    "# while True: \n",
    "\n",
    "#     # take random action\n",
    "#     action = env.action_space.sample()\n",
    "#     obs, reward, done = env.step(action)\n",
    "\n",
    "#     print(f\"current reward is: {reward}\")\n",
    "\n",
    "#     screen = env.render(mode = \"rgb_array\")\n",
    "#     plt.imshow(screen, cmap = 'gray')\n",
    "#     plt.show()\n",
    "\n",
    "#     if done == True:\n",
    "#         break\n",
    "# env.close()\n",
    "        "
   ]
  },
  {
   "cell_type": "markdown",
   "metadata": {},
   "source": []
  },
  {
   "cell_type": "code",
   "execution_count": null,
   "metadata": {},
   "outputs": [],
   "source": [
    "env = Center_FOV()\n",
    "obs = env.reset()\n",
    "plt.imshow(obs, cmap = 'gray')\n",
    "#plt.colorbar()\n",
    "plt.show()\n",
    "\n",
    "screen = env.render(mode = \"rgb_array\")\n",
    "plt.imshow(screen, cmap = 'gray')\n",
    "plt.show()\n",
    "# cv2 does not work. \n",
    "# cv2.imshow(\"game\", obs)\n",
    "# cv2.waitKey(10)\n",
    "# cv2.destroyAllWindows()"
   ]
  },
  {
   "cell_type": "markdown",
   "metadata": {},
   "source": [
    "# This is a class FOV Viewer, this will be determining the FOV and then calculating the total pixel values. "
   ]
  },
  {
   "cell_type": "code",
   "execution_count": 28,
   "metadata": {},
   "outputs": [],
   "source": [
    "class FOV_Viewer(object):\n",
    "    def __init__(self, name, x_max, x_min, y_max, y_min):\n",
    "        self.x = 0\n",
    "        self.y = 0\n",
    "        self.x_min = x_min\n",
    "        self.x_max = x_max\n",
    "        self.y_min = y_min\n",
    "        self.y_max = y_max\n",
    "        self.name = name\n",
    "        self.FOV_w = 50\n",
    "        self.FOV_h = 50\n",
    "    \n",
    "    def set_position(self, x, y):\n",
    "        self.x = x #self.clamp(self.x, self.x_min, self.x_max - self.FOV_w)\n",
    "        print(x)\n",
    "        print('yolo')\n",
    "        print(y)\n",
    "        self.y = y #self.clamp(self.y, self.y_min, self.y_max - self.FOV_h)\n",
    "        \n",
    "        # count = (self.canvas[x:self.FOV_w, y:y+self.FOV_h] == 1).sum()\n",
    "        # x_center, y_center = np.argwhere(self.canvas==1).sum(0)/count\n",
    "    \n",
    "    def get_position(self):\n",
    "        return (self.x, self.y)\n",
    "    \n",
    "    def move(self, del_x, del_y):\n",
    "        self.x += del_x\n",
    "        self.y += del_y\n",
    "        \n",
    "        self.x = self.clamp(self.x, self.x_min, self.x_max - self.FOV_w)\n",
    "        self.y = self.clamp(self.y, self.y_min, self.y_max - self.FOV_h)\n",
    "\n",
    "    def clamp(self, n, minn, maxn):\n",
    "        return max(min(maxn, n), minn)"
   ]
  },
  {
   "cell_type": "markdown",
   "metadata": {},
   "source": [
    "# This is the field of view of the image. "
   ]
  },
  {
   "cell_type": "code",
   "execution_count": 29,
   "metadata": {},
   "outputs": [],
   "source": [
    "# class FOV_grabber(FOV_Viewer):\n",
    "#     def __init__(self, name, x_max, x_min, y_max, y_min):\n",
    "#         super(FOV_grabber, self).__init__(name, x_max, x_min, y_max, y_min)\n",
    "\n",
    "#         self.FOV_w = 50\n",
    "#         self.FOV_h = 50\n",
    "#         #self.current_FOV = self.canvas[self.x:self.x+self.FOV_w, self.y:self.y+self.FOV_h]"
   ]
  },
  {
   "cell_type": "markdown",
   "metadata": {},
   "source": [
    "<!-- def draw_elements_on_canvas(self):\n",
    "    # Init the canvas \n",
    "     # get image and threshold it. This will be the backgroud. \n",
    "        img = image.imread(r\"cadaver_slice_160.png\")\n",
    "        I = img\n",
    "        I8 = (((I - I.min()) / (I.max() - I.min())) * 255.9).astype(np.uint8)\n",
    "\n",
    "        img = Image.fromarray(I8)\n",
    "        print(img.getextrema())\n",
    "        img = img.point(lambda p: p > 160) -->\n",
    "        "
   ]
  },
  {
   "cell_type": "code",
   "execution_count": 30,
   "metadata": {},
   "outputs": [],
   "source": [
    "# # Not necessary???\n",
    "\n",
    "# def draw_elements_on_canvas(self):\n",
    "#     # Init the canvas \n",
    "#     img = image.imread(r\"cadaver_slice_160.png\")\n",
    "#     I = img\n",
    "#     I8 = (((I - I.min()) / (I.max() - I.min())) * 255.9).astype(np.uint8)\n",
    "\n",
    "#     img = Image.fromarray(I8)\n",
    "#     print(img.getextrema())\n",
    "#     img = img.point(lambda p: p > 160)\n",
    "\n",
    "\n",
    "#     # draw the bounding box on the canvas. \n"
   ]
  },
  {
   "cell_type": "code",
   "execution_count": null,
   "metadata": {},
   "outputs": [],
   "source": []
  },
  {
   "cell_type": "markdown",
   "metadata": {},
   "source": [
    "# check to make sure the environment works. "
   ]
  },
  {
   "cell_type": "code",
   "execution_count": 42,
   "metadata": {},
   "outputs": [
    {
     "name": "stdout",
     "output_type": "stream",
     "text": [
      "(0, 255)\n",
      "0\n",
      "0\n",
      "300\n",
      "200\n",
      "(0, 255)\n"
     ]
    },
    {
     "data": {
      "image/png": "[encoded data removed]",
      "text/plain": [
       "<Figure size 432x288 with 1 Axes>"
      ]
     },
     "metadata": {
      "needs_background": "light"
     },
     "output_type": "display_data"
    },
    {
     "name": "stdout",
     "output_type": "stream",
     "text": [
      "3\n",
      "143\n",
      "3\n",
      "yolo\n",
      "143\n",
      "(3, 143)\n"
     ]
    },
    {
     "data": {
      "image/png": "[encoded data removed]",
      "text/plain": [
       "<Figure size 432x288 with 1 Axes>"
      ]
     },
     "metadata": {
      "needs_background": "light"
     },
     "output_type": "display_data"
    },
    {
     "name": "stdout",
     "output_type": "stream",
     "text": [
      "sum of pixels: 112\n"
     ]
    },
    {
     "data": {
      "image/png": "[encoded data removed]",
      "text/plain": [
       "<Figure size 432x288 with 1 Axes>"
      ]
     },
     "metadata": {
      "needs_background": "light"
     },
     "output_type": "display_data"
    }
   ],
   "source": [
    "env = Center_FOV()\n",
    "obs = env.reset()\n",
    "plt.imshow(obs, cmap = 'gray')\n",
    "#plt.colorbar()\n",
    "plt.show()\n",
    "print(f\"sum of pixels: {np.sum(obs)}\")\n",
    "\n",
    "screen = env.render(mode = \"rgb_array\")\n",
    "plt.imshow(screen, cmap = 'gray')\n",
    "plt.show()\n",
    "# cv2 does not work. \n",
    "# cv2.imshow(\"game\", obs)\n",
    "# cv2.waitKey(10)\n",
    "# cv2.destroyAllWindows()"
   ]
  },
  {
   "cell_type": "markdown",
   "metadata": {},
   "source": [
    "# this is now to test the Q-Table. "
   ]
  },
  {
   "cell_type": "code",
   "execution_count": 76,
   "metadata": {},
   "outputs": [],
   "source": [
    "def get_explore_rate(t,min_explore_rate,decay_fact):\n",
    "    return max(min_explore_rate, min(0.8, 1.0 - math.log10((t+1)/decay_fact)))\n",
    "\n",
    "\n",
    "def get_learning_rate(t,min_learning_rate,decay_fact):\n",
    "    return max(min_learning_rate, min(0.8, 1.0 - math.log10((t+1)/decay_fact)))"
   ]
  },
  {
   "cell_type": "code",
   "execution_count": 79,
   "metadata": {},
   "outputs": [],
   "source": [
    "# variables: \n",
    "neps = 20\n",
    "tstep = 200\n",
    "min_explore_rate = 0.1\n",
    "min_learning_rate = 0.2\n",
    "#grid_size = tuple((env.observation_space.high + np.ones(env.observation_space.shape)).astype(int))\n",
    "#decay_fact = np.prod(grid_size, dtype=float) / 10.0\n",
    "decay_fact = 10/10.0\n",
    "#state_bounds = list(zip(env.observation_space.low, env.observation_space.high))\n",
    "explore_rate = get_explore_rate(0,min_explore_rate,decay_fact)\n",
    "learning_rate = get_learning_rate(0,min_learning_rate,decay_fact)"
   ]
  },
  {
   "cell_type": "code",
   "execution_count": 80,
   "metadata": {},
   "outputs": [],
   "source": [
    "def select_action(env,state, q_table,explore_rate):\n",
    "    # Select a random action\n",
    "    if random.random() < explore_rate:\n",
    "        action = env.action_space.sample()\n",
    "    # Select the action with the highest q\n",
    "    else:\n",
    "        action = int(np.argmax(q_table[state]))\n",
    "    return action"
   ]
  },
  {
   "cell_type": "code",
   "execution_count": 118,
   "metadata": {},
   "outputs": [],
   "source": [
    "#[5:38 PM, 4/22/2022] Natalie  Aw: I think it just makes sure that the grid and the screen are properly aligned\n",
    "#[5:38 PM, 4/22/2022] Natalie  Aw: Cause the grid layer doesnt sit perfectly over the image\n",
    "\n",
    "def state_to_bucket(state,env):\n",
    "    grid_size = tuple((env.observation_space.high + np.ones(env.observation_space.shape)).astype(int))\n",
    "    state_bounds = list(zip(env.observation_space.low, env.observation_space.high))\n",
    "    bucket_indice = []\n",
    "    for i in range(len(state)):\n",
    "        if state[i] <= state_bounds[i][0]:\n",
    "            bucket_index = 0\n",
    "        elif state[i] >= state_bounds[i][1]:\n",
    "            bucket_index = grid_size[i] - 1\n",
    "        else:\n",
    "            # Mapping the state bounds to the bucket array\n",
    "            bound_width = state_bounds[i][1] - state_bounds[i][0]\n",
    "            offset = (grid_size[i]-1)*state_bounds[i][0]/bound_width\n",
    "            scaling = (grid_size[i]-1)/bound_width\n",
    "            bucket_index = int(round(scaling*state[i] - offset))\n",
    "        bucket_indice.append(bucket_index)\n",
    "    return tuple(bucket_indice)\n"
   ]
  },
  {
   "cell_type": "code",
   "execution_count": 116,
   "metadata": {},
   "outputs": [],
   "source": [
    "def run_qlearn(env, explore_rate, learning_rate, neps=3,tstep=25, discount_factor = 0.99):\n",
    "    env.render()\n",
    "    \n",
    "    print(env.canvas.size)\n",
    "    print([env.action_space.n])\n",
    "    q_table = np.random.uniform(low = -2, high = 0, size = (env.canvas.size[0], env.canvas.size[1], env.action_space.n))\n",
    "    print(f'qtable shape: {q_table.shape}')\n",
    "\n",
    "\n",
    "    for ep in range(neps):\n",
    "        obv = env.reset()\n",
    "        print(ep)\n",
    "        state_0 = state_to_bucket(obv,env)\n",
    "        total_reward = 0\n",
    "        \n",
    "        for t in range(tstep):\n",
    "            # select best action and execute\n",
    "            action = select_action(env,state_0, q_table, explore_rate)\n",
    "            obv,reward,done,_ = env.step(action)\n",
    "            \n",
    "            # update the state you are in, add reward (observe result)\n",
    "            state = state_to_bucket(obv,env)\n",
    "            total_reward += reward\n",
    "            \n",
    "            # update Q-table\n",
    "            best_q = np.amax(q_table[state])\n",
    "            q_table[state_0 + (action,)] += learning_rate * (reward + discount_factor * (best_q) - q_table[state_0 + (action,)])\n",
    "            \n",
    "            # update state\n",
    "            state_0 = state\n",
    "            \n",
    "            env.render()\n",
    "            time.sleep(0.05)\n",
    "            \n",
    "            \n",
    "            # update parameters\n",
    "            #explore_rate = get_explore_rate(ep,min_explore_rate,decay_fact)\n",
    "            #learning_rate = get_learning_rate(ep,min_learning_rate,decay_fact)\n",
    "            \n",
    "            if done:\n",
    "                env.reset()\n",
    "                print(\"Episode finished after {} timesteps\".format(t+1))\n",
    "                time.sleep(2)\n",
    "                break\n",
    "                \n",
    "    return q_table"
   ]
  },
  {
   "cell_type": "code",
   "execution_count": 152,
   "metadata": {},
   "outputs": [
    {
     "name": "stdout",
     "output_type": "stream",
     "text": [
      "(0, 255)\n",
      "0\n",
      "0\n",
      "250\n",
      "200\n"
     ]
    },
    {
     "name": "stderr",
     "output_type": "stream",
     "text": [
      "C:\\Users\\asong18\\Anaconda3\\envs\\deeplearning\\lib\\site-packages\\gym\\spaces\\box.py:73: UserWarning: \u001b[33mWARN: Box bound precision lowered by casting to float16\u001b[0m\n",
      "  logger.warn(\n"
     ]
    }
   ],
   "source": [
    "# My implementation\n",
    "\n",
    "learning_rate = 0.1\n",
    "env = Center_FOV()\n",
    "def run_qlearn(env, explore_rate, learning_rate, num_episodes=5,total_steps=10, discount_factor = 0.99):\n",
    "\n",
    "\n",
    "    env.render()\n",
    "    \n",
    "    #print(env.canvas.size)\n",
    "    #print([env.action_space.n])\n",
    "    # width, height = pil.size\n",
    "    q_table = np.random.uniform(low = -2, high = 0, size = (env.canvas.size[1], env.canvas.size[0], env.action_space.n))\n",
    "    print(f'qtable shape: {q_table.shape}')\n",
    "    obs = env.reset()\n",
    "\n",
    "    for episode in range(num_episodes):\n",
    "        print(f'episode #: {episode}')\n",
    "        # the states are tuples that index the q-table.   \n",
    "        discrete_state = env.grabber.get_position()\n",
    "        print(f'this is the coordinates: {env.grabber.get_position()}')\n",
    "\n",
    "        done = False\n",
    "        count = 0\n",
    "        while not done or count < total_steps: \n",
    "            action = select_action(env, discrete_state, q_table, explore_rate)\n",
    "            \n",
    "            #env.step(action)\n",
    "            obs, reward, done = env.step(action)  \n",
    "\n",
    "            new_state = env.grabber.get_position()\n",
    "\n",
    "\n",
    "            if not done: \n",
    "                max_future_q = np.max(q_table[new_state])\n",
    "                current_q = q_table[discrete_state+(action,)]\n",
    "                #print(max_future_q)\n",
    "                #print(current_q)\n",
    "                \n",
    "                new_q = (1-learning_rate)*current_q + learning_rate*(reward+discount_factor*max_future_q)\n",
    "\n",
    "                q_table[discrete_state+(action,)]=new_q\n",
    "            \n",
    "            # # if done, then \n",
    "            # elif done: \n",
    "\n",
    "\n",
    "            discrete_state = new_state\n",
    "\n",
    "\n",
    "            #print(env.grabber.get_position(), reward)\n",
    "            #print(reward, env.grabber.get_position())\n",
    "            #env.render()\n",
    "            count +=1\n",
    "\n",
    "            #render every 24th step to see where we are.\n",
    "            if count == total_steps - 1: \n",
    "                env.render()\n",
    "\n",
    "\n",
    "\n",
    "\n",
    "\n",
    "def select_action(env,state, q_table,explore_rate):\n",
    "    # Select a random action\n",
    "    if random.random() < explore_rate:\n",
    "        action = env.action_space.sample()\n",
    "    # Select the action with the highest q\n",
    "    else:\n",
    "        action = int(np.argmax(q_table[state]))\n",
    "    return action"
   ]
  },
  {
   "cell_type": "code",
   "execution_count": 153,
   "metadata": {},
   "outputs": [
    {
     "name": "stdout",
     "output_type": "stream",
     "text": [
      "(0, 255)\n",
      "0\n",
      "0\n",
      "250\n",
      "200\n"
     ]
    },
    {
     "data": {
      "image/png": "[encoded data removed]",
      "text/plain": [
       "<Figure size 432x288 with 1 Axes>"
      ]
     },
     "metadata": {
      "needs_background": "light"
     },
     "output_type": "display_data"
    },
    {
     "name": "stdout",
     "output_type": "stream",
     "text": [
      "qtable shape: (200, 250, 5)\n"
     ]
    },
    {
     "data": {
      "image/png": "[encoded data removed]",
      "text/plain": [
       "<Figure size 432x288 with 1 Axes>"
      ]
     },
     "metadata": {
      "needs_background": "light"
     },
     "output_type": "display_data"
    },
    {
     "name": "stdout",
     "output_type": "stream",
     "text": [
      "127\n",
      "yolo\n",
      "91\n",
      "(127, 91)\n",
      "episode #: 0\n",
      "this is the coordinates: (127, 91)\n"
     ]
    },
    {
     "data": {
      "image/png": "[encoded data removed]",
      "text/plain": [
       "<Figure size 432x288 with 1 Axes>"
      ]
     },
     "metadata": {
      "needs_background": "light"
     },
     "output_type": "display_data"
    },
    {
     "ename": "KeyboardInterrupt",
     "evalue": "",
     "output_type": "error",
     "traceback": [
      "\u001b[1;31m---------------------------------------------------------------------------\u001b[0m",
      "\u001b[1;31mKeyboardInterrupt\u001b[0m                         Traceback (most recent call last)",
      "\u001b[1;32mc:\\Users\\asong18\\Desktop\\Deep_RL_View_Planning\\Deep_RL_code\\CT_View_Planning_DeepRL\\DQN\\custom_gym_env.ipynb Cell 26'\u001b[0m in \u001b[0;36m<module>\u001b[1;34m\u001b[0m\n\u001b[1;32m----> <a href='vscode-notebook-cell:/c%3A/Users/asong18/Desktop/Deep_RL_View_Planning/Deep_RL_code/CT_View_Planning_DeepRL/DQN/custom_gym_env.ipynb#ch0000029?line=0'>1</a>\u001b[0m fin_q_table \u001b[39m=\u001b[39m run_qlearn(Center_FOV(),explore_rate,learning_rate)\n",
      "\u001b[1;32mc:\\Users\\asong18\\Desktop\\Deep_RL_View_Planning\\Deep_RL_code\\CT_View_Planning_DeepRL\\DQN\\custom_gym_env.ipynb Cell 25'\u001b[0m in \u001b[0;36mrun_qlearn\u001b[1;34m(env, explore_rate, learning_rate, num_episodes, total_steps, discount_factor)\u001b[0m\n\u001b[0;32m     <a href='vscode-notebook-cell:/c%3A/Users/asong18/Desktop/Deep_RL_View_Planning/Deep_RL_code/CT_View_Planning_DeepRL/DQN/custom_gym_env.ipynb#ch0000030?line=25'>26</a>\u001b[0m action \u001b[39m=\u001b[39m select_action(env, discrete_state, q_table, explore_rate)\n\u001b[0;32m     <a href='vscode-notebook-cell:/c%3A/Users/asong18/Desktop/Deep_RL_View_Planning/Deep_RL_code/CT_View_Planning_DeepRL/DQN/custom_gym_env.ipynb#ch0000030?line=27'>28</a>\u001b[0m \u001b[39m#env.step(action)\u001b[39;00m\n\u001b[1;32m---> <a href='vscode-notebook-cell:/c%3A/Users/asong18/Desktop/Deep_RL_View_Planning/Deep_RL_code/CT_View_Planning_DeepRL/DQN/custom_gym_env.ipynb#ch0000030?line=28'>29</a>\u001b[0m obs, reward, done \u001b[39m=\u001b[39m env\u001b[39m.\u001b[39;49mstep(action)  \n\u001b[0;32m     <a href='vscode-notebook-cell:/c%3A/Users/asong18/Desktop/Deep_RL_View_Planning/Deep_RL_code/CT_View_Planning_DeepRL/DQN/custom_gym_env.ipynb#ch0000030?line=30'>31</a>\u001b[0m new_state \u001b[39m=\u001b[39m env\u001b[39m.\u001b[39mgrabber\u001b[39m.\u001b[39mget_position()\n\u001b[0;32m     <a href='vscode-notebook-cell:/c%3A/Users/asong18/Desktop/Deep_RL_View_Planning/Deep_RL_code/CT_View_Planning_DeepRL/DQN/custom_gym_env.ipynb#ch0000030?line=33'>34</a>\u001b[0m \u001b[39mif\u001b[39;00m \u001b[39mnot\u001b[39;00m done: \n",
      "\u001b[1;32mc:\\Users\\asong18\\Desktop\\Deep_RL_View_Planning\\Deep_RL_code\\CT_View_Planning_DeepRL\\DQN\\custom_gym_env.ipynb Cell 6'\u001b[0m in \u001b[0;36mCenter_FOV.step\u001b[1;34m(self, action)\u001b[0m\n\u001b[0;32m    <a href='vscode-notebook-cell:/c%3A/Users/asong18/Desktop/Deep_RL_View_Planning/Deep_RL_code/CT_View_Planning_DeepRL/DQN/custom_gym_env.ipynb#ch0000005?line=150'>151</a>\u001b[0m     \u001b[39mself\u001b[39m\u001b[39m.\u001b[39mgrabber\u001b[39m.\u001b[39mmove(\u001b[39m0\u001b[39m, \u001b[39m0\u001b[39m)  \n\u001b[0;32m    <a href='vscode-notebook-cell:/c%3A/Users/asong18/Desktop/Deep_RL_View_Planning/Deep_RL_code/CT_View_Planning_DeepRL/DQN/custom_gym_env.ipynb#ch0000005?line=152'>153</a>\u001b[0m  \u001b[39m# update the new position of the FOV. \u001b[39;00m\n\u001b[1;32m--> <a href='vscode-notebook-cell:/c%3A/Users/asong18/Desktop/Deep_RL_View_Planning/Deep_RL_code/CT_View_Planning_DeepRL/DQN/custom_gym_env.ipynb#ch0000005?line=153'>154</a>\u001b[0m \u001b[39mself\u001b[39m\u001b[39m.\u001b[39mcurrent_FOV \u001b[39m=\u001b[39m \u001b[39mself\u001b[39;49m\u001b[39m.\u001b[39;49mcanvas\u001b[39m.\u001b[39;49mcrop((\u001b[39mself\u001b[39;49m\u001b[39m.\u001b[39;49mgrabber\u001b[39m.\u001b[39;49mx, \u001b[39mself\u001b[39;49m\u001b[39m.\u001b[39;49mgrabber\u001b[39m.\u001b[39;49my, \u001b[39mself\u001b[39;49m\u001b[39m.\u001b[39;49mgrabber\u001b[39m.\u001b[39;49mx\u001b[39m+\u001b[39;49m\u001b[39mself\u001b[39;49m\u001b[39m.\u001b[39;49mgrabber\u001b[39m.\u001b[39;49mFOV_w,\u001b[39mself\u001b[39;49m\u001b[39m.\u001b[39;49mgrabber\u001b[39m.\u001b[39;49my\u001b[39m+\u001b[39;49m\u001b[39mself\u001b[39;49m\u001b[39m.\u001b[39;49mgrabber\u001b[39m.\u001b[39;49mFOV_h))\n\u001b[0;32m    <a href='vscode-notebook-cell:/c%3A/Users/asong18/Desktop/Deep_RL_View_Planning/Deep_RL_code/CT_View_Planning_DeepRL/DQN/custom_gym_env.ipynb#ch0000005?line=154'>155</a>\u001b[0m \u001b[39mself\u001b[39m\u001b[39m.\u001b[39mreward \u001b[39m=\u001b[39m np\u001b[39m.\u001b[39msum(\u001b[39mself\u001b[39m\u001b[39m.\u001b[39mcurrent_FOV)\n\u001b[0;32m    <a href='vscode-notebook-cell:/c%3A/Users/asong18/Desktop/Deep_RL_View_Planning/Deep_RL_code/CT_View_Planning_DeepRL/DQN/custom_gym_env.ipynb#ch0000005?line=159'>160</a>\u001b[0m \u001b[39m# # get sum of pixels after moving. \u001b[39;00m\n\u001b[0;32m    <a href='vscode-notebook-cell:/c%3A/Users/asong18/Desktop/Deep_RL_View_Planning/Deep_RL_code/CT_View_Planning_DeepRL/DQN/custom_gym_env.ipynb#ch0000005?line=160'>161</a>\u001b[0m \u001b[39m# new_state_reward =int( np.sum(self.current_FOV)) \u001b[39;00m\n\u001b[0;32m    <a href='vscode-notebook-cell:/c%3A/Users/asong18/Desktop/Deep_RL_View_Planning/Deep_RL_code/CT_View_Planning_DeepRL/DQN/custom_gym_env.ipynb#ch0000005?line=161'>162</a>\u001b[0m \n\u001b[1;32m   (...)\u001b[0m\n\u001b[0;32m    <a href='vscode-notebook-cell:/c%3A/Users/asong18/Desktop/Deep_RL_View_Planning/Deep_RL_code/CT_View_Planning_DeepRL/DQN/custom_gym_env.ipynb#ch0000005?line=177'>178</a>\u001b[0m \n\u001b[0;32m    <a href='vscode-notebook-cell:/c%3A/Users/asong18/Desktop/Deep_RL_View_Planning/Deep_RL_code/CT_View_Planning_DeepRL/DQN/custom_gym_env.ipynb#ch0000005?line=178'>179</a>\u001b[0m \u001b[39m#update max reward\u001b[39;00m\n",
      "File \u001b[1;32m~\\Anaconda3\\envs\\deeplearning\\lib\\site-packages\\PIL\\Image.py:1147\u001b[0m, in \u001b[0;36mImage.crop\u001b[1;34m(self, box)\u001b[0m\n\u001b[0;32m   <a href='file:///c%3A/Users/asong18/Anaconda3/envs/deeplearning/lib/site-packages/PIL/Image.py?line=1143'>1144</a>\u001b[0m     \u001b[39mreturn\u001b[39;00m \u001b[39mself\u001b[39m\u001b[39m.\u001b[39mcopy()\n\u001b[0;32m   <a href='file:///c%3A/Users/asong18/Anaconda3/envs/deeplearning/lib/site-packages/PIL/Image.py?line=1145'>1146</a>\u001b[0m \u001b[39mself\u001b[39m\u001b[39m.\u001b[39mload()\n\u001b[1;32m-> <a href='file:///c%3A/Users/asong18/Anaconda3/envs/deeplearning/lib/site-packages/PIL/Image.py?line=1146'>1147</a>\u001b[0m \u001b[39mreturn\u001b[39;00m \u001b[39mself\u001b[39m\u001b[39m.\u001b[39m_new(\u001b[39mself\u001b[39;49m\u001b[39m.\u001b[39;49m_crop(\u001b[39mself\u001b[39;49m\u001b[39m.\u001b[39;49mim, box))\n",
      "File \u001b[1;32m~\\Anaconda3\\envs\\deeplearning\\lib\\site-packages\\PIL\\Image.py:1167\u001b[0m, in \u001b[0;36mImage._crop\u001b[1;34m(self, im, box)\u001b[0m\n\u001b[0;32m   <a href='file:///c%3A/Users/asong18/Anaconda3/envs/deeplearning/lib/site-packages/PIL/Image.py?line=1162'>1163</a>\u001b[0m absolute_values \u001b[39m=\u001b[39m (\u001b[39mabs\u001b[39m(x1 \u001b[39m-\u001b[39m x0), \u001b[39mabs\u001b[39m(y1 \u001b[39m-\u001b[39m y0))\n\u001b[0;32m   <a href='file:///c%3A/Users/asong18/Anaconda3/envs/deeplearning/lib/site-packages/PIL/Image.py?line=1164'>1165</a>\u001b[0m _decompression_bomb_check(absolute_values)\n\u001b[1;32m-> <a href='file:///c%3A/Users/asong18/Anaconda3/envs/deeplearning/lib/site-packages/PIL/Image.py?line=1166'>1167</a>\u001b[0m \u001b[39mreturn\u001b[39;00m im\u001b[39m.\u001b[39;49mcrop((x0, y0, x1, y1))\n",
      "\u001b[1;31mKeyboardInterrupt\u001b[0m: "
     ]
    }
   ],
   "source": [
    "fin_q_table = run_qlearn(Center_FOV(),explore_rate,learning_rate)"
   ]
  },
  {
   "cell_type": "code",
   "execution_count": null,
   "metadata": {},
   "outputs": [],
   "source": [
    "# Plot Q Tables to see if it is learning anything. "
   ]
  },
  {
   "cell_type": "code",
   "execution_count": null,
   "metadata": {},
   "outputs": [],
   "source": [
    "fig,ax = plt.subplots(figsize=(10,8))\n",
    "sns.heatmap(fin_q_table[:,:,3])\n",
    "sns.set(font_scale=2)\n",
    "ax.set_title('Q-Table for move West (left)')"
   ]
  },
  {
   "cell_type": "code",
   "execution_count": null,
   "metadata": {},
   "outputs": [],
   "source": []
  },
  {
   "cell_type": "markdown",
   "metadata": {},
   "source": []
  },
  {
   "cell_type": "code",
   "execution_count": null,
   "metadata": {},
   "outputs": [],
   "source": [
    "env = Center_FOV()\n",
    "obs = env.reset()\n",
    "\n",
    "plt.imshow(obs, cmap = 'gray')\n",
    "#plt.colorbar()\n",
    "plt.show()\n",
    "print(env.)\n",
    "print(f'position = {env.grabber.get_position.__ne__}')\n",
    "\n",
    "# count = 0\n",
    "# while True: \n",
    "\n",
    "#     # take random action\n",
    "#     action = env.action_space.sample()\n",
    "#     obs, reward, done = env.step(action)\n",
    "\n",
    "#     print(f\"current reward is: {reward}\")\n",
    "\n",
    "#     screen = env.render(mode = \"rgb_array\")\n",
    "#     plt.imshow(screen, cmap = 'gray')\n",
    "#     plt.show()\n",
    "#     count +=1\n",
    "#     if done == True or count == 10:\n",
    "#         break\n",
    "# env.close()\n",
    "\n",
    "\n",
    "# while True: \n",
    "\n",
    "#     # take random action\n",
    "#     action = env.action_space.sample()\n",
    "#     obs, reward, done = env.step(action)\n",
    "\n",
    "#     print(f\"current reward is: {reward}\")\n",
    "\n",
    "#     screen = env.render(mode = \"rgb_array\")\n",
    "#     plt.imshow(screen, cmap = 'gray')\n",
    "#     plt.show()\n",
    "\n",
    "#     if done == True:\n",
    "#         break\n",
    "# env.close()\n",
    "        "
   ]
  }
 ],
 "metadata": {
  "interpreter": {
   "hash": "1764c09509337c35a74a9007914c2c31089d55b126a5649cb2cc897a85a7c720"
  },
  "kernelspec": {
   "display_name": "Python 3.9.10 ('deep_learning')",
   "language": "python",
   "name": "python3"
  },
  "language_info": {
   "codemirror_mode": {
    "name": "ipython",
    "version": 3
   },
   "file_extension": ".py",
   "mimetype": "text/x-python",
   "name": "python",
   "nbconvert_exporter": "python",
   "pygments_lexer": "ipython3",
   "version": "3.9.10"
  },
  "orig_nbformat": 4
 },
 "nbformat": 4,
 "nbformat_minor": 2
}
