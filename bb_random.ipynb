{
 "cells": [
  {
   "cell_type": "markdown",
   "id": "1351f261",
   "metadata": {},
   "source": [
    "#### setting up for like. stuff."
   ]
  },
  {
   "cell_type": "code",
   "execution_count": 1,
   "id": "9e0e8f74",
   "metadata": {},
   "outputs": [
    {
     "name": "stdout",
     "output_type": "stream",
     "text": [
      "/home/natalie/nsalab/Users/naw1/desk2/dl/gym-baby\n"
     ]
    }
   ],
   "source": [
    "cd gym-baby"
   ]
  },
  {
   "cell_type": "markdown",
   "id": "0a68ae38",
   "metadata": {},
   "source": [
    "#### you probably only have to run the below command once. idk. yea"
   ]
  },
  {
   "cell_type": "code",
   "execution_count": 2,
   "id": "c71684e1",
   "metadata": {},
   "outputs": [
    {
     "name": "stdout",
     "output_type": "stream",
     "text": [
      "Obtaining file:///home/natalie/nsalab/Users/naw1/desk2/dl/gym-baby\n",
      "Requirement already satisfied: gym in /home/natalie/nsalab/Users/naw1/desk2/dl/gym (from gym-maze==0.4) (0.23.1)\n",
      "Requirement already satisfied: pygame in /home/natalie/anaconda3/lib/python3.9/site-packages (from gym-maze==0.4) (2.1.2)\n",
      "Requirement already satisfied: numpy in /home/natalie/anaconda3/lib/python3.9/site-packages (from gym-maze==0.4) (1.20.3)\n",
      "Requirement already satisfied: cloudpickle>=1.2.0 in /home/natalie/anaconda3/lib/python3.9/site-packages (from gym->gym-maze==0.4) (2.0.0)\n",
      "Requirement already satisfied: gym_notices>=0.0.4 in /home/natalie/anaconda3/lib/python3.9/site-packages (from gym->gym-maze==0.4) (0.0.6)\n",
      "Requirement already satisfied: importlib_metadata>=4.10.0 in /home/natalie/anaconda3/lib/python3.9/site-packages (from gym->gym-maze==0.4) (4.11.3)\n",
      "Requirement already satisfied: zipp>=0.5 in /home/natalie/anaconda3/lib/python3.9/site-packages (from importlib_metadata>=4.10.0->gym->gym-maze==0.4) (3.6.0)\n",
      "Installing collected packages: gym-maze\n",
      "  Attempting uninstall: gym-maze\n",
      "    Found existing installation: gym-maze 0.4\n",
      "    Uninstalling gym-maze-0.4:\n",
      "      Successfully uninstalled gym-maze-0.4\n",
      "  Running setup.py develop for gym-maze\n",
      "Successfully installed gym-maze\n",
      "Note: you may need to restart the kernel to use updated packages.\n"
     ]
    }
   ],
   "source": [
    "pip install -e ."
   ]
  },
  {
   "cell_type": "code",
   "execution_count": 3,
   "id": "2b202e06",
   "metadata": {},
   "outputs": [],
   "source": [
    "import gym\n",
    "import gym_baby\n",
    "import numpy as np\n",
    "import time"
   ]
  },
  {
   "cell_type": "code",
   "execution_count": 4,
   "id": "df97257f",
   "metadata": {},
   "outputs": [],
   "source": [
    "env = gym.make('maze-v0')"
   ]
  },
  {
   "cell_type": "code",
   "execution_count": null,
   "id": "4600be15",
   "metadata": {
    "scrolled": false
   },
   "outputs": [
    {
     "name": "stdout",
     "output_type": "stream",
     "text": [
      "0\n"
     ]
    }
   ],
   "source": [
    "for i_episode in range(20):\n",
    "    observation = env.reset()\n",
    "    print(i_episode)\n",
    "    for t in range(200):\n",
    "        #env.render()\n",
    "        #print(observation)\n",
    "        action = env.action_space.sample()\n",
    "        #print(reward)\n",
    "        observation, reward, done, info = env.step(action)\n",
    "        env.render()\n",
    "        time.sleep(0.05)\n",
    "        if done:\n",
    "            env.reset()\n",
    "            print(\"Episode finished after {} timesteps\".format(t+1))\n",
    "            time.sleep(2)\n",
    "            break\n",
    "env.close()\n"
   ]
  },
  {
   "cell_type": "code",
   "execution_count": null,
   "id": "6cf7163e",
   "metadata": {},
   "outputs": [],
   "source": []
  },
  {
   "cell_type": "code",
   "execution_count": null,
   "id": "78bc2721",
   "metadata": {},
   "outputs": [],
   "source": []
  },
  {
   "cell_type": "code",
   "execution_count": null,
   "id": "e778edc3",
   "metadata": {},
   "outputs": [],
   "source": []
  },
  {
   "cell_type": "code",
   "execution_count": null,
   "id": "3fca9ecb",
   "metadata": {},
   "outputs": [],
   "source": []
  }
 ],
 "metadata": {
  "kernelspec": {
   "display_name": "Python 3 (ipykernel)",
   "language": "python",
   "name": "python3"
  },
  "language_info": {
   "codemirror_mode": {
    "name": "ipython",
    "version": 3
   },
   "file_extension": ".py",
   "mimetype": "text/x-python",
   "name": "python",
   "nbconvert_exporter": "python",
   "pygments_lexer": "ipython3",
   "version": "3.9.7"
  }
 },
 "nbformat": 4,
 "nbformat_minor": 5
}
