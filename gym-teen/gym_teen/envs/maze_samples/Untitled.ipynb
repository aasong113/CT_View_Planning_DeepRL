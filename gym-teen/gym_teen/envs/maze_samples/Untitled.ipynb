{
 "cells": [
  {
   "cell_type": "code",
   "execution_count": 1,
   "id": "4ab223aa",
   "metadata": {},
   "outputs": [
    {
     "name": "stdout",
     "output_type": "stream",
     "text": [
      "\u001b[0m\u001b[01;32mmaze2d_100x100.npy\u001b[0m*  \u001b[01;32mmaze2d_3x3.npy\u001b[0m*  \u001b[01;32mUntitled.ipynb\u001b[0m*\r\n",
      "\u001b[01;32mmaze2d_10x10.npy\u001b[0m*    \u001b[01;32mmaze2d_5x5.npy\u001b[0m*\r\n"
     ]
    }
   ],
   "source": [
    "ls"
   ]
  },
  {
   "cell_type": "code",
   "execution_count": 2,
   "id": "0a96c3c6",
   "metadata": {},
   "outputs": [],
   "source": [
    "import numpy as np\n",
    "data = np.load('maze2d_5x5.npy')\n"
   ]
  },
  {
   "cell_type": "code",
   "execution_count": 3,
   "id": "a1c0e485",
   "metadata": {},
   "outputs": [
    {
     "data": {
      "text/plain": [
       "array([[2, 4, 1, 2, 1],\n",
       "       [4, 4, 8, 4, 2],\n",
       "       [8, 1, 1, 1, 1],\n",
       "       [2, 4, 4, 4, 8],\n",
       "       [4, 8, 1, 1, 1]])"
      ]
     },
     "execution_count": 3,
     "metadata": {},
     "output_type": "execute_result"
    }
   ],
   "source": [
    "data"
   ]
  },
  {
   "cell_type": "code",
   "execution_count": 4,
   "id": "d2901da5",
   "metadata": {},
   "outputs": [],
   "source": [
    "dat3 = np.load('maze2d_3x3.npy')"
   ]
  },
  {
   "cell_type": "code",
   "execution_count": 5,
   "id": "d73f3b45",
   "metadata": {},
   "outputs": [
    {
     "data": {
      "text/plain": [
       "array([[2, 1, 1],\n",
       "       [2, 2, 8],\n",
       "       [4, 8, 8]])"
      ]
     },
     "execution_count": 5,
     "metadata": {},
     "output_type": "execute_result"
    }
   ],
   "source": [
    "dat3"
   ]
  },
  {
   "cell_type": "code",
   "execution_count": 6,
   "id": "acb1d19e",
   "metadata": {},
   "outputs": [],
   "source": [
    "dat10 = np.load('maze2d_10x10.npy')"
   ]
  },
  {
   "cell_type": "code",
   "execution_count": 7,
   "id": "d1adc77a",
   "metadata": {},
   "outputs": [
    {
     "data": {
      "text/plain": [
       "array([[2, 4, 2, 1, 1, 1, 1, 4, 4, 2],\n",
       "       [4, 8, 2, 2, 1, 1, 8, 2, 1, 1],\n",
       "       [2, 1, 1, 4, 2, 8, 8, 4, 4, 2],\n",
       "       [4, 8, 2, 8, 4, 2, 8, 1, 1, 2],\n",
       "       [4, 2, 1, 8, 2, 4, 4, 2, 8, 2],\n",
       "       [8, 2, 4, 8, 4, 4, 2, 4, 8, 2],\n",
       "       [8, 2, 8, 4, 2, 1, 1, 1, 1, 2],\n",
       "       [8, 4, 8, 8, 2, 2, 4, 4, 8, 2],\n",
       "       [8, 1, 2, 1, 2, 2, 8, 2, 1, 1],\n",
       "       [4, 8, 1, 8, 1, 4, 8, 1, 4, 8]])"
      ]
     },
     "execution_count": 7,
     "metadata": {},
     "output_type": "execute_result"
    }
   ],
   "source": [
    "dat10"
   ]
  },
  {
   "cell_type": "code",
   "execution_count": 9,
   "id": "9a231bf8",
   "metadata": {},
   "outputs": [
    {
     "data": {
      "text/plain": [
       "array([0, 0])"
      ]
     },
     "execution_count": 9,
     "metadata": {},
     "output_type": "execute_result"
    }
   ],
   "source": [
    "np.zeros(2,dtype=int)"
   ]
  },
  {
   "cell_type": "code",
   "execution_count": 10,
   "id": "b5570e57",
   "metadata": {},
   "outputs": [
    {
     "data": {
      "text/plain": [
       "array([9, 9])"
      ]
     },
     "execution_count": 10,
     "metadata": {},
     "output_type": "execute_result"
    }
   ],
   "source": [
    "np.array((10,10)) - np.array((1, 1))"
   ]
  },
  {
   "cell_type": "code",
   "execution_count": 11,
   "id": "221aae9d",
   "metadata": {},
   "outputs": [
    {
     "data": {
      "text/plain": [
       "array([6, 4])"
      ]
     },
     "execution_count": 11,
     "metadata": {},
     "output_type": "execute_result"
    }
   ],
   "source": [
    "np.array([6,4])"
   ]
  },
  {
   "cell_type": "code",
   "execution_count": null,
   "id": "1dade29c",
   "metadata": {},
   "outputs": [],
   "source": []
  }
 ],
 "metadata": {
  "kernelspec": {
   "display_name": "Python 3 (ipykernel)",
   "language": "python",
   "name": "python3"
  },
  "language_info": {
   "codemirror_mode": {
    "name": "ipython",
    "version": 3
   },
   "file_extension": ".py",
   "mimetype": "text/x-python",
   "name": "python",
   "nbconvert_exporter": "python",
   "pygments_lexer": "ipython3",
   "version": "3.9.7"
  }
 },
 "nbformat": 4,
 "nbformat_minor": 5
}
